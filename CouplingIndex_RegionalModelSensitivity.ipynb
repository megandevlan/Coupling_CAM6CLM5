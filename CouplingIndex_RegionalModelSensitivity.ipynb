{
 "cells": [
  {
   "cell_type": "markdown",
   "metadata": {},
   "source": [
    "# Let's look closer at some regions that are showing big changes in coupling index based on changes between CESM1 and CESM2. \n",
    "<b> Author:</b> Meg Fowler <br>\n",
    "<b> Date:</b> 2 Oct 2020 <br><br>\n",
    "<b>Short description:</b> We have some interesting results from global maps of CI changes, but a better way to dig in might be to look at particularly interesting regions. What's going on in each? We can do that by picking out single points to assess vertical profiles, timeseries, etc., or also by drilling down maps into smaller regions to really understand some of the complexity there. <br><br>"
   ]
  },
  {
   "cell_type": "code",
   "execution_count": 1,
   "metadata": {},
   "outputs": [],
   "source": [
    "## Import libraries \n",
    "import comet as cm \n",
    "import numpy as np \n",
    "import xarray as xr \n",
    "import pickle\n",
    "import pandas as pd\n",
    "import datetime \n",
    "from ComputeLCLpressure_function import ComputeLCLpressure\n",
    "\n",
    "# Plotting utils \n",
    "import matplotlib.pyplot as plt \n",
    "import matplotlib.colors as colors\n",
    "import cartopy\n",
    "import cartopy.feature as cfeature\n",
    "import cartopy.crs as ccrs\n",
    "import cartopy.util\n"
   ]
  },
  {
   "cell_type": "markdown",
   "metadata": {},
   "source": [
    "## Read in data and do preliminary processing"
   ]
  },
  {
   "cell_type": "markdown",
   "metadata": {},
   "source": [
    "### Read in files containing coupling index \n",
    "This part may need to be modified for future use, but the goal is that the rest of the script will *not* necessarily need to be."
   ]
  },
  {
   "cell_type": "code",
   "execution_count": 2,
   "metadata": {},
   "outputs": [
    {
     "name": "stdout",
     "output_type": "stream",
     "text": [
      "Done reading in CESM2 coupling index files\n",
      "Done reading in CESM1 coupling index files\n",
      "Done reading in CLM4.5 coupling index files\n"
     ]
    }
   ],
   "source": [
    "# -----------------------------------------------------\n",
    "#  Read in CESM2 coupling index files\n",
    "# ----------------------------------------------------- \n",
    "\n",
    "# Define directory where files are saved \n",
    "dataDir = '/Users/mdfowler/Documents/Analysis/Coupling_initial/Coupling_CAM6CLM5/processed_data/'\n",
    "\n",
    "# Define file names \n",
    "file_LH      = 'TerraLeg_coupling_lhf_vs_soilm_1979-2006.nc'   # CI(SM_10cm, LHFLX)\n",
    "file_TerraSH = 'TerraLeg_coupling_shf_vs_soilm_1979-2006.nc'   # CI(SM_10cm, SHFLX)\n",
    "file_AtmoSH  = 'AtmoLeg_coupling_Plcl_vs_shf_1979-2006.nc'     # CI(SHFLX, P_lcl)\n",
    "\n",
    "# Read in coupling indices computed previously (in ExploreData.ipynb)\n",
    "atmoLeg_CESM2  = xr.open_dataset(dataDir+file_AtmoSH,  decode_times=False)\n",
    "terraLeg_CESM2 = xr.open_dataset(dataDir+file_TerraSH, decode_times=False)\n",
    "terraLH_CESM2  = xr.open_dataset(dataDir+file_LH,      decode_times=False)\n",
    "\n",
    "# Save lat and lon into individual arrays (easier to reference later)\n",
    "#  NOTE: it is assumed that all coupling indices are computed on a common grid. \n",
    "#        If that's not the case, then at the very least, lat/lon should be read in \n",
    "#        and saved for each different grid. \n",
    "lat = atmoLeg_CESM2.lat.values\n",
    "lon = atmoLeg_CESM2.lon.values\n",
    "\n",
    "print('Done reading in CESM2 coupling index files')\n",
    "\n",
    "\n",
    "# -----------------------------------------------------\n",
    "#  Read in CESM1 coupling index files\n",
    "# ----------------------------------------------------- \n",
    "\n",
    "# Define data directory again \n",
    "dataDir = '/Users/mdfowler/Documents/Analysis/Coupling_initial/Coupling_CAM6CLM5/processed_data/'\n",
    "\n",
    "# Define file names \n",
    "file_LH      = 'TerraLeg_coupling_lhf_vs_soilm_CESM1.nc'\n",
    "file_TerraSH = 'TerraLeg_coupling_shf_vs_soilm_CESM1.nc'\n",
    "file_AtmoSH  = 'AtmoLeg_coupling_Plcl_vs_shf_CESM1.nc'\n",
    "\n",
    "# Read in coupling indices computed previously\n",
    "atmoLeg_CESM1  = xr.open_dataset(dataDir+file_AtmoSH,  decode_times=False)\n",
    "terraLeg_CESM1 = xr.open_dataset(dataDir+file_TerraSH, decode_times=False)\n",
    "terraLH_CESM1  = xr.open_dataset(dataDir+file_LH,      decode_times=False)\n",
    "\n",
    "print('Done reading in CESM1 coupling index files')\n",
    "\n",
    "\n",
    "# -----------------------------------------------------\n",
    "#  Read in CAM6+CLM4.5 coupling index files\n",
    "# ----------------------------------------------------- \n",
    "\n",
    "# Define data directory again\n",
    "dataDir = '/Users/mdfowler/Documents/Analysis/Coupling_initial/Coupling_CAM6CLM5/processed_data/'\n",
    "\n",
    "# Define file name \n",
    "file_LH      = 'TerraLeg_coupling_lhf_vs_soilm_CESM2-CLM45.nc'\n",
    "file_TerraSH = 'TerraLeg_coupling_shf_vs_soilm_CESM2-CLM45.nc'\n",
    "file_AtmoSH  = 'AtmoLeg_coupling_Plcl_vs_shf_CESM2-CLM45.nc'\n",
    "\n",
    "# Read in coupling indices computed previously\n",
    "atmoLeg_CLM45  = xr.open_dataset(dataDir+file_AtmoSH,  decode_times=False)\n",
    "terraLeg_CLM45 = xr.open_dataset(dataDir+file_TerraSH, decode_times=False)\n",
    "terraLH_CLM45  = xr.open_dataset(dataDir+file_LH,      decode_times=False)\n",
    "\n",
    "print('Done reading in CLM4.5 coupling index files')\n"
   ]
  },
  {
   "cell_type": "markdown",
   "metadata": {},
   "source": [
    "### Some data processing on CI data: \n",
    "* Isolate JJA arrays \n",
    "* Mask out gridcells in AtmoLeg that fall over the ocean \n",
    "* Save the differences between simulations to arrays"
   ]
  },
  {
   "cell_type": "code",
   "execution_count": 6,
   "metadata": {},
   "outputs": [],
   "source": [
    "# ------------------------------------------------------\n",
    "#   Isolate seasonal CI into individual arrays based on model/season \n",
    "#   Note: Seasons are ordered as: [DJF, JJA, MAM, SON].\n",
    "#         To confirm: print(terraLH_CESM2.season.values)\n",
    "# ------------------------------------------------------\n",
    "\n",
    "# CI (SM_10cm, LHFLX)\n",
    "LHcoupl_JJA_cesm1 = np.squeeze(np.asarray(terraLH_CESM1.soilM_10_LHFLX_CI[1,:,:]))\n",
    "LHcoupl_DJF_cesm1 = np.squeeze(np.asarray(terraLH_CESM1.soilM_10_LHFLX_CI[0,:,:]))\n",
    "LHcoupl_JJA_cesm2 = np.squeeze(np.asarray(terraLH_CESM2.mrsos_hfls_CI[1,:,:]))\n",
    "LHcoupl_DJF_cesm2 = np.squeeze(np.asarray(terraLH_CESM2.mrsos_hfls_CI[0,:,:]))\n",
    "LHcoupl_JJA_clm45 = np.squeeze(np.asarray(terraLH_CLM45.soilM_10_LHFLX_CI[1,:,:]))\n",
    "LHcoupl_DJF_clm45 = np.squeeze(np.asarray(terraLH_CLM45.soilM_10_LHFLX_CI[0,:,:]))\n",
    "\n",
    "\n",
    "# CI (SM_10cm, SHFLX)\n",
    "TerraLeg_JJA_cesm1 = np.squeeze(np.asarray(terraLeg_CESM1.soilM_10_SHFLX_CI[1,:,:]))\n",
    "TerraLeg_JJA_cesm2 = np.squeeze(np.asarray(terraLeg_CESM2.mrsos_hfss_CI[1,:,:]))\n",
    "TerraLeg_JJA_clm45 = np.squeeze(np.asarray(terraLeg_CLM45.soilM_10_SHFLX_CI[1,:,:]))\n",
    "\n",
    "\n",
    "# CI (SHFLX, Plcl)\n",
    "AtmoLeg_JJA_cesm1  = np.squeeze(np.asarray(atmoLeg_CESM1.SHFLX_Plcl_CI[1,:,:]))\n",
    "AtmoLeg_JJA_cesm2  = np.squeeze(np.asarray(atmoLeg_CESM2.hfss_Plcl_CI[1,:,:]))\n",
    "AtmoLeg_JJA_clm45  = np.squeeze(np.asarray(atmoLeg_CLM45.SHFLX_Plcl_CI[1,:,:]))\n",
    "\n"
   ]
  },
  {
   "cell_type": "code",
   "execution_count": 8,
   "metadata": {},
   "outputs": [],
   "source": [
    "# ------------------------------------------------------\n",
    "#  Define land mask to only consider land points \n",
    "# ------------------------------------------------------\n",
    "\n",
    "# Based on TerraLeg, since that's only defined where there is soil moisture (and thus, land). \n",
    "lndMask = np.full([len(lat),len(lon)],np.nan)\n",
    "lndMask[np.where(np.isfinite(TerraLeg_JJA_cesm1))] = 1 \n",
    "\n",
    "# Mask out ocean gridpoints for AtmoLeg \n",
    "AtmoLeg_JJA_cesm1 = AtmoLeg_JJA_cesm1*lndMask\n",
    "AtmoLeg_JJA_cesm2 = AtmoLeg_JJA_cesm2*lndMask\n",
    "AtmoLeg_JJA_clm45 = AtmoLeg_JJA_clm45*lndMask\n"
   ]
  },
  {
   "cell_type": "code",
   "execution_count": 12,
   "metadata": {},
   "outputs": [],
   "source": [
    "# ------------------------------------------------------\n",
    "#  Save model differences to individual arrays as well \n",
    "# ------------------------------------------------------\n",
    "\n",
    "# Differences in atmospheric leg of CI\n",
    "atmoDiff_CESM2vCESM1 = AtmoLeg_JJA_cesm2 - AtmoLeg_JJA_cesm1  # Impact of upgrading CAM and CLM \n",
    "atmoDiff_CESM2vCLM45 = AtmoLeg_JJA_cesm2 - AtmoLeg_JJA_clm45  # Impact of upgrading CAM \n",
    "\n",
    "# Difference in terrestrial leg of CI \n",
    "terraDiff_CESM2vCESM1 = TerraLeg_JJA_cesm2 - TerraLeg_JJA_cesm1 # Impact of upgrading CAM and CLM  \n",
    "terraDiff_CESM2vCLM45 = TerraLeg_JJA_cesm2 - TerraLeg_JJA_clm45 # Impact of upgrading CAM \n"
   ]
  },
  {
   "cell_type": "markdown",
   "metadata": {},
   "source": [
    "### Read in files containing information on underlying variables: SM, SHF, and Plcl "
   ]
  },
  {
   "cell_type": "code",
   "execution_count": 16,
   "metadata": {},
   "outputs": [],
   "source": [
    "# ------------------------------------------------------\n",
    "#   Read in files containing covariances \n",
    "# ------------------------------------------------------\n",
    "dataDir   = '/Users/mdfowler/Documents/Analysis/Coupling_initial/Coupling_CAM6CLM5/processed_data/'\n",
    "terraFile = dataDir+'Covars_SM-SHF.p'\n",
    "atmoFile  = dataDir+'Covars_SHF-Plcl.p'\n",
    "\n",
    "# Load data from pickle files \n",
    "covarCESM2_terra, covarCESM1_terra, covarCLM45_terra, covarCAM5_terra = pickle.load( open(terraFile, \"rb\") )\n",
    "covarCESM2_atmo, covarCESM1_atmo, covarCLM45_atmo, covarCAM5_atmo     = pickle.load( open(atmoFile, \"rb\") )\n",
    "\n",
    "# ------------------------------------------------------\n",
    "#   Read in files containing raw variables of interest  \n",
    "# ------------------------------------------------------\n",
    "dataDir   = '/Users/mdfowler/Documents/Analysis/Coupling_initial/data/day/'\n",
    "CESM1file = dataDir+'CESM1_CI_variables-SHFLX_SM_Plcl.p'\n",
    "CESM2file = dataDir+'CESM2_CI_variables-SHFLX_SM_Plcl.p'\n",
    "CLM45file = dataDir+'CLM45_CI_variables-SHFLX_SM_Plcl.p'\n",
    "\n",
    "# Load from pickle file \n",
    "SHflx_CESM2, soilM10_CESM2, Plcl_CESM2, SHFLX_CESM2_time = pickle.load( open(CESM2file,\"rb\")) # 1979-2006(Dec)\n",
    "SHflx_CESM1, soilM10_CESM1, Plcl_CESM1, SHflx_CESM1_time = pickle.load( open(CESM1file,\"rb\")) # 1979-2006(Nov)\n",
    "SHflx_CLM45, soilM10_CLM45, Plcl_CLM45, SHflx_CLM45_time = pickle.load( open(CLM45file,\"rb\")) # 1980-2005(Dec)\n"
   ]
  },
  {
   "cell_type": "markdown",
   "metadata": {},
   "source": [
    "Just to note, the time periods aren't *entirely* consistent between each model version (though very similar). For the fully coupled CESM simulations, data for the coupling index and for the underlying variables runs from Jan 1979 through Nov/Dec 2006. For the CLM4.5 simulation, data is from Jan 1980 through Dec 2005. So two years less data go into computing mean behavior for CLM4.5. <br> <br>\n",
    "I personally doubt this has a huge impact - sensitivity tests on 5-year selections of data showed consistent coupling index results, so I don't think adding/removing a year or two out of a 25-30 year record is critical. <br><br>"
   ]
  },
  {
   "cell_type": "markdown",
   "metadata": {},
   "source": [
    "## To start simply, let's make zonal mean plots of underlying variable changes \n",
    "These can then be compared with the zonal mean plots of CI made previously"
   ]
  },
  {
   "cell_type": "code",
   "execution_count": 29,
   "metadata": {},
   "outputs": [
    {
     "name": "stderr",
     "output_type": "stream",
     "text": [
      "<ipython-input-29-a7a271a52b3e>:11: RuntimeWarning: Mean of empty slice\n",
      "  lonMean_shflx_CESM2 = np.nanmean(shflx_CESM2_JJA*lndMask,axis=1) # Average over longitude\n",
      "<ipython-input-29-a7a271a52b3e>:12: RuntimeWarning: Mean of empty slice\n",
      "  lonMean_shflx_CESM1 = np.nanmean(shflx_CESM1_JJA*lndMask,axis=1)\n",
      "<ipython-input-29-a7a271a52b3e>:13: RuntimeWarning: Mean of empty slice\n",
      "  lonMean_shflx_CLM45 = np.nanmean(shflx_CLM45_JJA*lndMask,axis=1)\n",
      "<ipython-input-29-a7a271a52b3e>:17: RuntimeWarning: Mean of empty slice\n",
      "  soilm_CESM2_JJA = np.nanmean(soilM10_CESM2,axis=0)  # Average over JJA\n",
      "<ipython-input-29-a7a271a52b3e>:18: RuntimeWarning: Mean of empty slice\n",
      "  soilm_CESM1_JJA = np.nanmean(soilM10_CESM1,axis=0)\n",
      "<ipython-input-29-a7a271a52b3e>:19: RuntimeWarning: Mean of empty slice\n",
      "  soilm_CLM45_JJA = np.nanmean(soilM10_CLM45,axis=0)\n",
      "<ipython-input-29-a7a271a52b3e>:21: RuntimeWarning: Mean of empty slice\n",
      "  lonMean_soilm_CESM2 = np.nanmean(soilm_CESM2_JJA*lndMask,axis=1) # Average over longitude\n",
      "<ipython-input-29-a7a271a52b3e>:22: RuntimeWarning: Mean of empty slice\n",
      "  lonMean_soilm_CESM1 = np.nanmean(soilm_CESM1_JJA*lndMask,axis=1)\n",
      "<ipython-input-29-a7a271a52b3e>:23: RuntimeWarning: Mean of empty slice\n",
      "  lonMean_soilm_CLM45 = np.nanmean(soilm_CLM45_JJA*lndMask,axis=1)\n",
      "<ipython-input-29-a7a271a52b3e>:31: RuntimeWarning: Mean of empty slice\n",
      "  lonMean_plcl_CESM2 = np.nanmean(plcl_CESM2_JJA*lndMask,axis=1) # Average over longitude\n",
      "<ipython-input-29-a7a271a52b3e>:32: RuntimeWarning: Mean of empty slice\n",
      "  lonMean_plcl_CESM1 = np.nanmean(plcl_CESM1_JJA*lndMask,axis=1)\n",
      "<ipython-input-29-a7a271a52b3e>:33: RuntimeWarning: Mean of empty slice\n",
      "  lonMean_plcl_CLM45 = np.nanmean(plcl_CLM45_JJA*lndMask,axis=1)\n",
      "<ipython-input-29-a7a271a52b3e>:37: RuntimeWarning: Mean of empty slice\n",
      "  covarTerra_CESM2_JJA = np.nanmean(covarCESM2_terra,axis=0)  # Average over JJA\n",
      "<ipython-input-29-a7a271a52b3e>:38: RuntimeWarning: Mean of empty slice\n",
      "  covarTerra_CESM1_JJA = np.nanmean(covarCESM1_terra,axis=0)\n",
      "<ipython-input-29-a7a271a52b3e>:39: RuntimeWarning: Mean of empty slice\n",
      "  covarTerra_CLM45_JJA = np.nanmean(covarCLM45_terra,axis=0)\n",
      "<ipython-input-29-a7a271a52b3e>:41: RuntimeWarning: Mean of empty slice\n",
      "  lonMean_covarTerra_CESM2 = np.nanmean(covarTerra_CESM2_JJA*lndMask,axis=1) # Average over longitude\n",
      "<ipython-input-29-a7a271a52b3e>:42: RuntimeWarning: Mean of empty slice\n",
      "  lonMean_covarTerra_CESM1 = np.nanmean(covarTerra_CESM1_JJA*lndMask,axis=1)\n",
      "<ipython-input-29-a7a271a52b3e>:43: RuntimeWarning: Mean of empty slice\n",
      "  lonMean_covarTerra_CLM45 = np.nanmean(covarTerra_CLM45_JJA*lndMask,axis=1)\n",
      "<ipython-input-29-a7a271a52b3e>:51: RuntimeWarning: Mean of empty slice\n",
      "  lonMean_covarAtmo_CESM2 = np.nanmean(covarAtmo_CESM2_JJA*lndMask,axis=1) # Average over longitude\n",
      "<ipython-input-29-a7a271a52b3e>:52: RuntimeWarning: Mean of empty slice\n",
      "  lonMean_covarAtmo_CESM1 = np.nanmean(covarAtmo_CESM1_JJA*lndMask,axis=1)\n",
      "<ipython-input-29-a7a271a52b3e>:53: RuntimeWarning: Mean of empty slice\n",
      "  lonMean_covarAtmo_CLM45 = np.nanmean(covarAtmo_CLM45_JJA*lndMask,axis=1)\n"
     ]
    }
   ],
   "source": [
    "# ------------------------------------------------------\n",
    "#   Compute zonal means of variables \n",
    "#     First, average over JJA. Then average over longitude\n",
    "# ------------------------------------------------------\n",
    "\n",
    "# ----- SHFLX -----\n",
    "shflx_CESM2_JJA = np.nanmean(SHflx_CESM2,axis=0)  # Average over JJA \n",
    "shflx_CESM1_JJA = np.nanmean(SHflx_CESM1,axis=0)\n",
    "shflx_CLM45_JJA = np.nanmean(SHflx_CLM45,axis=0)\n",
    "\n",
    "lonMean_shflx_CESM2 = np.nanmean(shflx_CESM2_JJA*lndMask,axis=1) # Average over longitude \n",
    "lonMean_shflx_CESM1 = np.nanmean(shflx_CESM1_JJA*lndMask,axis=1)\n",
    "lonMean_shflx_CLM45 = np.nanmean(shflx_CLM45_JJA*lndMask,axis=1)\n",
    "# -----------------\n",
    "\n",
    "# ----- SoilM_10CM -----\n",
    "soilm_CESM2_JJA = np.nanmean(soilM10_CESM2,axis=0)  # Average over JJA \n",
    "soilm_CESM1_JJA = np.nanmean(soilM10_CESM1,axis=0)\n",
    "soilm_CLM45_JJA = np.nanmean(soilM10_CLM45,axis=0)\n",
    "\n",
    "lonMean_soilm_CESM2 = np.nanmean(soilm_CESM2_JJA*lndMask,axis=1) # Average over longitude \n",
    "lonMean_soilm_CESM1 = np.nanmean(soilm_CESM1_JJA*lndMask,axis=1)\n",
    "lonMean_soilm_CLM45 = np.nanmean(soilm_CLM45_JJA*lndMask,axis=1)\n",
    "# ---------------------\n",
    "\n",
    "# ----- Plcl -----\n",
    "plcl_CESM2_JJA = np.nanmean(Plcl_CESM2,axis=0)  # Average over JJA \n",
    "plcl_CESM1_JJA = np.nanmean(Plcl_CESM1,axis=0)\n",
    "plcl_CLM45_JJA = np.nanmean(Plcl_CLM45,axis=0)\n",
    "\n",
    "lonMean_plcl_CESM2 = np.nanmean(plcl_CESM2_JJA*lndMask,axis=1) # Average over longitude \n",
    "lonMean_plcl_CESM1 = np.nanmean(plcl_CESM1_JJA*lndMask,axis=1)\n",
    "lonMean_plcl_CLM45 = np.nanmean(plcl_CLM45_JJA*lndMask,axis=1)\n",
    "# -----------------\n",
    "\n",
    "# ----- Covar(SM, SHFLX) -----\n",
    "covarTerra_CESM2_JJA = np.nanmean(covarCESM2_terra,axis=0)  # Average over JJA \n",
    "covarTerra_CESM1_JJA = np.nanmean(covarCESM1_terra,axis=0)\n",
    "covarTerra_CLM45_JJA = np.nanmean(covarCLM45_terra,axis=0)\n",
    "\n",
    "lonMean_covarTerra_CESM2 = np.nanmean(covarTerra_CESM2_JJA*lndMask,axis=1) # Average over longitude \n",
    "lonMean_covarTerra_CESM1 = np.nanmean(covarTerra_CESM1_JJA*lndMask,axis=1)\n",
    "lonMean_covarTerra_CLM45 = np.nanmean(covarTerra_CLM45_JJA*lndMask,axis=1)\n",
    "# -----------------------------\n",
    "\n",
    "# ----- Covar(SHFLX, Plcl) -----\n",
    "covarAtmo_CESM2_JJA = np.nanmean(covarCESM2_atmo,axis=0)  # Average over JJA \n",
    "covarAtmo_CESM1_JJA = np.nanmean(covarCESM1_atmo,axis=0)\n",
    "covarAtmo_CLM45_JJA = np.nanmean(covarCLM45_atmo,axis=0)\n",
    "\n",
    "lonMean_covarAtmo_CESM2 = np.nanmean(covarAtmo_CESM2_JJA*lndMask,axis=1) # Average over longitude \n",
    "lonMean_covarAtmo_CESM1 = np.nanmean(covarAtmo_CESM1_JJA*lndMask,axis=1)\n",
    "lonMean_covarAtmo_CLM45 = np.nanmean(covarAtmo_CLM45_JJA*lndMask,axis=1)\n",
    "# -----------------------------\n"
   ]
  },
  {
   "cell_type": "code",
   "execution_count": 39,
   "metadata": {},
   "outputs": [
    {
     "data": {
      "text/plain": [
       "<matplotlib.lines.Line2D at 0x7fd038c42d60>"
      ]
     },
     "execution_count": 39,
     "metadata": {},
     "output_type": "execute_result"
    },
    {
     "data": {
      "image/png": "[encoded data removed]",
      "text/plain": [
       "<Figure size 864x432 with 1 Axes>"
      ]
     },
     "metadata": {
      "needs_background": "light"
     },
     "output_type": "display_data"
    }
   ],
   "source": [
    "# ------------------------------------------------------\n",
    "#  Now plot zonal mean of selected variable. \n",
    "#  Valid choices for 'varPlot' are: 'shflx', 'soilM_10',\n",
    "#     'Plcl', 'covar_terra', 'covar_atmo'\n",
    "# ------------------------------------------------------\n",
    "\n",
    "# DEFINE VARIABLE HERE \n",
    "varPlot = 'Plcl'\n",
    "\n",
    "# ------ Define data arrays to be plotted ------\n",
    "if varPlot == 'shflx':\n",
    "    lonMean_CESM2 = lonMean_shflx_CESM2\n",
    "    lonMean_CESM1 = lonMean_shflx_CESM1\n",
    "    lonMean_CLM45 = lonMean_shflx_CLM45\n",
    "    # A few plot options to specify \n",
    "    pltTitle = 'JJA-mean SHFLX \\n Zonal Mean'\n",
    "    yTitle   = 'SHFLX [W/m2]' \n",
    "elif varPlot == 'soilM_10':\n",
    "    lonMean_CESM2 = lonMean_soilm_CESM2\n",
    "    lonMean_CESM1 = lonMean_soilm_CESM1\n",
    "    lonMean_CLM45 = lonMean_soilm_CLM45\n",
    "    # A few plot options\n",
    "    pltTitle = 'JJA-mean soilM_10cm \\n Zonal Mean'\n",
    "    yTitle   = '10cm Soil Moisture [kg/m2]'\n",
    "elif varPlot == 'Plcl':\n",
    "    lonMean_CESM2 = lonMean_plcl_CESM2\n",
    "    lonMean_CESM1 = lonMean_plcl_CESM1\n",
    "    lonMean_CLM45 = lonMean_plcl_CLM45\n",
    "    # A few plot options \n",
    "    pltTitle = 'JJA-mean P_lcl \\n Zonal Mean'\n",
    "    yTitle   = 'Pressure level of the LCL [hPa above the surface]'\n",
    "elif varPlot == 'covar_terra':\n",
    "    lonMean_CESM2 = lonMean_covarTerra_CESM2\n",
    "    lonMean_CESM1 = lonMean_covarTerra_CESM1\n",
    "    lonMean_CLM45 = lonMean_covarTerra_CLM45\n",
    "    # A few plot options \n",
    "    pltTitle = 'JJA-mean covar(SM, SHFLX) \\n Zonal Mean'\n",
    "    yTitle   = 'Covariance (soilM_10cm, SHFLX)'\n",
    "elif varPlot == 'covar_atmo':\n",
    "    lonMean_CESM2 = lonMean_covarAtmo_CESM2\n",
    "    lonMean_CESM1 = lonMean_covarAtmo_CESM1\n",
    "    lonMean_CLM45 = lonMean_covarAtmo_CLM45\n",
    "    # A few plot options \n",
    "    pltTitle = 'JJA-mean covar(SHFLX, P_lcl) \\n Zonal Mean'\n",
    "    yTtile   = 'Covariance (SHFLX, P_lcl)'\n",
    "else:\n",
    "    print('***** Please select available zonal mean variable to plot ******')\n",
    "\n",
    "# Set up figure \n",
    "fig, ax1 = plt.subplots(1,1, figsize=(12, 6))\n",
    "\n",
    "ax1.plot(lat,lonMean_CESM2,'k')\n",
    "ax1.plot(lat,lonMean_CESM1,'dodgerblue')\n",
    "ax1.plot(lat,lonMean_CLM45,'forestgreen')\n",
    "\n",
    "#ax1.legend(['CESM2','CESM1','CLM4.5+CAM6','CLM5+CAM5'])\n",
    "ax1.legend(['CESM2','CESM1','CLM4.5+CAM6'], fontsize=12)\n",
    "ax1.set_xlabel('Latitude (degrees)')\n",
    "ax1.set_ylabel(yTitle)\n",
    "ax1.set_title(pltTitle, fontsize=14)\n",
    "ax1.set_xlim([-60, 90])\n",
    "ax1.axhline(0,color='lightgrey')\n",
    "ax1.axvline(0,color='lightgrey')"
   ]
  },
  {
   "cell_type": "code",
   "execution_count": null,
   "metadata": {},
   "outputs": [],
   "source": []
  },
  {
   "cell_type": "markdown",
   "metadata": {},
   "source": [
    "## Define interesting regions \n",
    "A few potential locations of interest have already been identified in analysis to isolate IOP points. So let's start there with what we have. \n"
   ]
  },
  {
   "cell_type": "code",
   "execution_count": 40,
   "metadata": {},
   "outputs": [],
   "source": [
    "# ------------------------------------------------------\n",
    "#   Identify lat/lon indices of interesting gridcells \n",
    "# ------------------------------------------------------\n",
    "\n",
    "# Linsk, Russia\n",
    "ilat_Linsk = np.where( (lat>=60.2) & (lat<=61.2))[0]\n",
    "ilon_Linsk = np.where( (lon>=114.5) & (lon<=115.5))[0]\n",
    "\n",
    "# Northern Alaska \n",
    "ilat_AK = np.where( (lat>=68.5) & (lat<=69.5))[0]\n",
    "lonSel_AK = (-150.8514 + 360) % 360                 # Convert longitude of point into 0-360 range \n",
    "ilon_AK = np.where( (lon>=(lonSel_AK-0.59)) & (lon<=(lonSel_AK+0.59)) )\n",
    "\n",
    "# Santa Fe, NM \n",
    "ilat_SantaFe = np.where( (lat>=35.1) & (lat<=36.1))[0]\n",
    "lonSel_SF = (-105.9378 + 360) % 360                 # Convert longitude of point into 0-360 range \n",
    "ilon_SantaFe = np.where( (lon>=(lonSel_SF-0.59)) & (lon<=(lonSel_SF+0.59)) )\n",
    "\n",
    "# Jalna, India\n",
    "ilat_Jalna = np.where( (lat>=19.33) & (lat<=20.33))[0]\n",
    "ilon_Jalna = np.where( (lon>=75.3) & (lon<=76.3))[0]\n"
   ]
  },
  {
   "cell_type": "code",
   "execution_count": null,
   "metadata": {},
   "outputs": [],
   "source": []
  },
  {
   "cell_type": "code",
   "execution_count": null,
   "metadata": {},
   "outputs": [],
   "source": []
  }
 ],
 "metadata": {
  "kernelspec": {
   "display_name": "Python 3",
   "language": "python",
   "name": "python3"
  },
  "language_info": {
   "codemirror_mode": {
    "name": "ipython",
    "version": 3
   },
   "file_extension": ".py",
   "mimetype": "text/x-python",
   "name": "python",
   "nbconvert_exporter": "python",
   "pygments_lexer": "ipython3",
   "version": "3.8.3"
  }
 },
 "nbformat": 4,
 "nbformat_minor": 4
}
