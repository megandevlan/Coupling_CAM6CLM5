{
 "cells": [
  {
   "cell_type": "markdown",
   "metadata": {},
   "source": [
    "# Goal: Look at coupling index from CESM1 amip simulations for comparison to CESM2. \n",
    "<br>\n",
    "<b>Author:</b> Meg Fowler <br>\n",
    "<b>Date:</b> 27 Aug 2020 \n",
    "<br><br>\n",
    "<b>Short Description:</b> Ultimate goal is to determine if CLUBB makes a big difference in the coupling metrics. Should be able to tell that (at least roughly) by first looking at a CESM1 amip simulation compared with the CESM2 run analyzed in <i>Coupling_Index.ipynb</i>.\n",
    "<br>\n"
   ]
  },
  {
   "cell_type": "code",
   "execution_count": 1,
   "metadata": {
    "ExecuteTime": {
     "end_time": "2020-09-03T20:04:24.306218Z",
     "start_time": "2020-09-03T20:04:21.771018Z"
    }
   },
   "outputs": [],
   "source": [
    "# Import libraries \n",
    "import comet as cm \n",
    "import numpy as np \n",
    "import xarray as xr \n",
    "import pickle\n",
    "import pandas as pd\n",
    "import datetime \n",
    "\n",
    "# Plotting utils \n",
    "import matplotlib.pyplot as plt \n",
    "import cartopy\n",
    "import cartopy.feature as cfeature\n",
    "import cartopy.crs as ccrs\n",
    "import cartopy.util\n"
   ]
  },
  {
   "cell_type": "markdown",
   "metadata": {},
   "source": [
    "## Read in data\n",
    "<u>Note:</u> Pressure level of the LCL height (in hPa above ground) needs to be computed with separate script for the sake of memory. "
   ]
  },
  {
   "cell_type": "code",
   "execution_count": null,
   "metadata": {},
   "outputs": [],
   "source": [
    "# Set directories and file names (build up with various parts)\n",
    "cesm1dir   = '/Users/meganfowler/Documents/NCAR/Analysis/Coupling_initial/data/CESM1/'\n",
    "\n",
    "startCLM = 'cam5.1_amip_1d_002.clm2.h1.'\n",
    "startCAM = 'cam5.1_amip_1d_002.cam2.h1.'\n",
    "\n",
    "endCLM = '_soilWater.nc'\n",
    "endFLX = '_sfcFluxes.nc'\n",
    "\n",
    "timeName = ['1979-1989', '1990-2004']\n"
   ]
  },
  {
   "cell_type": "code",
   "execution_count": null,
   "metadata": {},
   "outputs": [],
   "source": [
    "# Read in test file to get lat/lon \n",
    "fileName = cesm1dir+startCLM+timeName[0]+endCLM\n",
    "testDF   = xr.open_dataset(fileName, decode_times=True)\n",
    "\n",
    "# Get lat and lon \n",
    "lat = testDF.lat.values\n",
    "lon = testDF.lon.values \n"
   ]
  },
  {
   "cell_type": "code",
   "execution_count": null,
   "metadata": {},
   "outputs": [],
   "source": [
    "# Read in surface fluxes along\n",
    "\n",
    "for iT in range(len(timeName)):\n",
    "\n",
    "    # --- Compile surface fluxes into singe large arrays in time \n",
    "\n",
    "    # Latent & sensible heat fluxes\n",
    "    flxFile       = cesm1dir+startCAM+timeName[0]+endFLX\n",
    "    flxDF         = xr.open_dataset(lhFile,decode_times=True) \n",
    "    flxDF['time'] = flxDF.indexes['time'].to_datetimeindex()\n",
    "\n",
    "    # Soil moisture \n",
    "    soilFile       = cesm1dir+startCLM+timeName[0]+endCLM\n",
    "    soilDF         = xr.open_dataset(soilFile,decode_times=True)\n",
    "    soilDF['time'] = soilDF.indexes['time'].to_datetimeindex()\n",
    "    \n",
    "    \n",
    "    if iT==0:\n",
    "        flux_full = flxDF \n",
    "        soil_full = shDF\n",
    "    else: \n",
    "        flux_full = xr.concat([flux_full, flxDF], dim=\"time\")\n",
    "        soil_full = xr.concat([soil_full, shDF], dim=\"time\")\n",
    "\n",
    "\n",
    "    print('Done with ', timeName_flx[iT])\n",
    "\n"
   ]
  },
  {
   "cell_type": "code",
   "execution_count": null,
   "metadata": {},
   "outputs": [],
   "source": [
    "# Load pressure level of LCL (computed separately in Get_LCLpressure.py and saved as pickle file)\n",
    "lclPath = '/Users/meganfowler/Documents/NCAR/Analysis/Coupling_initial/Coupling_CAM6CLM5/processed_data/LCL-pressure-HeightAboveGround_CESM1.p'\n",
    "Plcl    = pickle.load( open( lclPath, \"rb\" ) )\n"
   ]
  },
  {
   "cell_type": "code",
   "execution_count": null,
   "metadata": {},
   "outputs": [],
   "source": [
    "# To be able to easily access years, months, days - use Pandas \n",
    "dates    = pd.DatetimeIndex(soilM10_full['time'].values)\n"
   ]
  },
  {
   "cell_type": "markdown",
   "metadata": {},
   "source": [
    "## Sanity check: do variables seem reasonable?"
   ]
  },
  {
   "cell_type": "code",
   "execution_count": null,
   "metadata": {},
   "outputs": [],
   "source": [
    "# Map out average pressure level of the LCL (in terms of height above sfc)\n",
    "\n",
    "fig=plt.figure(figsize=(8, 5), dpi= 80, facecolor='w', edgecolor='k')\n",
    "ax = fig.add_subplot(111, projection=ccrs.Robinson())\n",
    "ax.set_global()\n",
    "\n",
    "# Add cyclic point (where lon goes from 360˚ to 0˚) -- othwerwise, blank line \n",
    "Plcl_cyclic, lon_cyclic = cartopy.util.add_cyclic_point(np.squeeze(np.nanmean(Plcl,0)), lon)\n",
    "\n",
    "# Make plot\n",
    "contour_plot = ax.pcolormesh(lon_cyclic,lat,Plcl_cyclic,transform=ccrs.PlateCarree())\n",
    "ax.plot(lon_cyclic[206],lat[135],'r*',markersize=5,transform=ccrs.PlateCarree())   # Point for sanity check\n",
    "ax.coastlines()\n",
    "cbar = plt.colorbar(contour_plot, label='(hPa)',orientation='horizontal')\n",
    "ax.set_title('Pressure Level of LCL (time average)', fontsize=14)\n"
   ]
  },
  {
   "cell_type": "code",
   "execution_count": null,
   "metadata": {},
   "outputs": [],
   "source": [
    "# Plot a timeseries of variables \n",
    "\n",
    "fig, ax1 = plt.subplots(1,1, figsize=(8, 5), facecolor='w', edgecolor='k')\n",
    "\n",
    "ax1.plot(dates, flux_full.SHFLX[:,135,206],'k-')\n",
    "ax1.set_ylabel('SHFLX (W/m2)')\n",
    "ax1.set_xlabel('Time')\n",
    "ax1.legend(['SHF'],loc='upper left',fontsize=12)\n",
    "ax1.set_title('Sanity check: SHF & Plcl [midwest point]', fontsize=14)\n",
    "ax1.axhline(0,color='gray')\n",
    "\n",
    "ax2 = ax1.twinx()\n",
    "ax2.plot(dates, Plcl[:,135,206], 'r-')\n",
    "ax2.set_ylabel('Plcl height above sfc (hPa)')\n",
    "ax2.legend(['Plcl'], loc='upper right',fontsize=12)\n",
    "\n",
    "ax1.set_xlim([datetime.date(1990,6,1), datetime.date(1990,7,1)])\n"
   ]
  },
  {
   "cell_type": "code",
   "execution_count": null,
   "metadata": {},
   "outputs": [],
   "source": [
    "# How about latent heat flux? \n",
    "\n",
    "fig=plt.figure(figsize=(11, 7), dpi= 80, facecolor='w', edgecolor='k')\n",
    "ax = fig.add_subplot(111, projection=ccrs.Robinson())\n",
    "ax.set_global()\n",
    "\n",
    "# Add cyclic point (where lon goes from 360˚ to 0˚) -- othwerwise, blank line \n",
    "LHavg_cyclic, lon_cyclic = cartopy.util.add_cyclic_point(np.squeeze(np.nanmean(flux_full.LHFLX,0)), lon)\n",
    "\n",
    "# Make plot\n",
    "contour_plot = ax.pcolormesh(lon_cyclic,lat,LHavg_cyclic,transform=ccrs.PlateCarree())\n",
    "ax.coastlines()\n",
    "cbar = plt.colorbar(contour_plot, label='[W/m2]',orientation='horizontal')\n",
    "ax.set_title('LHFLX (time mean, 1979-2004)', fontsize=14)\n"
   ]
  },
  {
   "cell_type": "markdown",
   "metadata": {},
   "source": [
    "## Compute coupling indices "
   ]
  },
  {
   "cell_type": "code",
   "execution_count": null,
   "metadata": {},
   "outputs": [],
   "source": []
  },
  {
   "cell_type": "code",
   "execution_count": null,
   "metadata": {},
   "outputs": [],
   "source": []
  },
  {
   "cell_type": "code",
   "execution_count": null,
   "metadata": {},
   "outputs": [],
   "source": []
  },
  {
   "cell_type": "code",
   "execution_count": null,
   "metadata": {},
   "outputs": [],
   "source": []
  }
 ],
 "metadata": {
  "kernelspec": {
   "display_name": "Python 3",
   "language": "python",
   "name": "python3"
  },
  "language_info": {
   "codemirror_mode": {
    "name": "ipython",
    "version": 3
   },
   "file_extension": ".py",
   "mimetype": "text/x-python",
   "name": "python",
   "nbconvert_exporter": "python",
   "pygments_lexer": "ipython3",
   "version": "3.8.5"
  }
 },
 "nbformat": 4,
 "nbformat_minor": 4
}
