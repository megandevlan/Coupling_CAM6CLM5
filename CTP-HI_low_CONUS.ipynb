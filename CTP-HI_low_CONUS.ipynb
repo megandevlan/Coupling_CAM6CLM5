{
 "cells": [
  {
   "cell_type": "markdown",
   "metadata": {},
   "source": [
    "## The Goal: Compute CTP and HI_low over CONUS at 12 UTC \n",
    "<br>\n",
    "<b>Author:</b> Meg D. Fowler \n",
    "<br>\n",
    "<b>Date:</b>   2 Sept 2020 \n",
    "<br><br>\n",
    "<b>Short description:</b> Building off of lots of scratch work in CTP-HI_low_CONUS_scratch.ipynb, uses a python version of the fortran script to compute CTP and HI_low at each point over CONUS. The .py version's slightly more sluggish (~18s for 5k profiles as opposed to ~12s), but it's easy to read and understand. \n",
    "<br>"
   ]
  },
  {
   "cell_type": "code",
   "execution_count": 1,
   "metadata": {
    "ExecuteTime": {
     "end_time": "2020-09-08T18:55:57.630759Z",
     "start_time": "2020-09-08T18:55:56.141047Z"
    }
   },
   "outputs": [],
   "source": [
    "# Import libraries \n",
    "import numpy as np \n",
    "import xarray as xr \n",
    "import pickle\n",
    "import pandas as pd\n",
    "import datetime \n",
    "import time \n",
    "import regionmask\n",
    "from CTP_hilow import CTP_hilow \n",
    "\n",
    "# Plotting utils \n",
    "import matplotlib.pyplot as plt \n",
    "import cartopy\n",
    "import cartopy.feature as cfeature\n",
    "import cartopy.crs as ccrs\n",
    "import cartopy.util\n"
   ]
  },
  {
   "cell_type": "markdown",
   "metadata": {},
   "source": [
    "## Read in data"
   ]
  },
  {
   "cell_type": "code",
   "execution_count": 2,
   "metadata": {
    "ExecuteTime": {
     "end_time": "2020-09-08T18:55:57.687132Z",
     "start_time": "2020-09-08T18:55:57.683777Z"
    }
   },
   "outputs": [],
   "source": [
    "# Set file names \n",
    "mainDir = '/Users/meganfowler/Documents/NCAR/Analysis/Coupling_initial/data/hrSim_CONUS/'\n",
    "\n",
    "fileQ1 = mainDir+'f.e21.FHIST_BGC.f09_f09_mg17.hourlyOutput.001.cam.h1.1979_hrQ-UTCsel.nc'\n",
    "fileQ2 = mainDir+'f.e21.FHIST_BGC.f09_f09_mg17.hourlyOutput.001.cam.h1.1980_hrQ-UTCsel.nc'\n",
    "fileQ3 = mainDir+'f.e21.FHIST_BGC.f09_f09_mg17.hourlyOutput.001.cam.h1.1981_hrQ-UTCsel.nc'\n",
    "\n",
    "fileT1 = mainDir+'f.e21.FHIST_BGC.f09_f09_mg17.hourlyOutput.001.cam.h1.1979_hrT-UTCsel.nc'\n",
    "fileT2 = mainDir+'f.e21.FHIST_BGC.f09_f09_mg17.hourlyOutput.001.cam.h1.1980_hrT-UTCsel.nc'\n",
    "fileT3 = mainDir+'f.e21.FHIST_BGC.f09_f09_mg17.hourlyOutput.001.cam.h1.1981_hrT-UTCsel.nc'\n",
    "\n",
    "fileP  = mainDir+'f.e21.FHIST_BGC.f09_f09_mg17.hourlyOutput.001.cam.h1.1979-1981_hrP-levels-UTCsel.nc'\n",
    "\n",
    "filePS  = mainDir+'f.e21.FHIST_BGC.f09_f09_mg17.hourlyOutput.001.cam.h1.1979-1981_hrPS-UTCsel.nc'\n",
    "fileT2m = mainDir+'f.e21.FHIST_BGC.f09_f09_mg17.hourlyOutput.001.cam.h1.1979-1981_hrTREFHT-UTCsel.nc'\n",
    "fileQ2m = mainDir+'f.e21.FHIST_BGC.f09_f09_mg17.hourlyOutput.001.cam.h1.1979-1981_hrQREFHT-UTCsel.nc'\n",
    "fileSH  = mainDir+'f.e21.FHIST_BGC.f09_f09_mg17.hourlyOutput.001.cam.h1.1979-1981_hrSHFLX-UTCsel.nc'\n"
   ]
  },
  {
   "cell_type": "code",
   "execution_count": 3,
   "metadata": {
    "ExecuteTime": {
     "end_time": "2020-09-08T18:56:11.264218Z",
     "start_time": "2020-09-08T18:55:58.298101Z"
    }
   },
   "outputs": [
    {
     "name": "stdout",
     "output_type": "stream",
     "text": [
      "Done with Q...\n",
      "Done with T... \n",
      "Done with P...\n"
     ]
    }
   ],
   "source": [
    "# Read in files that have profiles and concat into one DS\n",
    "Q_1979 = xr.open_dataset(fileQ1, decode_times=True)\n",
    "Q_1980 = xr.open_dataset(fileQ2, decode_times=True)\n",
    "Q_1981 = xr.open_dataset(fileQ3, decode_times=True)\n",
    "Q_full = xr.concat([Q_1979, Q_1980,Q_1981], dim=\"time\")\n",
    "print('Done with Q...')\n",
    "\n",
    "T_1979 = xr.open_dataset(fileT1, decode_times=True)\n",
    "T_1980 = xr.open_dataset(fileT2, decode_times=True)\n",
    "T_1981 = xr.open_dataset(fileT3, decode_times=True)\n",
    "T_full = xr.concat([T_1979, T_1980,T_1981], dim=\"time\")\n",
    "print('Done with T... ')\n",
    "\n",
    "P_all  = xr.open_dataset(fileP,  decode_times=True)\n",
    "print('Done with P...')\n"
   ]
  },
  {
   "cell_type": "code",
   "execution_count": 4,
   "metadata": {
    "ExecuteTime": {
     "end_time": "2020-09-08T18:56:12.385112Z",
     "start_time": "2020-09-08T18:56:11.267024Z"
    }
   },
   "outputs": [],
   "source": [
    "# Now read in files (all years, sfc only)\n",
    "PS  = xr.open_dataset(filePS,  decode_times=True)\n",
    "T2m = xr.open_dataset(fileT2m, decode_times=True)\n",
    "Q2m = xr.open_dataset(fileQ2m, decode_times=True)\n",
    "SH  = xr.open_dataset(fileSH, decode_times=True)\n"
   ]
  },
  {
   "cell_type": "code",
   "execution_count": 5,
   "metadata": {
    "ExecuteTime": {
     "end_time": "2020-09-08T18:56:16.314540Z",
     "start_time": "2020-09-08T18:56:12.387002Z"
    }
   },
   "outputs": [],
   "source": [
    "# Assemble into single dataset (xarray)\n",
    "ds_Full = Q_full\n",
    "ds_Full['Tlev'] = (('time','lev','lat','lon'), T_full.T)\n",
    "ds_Full['Plev'] = (('time','lev','lat','lon'), P_all.PRESSURE)\n",
    "ds_Full['PS'] = (('time','lat','lon'), PS.PS)\n",
    "ds_Full['T2m'] = (('time','lat','lon'), T2m.TREFHT)\n",
    "ds_Full['Q2m'] = (('time','lat','lon'), Q2m.QREFHT)\n",
    "ds_Full['SHF'] = (('time','lat','lon'), SH.SHFLX)\n"
   ]
  },
  {
   "cell_type": "code",
   "execution_count": 6,
   "metadata": {},
   "outputs": [
    {
     "data": {
      "text/html": [
       "<div><svg style=\"position: absolute; width: 0; height: 0; overflow: hidden\">\n",
       "<defs>\n",
       "<symbol id=\"icon-database\" viewBox=\"0 0 32 32\">\n",
       "<path d=\"M16 0c-8.837 0-16 2.239-16 5v4c0 2.761 7.163 5 16 5s16-2.239 16-5v-4c0-2.761-7.163-5-16-5z\"></path>\n",
       "<path d=\"M16 17c-8.837 0-16-2.239-16-5v6c0 2.761 7.163 5 16 5s16-2.239 16-5v-6c0 2.761-7.163 5-16 5z\"></path>\n",
       "<path d=\"M16 26c-8.837 0-16-2.239-16-5v6c0 2.761 7.163 5 16 5s16-2.239 16-5v-6c0 2.761-7.163 5-16 5z\"></path>\n",
       "</symbol>\n",
       "<symbol id=\"icon-file-text2\" viewBox=\"0 0 32 32\">\n",
       "<path d=\"M28.681 7.159c-0.694-0.947-1.662-2.053-2.724-3.116s-2.169-2.030-3.116-2.724c-1.612-1.182-2.393-1.319-2.841-1.319h-15.5c-1.378 0-2.5 1.121-2.5 2.5v27c0 1.378 1.122 2.5 2.5 2.5h23c1.378 0 2.5-1.122 2.5-2.5v-19.5c0-0.448-0.137-1.23-1.319-2.841zM24.543 5.457c0.959 0.959 1.712 1.825 2.268 2.543h-4.811v-4.811c0.718 0.556 1.584 1.309 2.543 2.268zM28 29.5c0 0.271-0.229 0.5-0.5 0.5h-23c-0.271 0-0.5-0.229-0.5-0.5v-27c0-0.271 0.229-0.5 0.5-0.5 0 0 15.499-0 15.5 0v7c0 0.552 0.448 1 1 1h7v19.5z\"></path>\n",
       "<path d=\"M23 26h-14c-0.552 0-1-0.448-1-1s0.448-1 1-1h14c0.552 0 1 0.448 1 1s-0.448 1-1 1z\"></path>\n",
       "<path d=\"M23 22h-14c-0.552 0-1-0.448-1-1s0.448-1 1-1h14c0.552 0 1 0.448 1 1s-0.448 1-1 1z\"></path>\n",
       "<path d=\"M23 18h-14c-0.552 0-1-0.448-1-1s0.448-1 1-1h14c0.552 0 1 0.448 1 1s-0.448 1-1 1z\"></path>\n",
       "</symbol>\n",
       "</defs>\n",
       "</svg>\n",
       "<style>/* CSS stylesheet for displaying xarray objects in jupyterlab.\n",
       " *\n",
       " */\n",
       "\n",
       ":root {\n",
       "  --xr-font-color0: var(--jp-content-font-color0, rgba(0, 0, 0, 1));\n",
       "  --xr-font-color2: var(--jp-content-font-color2, rgba(0, 0, 0, 0.54));\n",
       "  --xr-font-color3: var(--jp-content-font-color3, rgba(0, 0, 0, 0.38));\n",
       "  --xr-border-color: var(--jp-border-color2, #e0e0e0);\n",
       "  --xr-disabled-color: var(--jp-layout-color3, #bdbdbd);\n",
       "  --xr-background-color: var(--jp-layout-color0, white);\n",
       "  --xr-background-color-row-even: var(--jp-layout-color1, white);\n",
       "  --xr-background-color-row-odd: var(--jp-layout-color2, #eeeeee);\n",
       "}\n",
       "\n",
       "html[theme=dark],\n",
       "body.vscode-dark {\n",
       "  --xr-font-color0: rgba(255, 255, 255, 1);\n",
       "  --xr-font-color2: rgba(255, 255, 255, 0.54);\n",
       "  --xr-font-color3: rgba(255, 255, 255, 0.38);\n",
       "  --xr-border-color: #1F1F1F;\n",
       "  --xr-disabled-color: #515151;\n",
       "  --xr-background-color: #111111;\n",
       "  --xr-background-color-row-even: #111111;\n",
       "  --xr-background-color-row-odd: #313131;\n",
       "}\n",
       "\n",
       ".xr-wrap {\n",
       "  display: block;\n",
       "  min-width: 300px;\n",
       "  max-width: 700px;\n",
       "}\n",
       "\n",
       ".xr-text-repr-fallback {\n",
       "  /* fallback to plain text repr when CSS is not injected (untrusted notebook) */\n",
       "  display: none;\n",
       "}\n",
       "\n",
       ".xr-header {\n",
       "  padding-top: 6px;\n",
       "  padding-bottom: 6px;\n",
       "  margin-bottom: 4px;\n",
       "  border-bottom: solid 1px var(--xr-border-color);\n",
       "}\n",
       "\n",
       ".xr-header > div,\n",
       ".xr-header > ul {\n",
       "  display: inline;\n",
       "  margin-top: 0;\n",
       "  margin-bottom: 0;\n",
       "}\n",
       "\n",
       ".xr-obj-type,\n",
       ".xr-array-name {\n",
       "  margin-left: 2px;\n",
       "  margin-right: 10px;\n",
       "}\n",
       "\n",
       ".xr-obj-type {\n",
       "  color: var(--xr-font-color2);\n",
       "}\n",
       "\n",
       ".xr-sections {\n",
       "  padding-left: 0 !important;\n",
       "  display: grid;\n",
       "  grid-template-columns: 150px auto auto 1fr 20px 20px;\n",
       "}\n",
       "\n",
       ".xr-section-item {\n",
       "  display: contents;\n",
       "}\n",
       "\n",
       ".xr-section-item input {\n",
       "  display: none;\n",
       "}\n",
       "\n",
       ".xr-section-item input + label {\n",
       "  color: var(--xr-disabled-color);\n",
       "}\n",
       "\n",
       ".xr-section-item input:enabled + label {\n",
       "  cursor: pointer;\n",
       "  color: var(--xr-font-color2);\n",
       "}\n",
       "\n",
       ".xr-section-item input:enabled + label:hover {\n",
       "  color: var(--xr-font-color0);\n",
       "}\n",
       "\n",
       ".xr-section-summary {\n",
       "  grid-column: 1;\n",
       "  color: var(--xr-font-color2);\n",
       "  font-weight: 500;\n",
       "}\n",
       "\n",
       ".xr-section-summary > span {\n",
       "  display: inline-block;\n",
       "  padding-left: 0.5em;\n",
       "}\n",
       "\n",
       ".xr-section-summary-in:disabled + label {\n",
       "  color: var(--xr-font-color2);\n",
       "}\n",
       "\n",
       ".xr-section-summary-in + label:before {\n",
       "  display: inline-block;\n",
       "  content: '►';\n",
       "  font-size: 11px;\n",
       "  width: 15px;\n",
       "  text-align: center;\n",
       "}\n",
       "\n",
       ".xr-section-summary-in:disabled + label:before {\n",
       "  color: var(--xr-disabled-color);\n",
       "}\n",
       "\n",
       ".xr-section-summary-in:checked + label:before {\n",
       "  content: '▼';\n",
       "}\n",
       "\n",
       ".xr-section-summary-in:checked + label > span {\n",
       "  display: none;\n",
       "}\n",
       "\n",
       ".xr-section-summary,\n",
       ".xr-section-inline-details {\n",
       "  padding-top: 4px;\n",
       "  padding-bottom: 4px;\n",
       "}\n",
       "\n",
       ".xr-section-inline-details {\n",
       "  grid-column: 2 / -1;\n",
       "}\n",
       "\n",
       ".xr-section-details {\n",
       "  display: none;\n",
       "  grid-column: 1 / -1;\n",
       "  margin-bottom: 5px;\n",
       "}\n",
       "\n",
       ".xr-section-summary-in:checked ~ .xr-section-details {\n",
       "  display: contents;\n",
       "}\n",
       "\n",
       ".xr-array-wrap {\n",
       "  grid-column: 1 / -1;\n",
       "  display: grid;\n",
       "  grid-template-columns: 20px auto;\n",
       "}\n",
       "\n",
       ".xr-array-wrap > label {\n",
       "  grid-column: 1;\n",
       "  vertical-align: top;\n",
       "}\n",
       "\n",
       ".xr-preview {\n",
       "  color: var(--xr-font-color3);\n",
       "}\n",
       "\n",
       ".xr-array-preview,\n",
       ".xr-array-data {\n",
       "  padding: 0 5px !important;\n",
       "  grid-column: 2;\n",
       "}\n",
       "\n",
       ".xr-array-data,\n",
       ".xr-array-in:checked ~ .xr-array-preview {\n",
       "  display: none;\n",
       "}\n",
       "\n",
       ".xr-array-in:checked ~ .xr-array-data,\n",
       ".xr-array-preview {\n",
       "  display: inline-block;\n",
       "}\n",
       "\n",
       ".xr-dim-list {\n",
       "  display: inline-block !important;\n",
       "  list-style: none;\n",
       "  padding: 0 !important;\n",
       "  margin: 0;\n",
       "}\n",
       "\n",
       ".xr-dim-list li {\n",
       "  display: inline-block;\n",
       "  padding: 0;\n",
       "  margin: 0;\n",
       "}\n",
       "\n",
       ".xr-dim-list:before {\n",
       "  content: '(';\n",
       "}\n",
       "\n",
       ".xr-dim-list:after {\n",
       "  content: ')';\n",
       "}\n",
       "\n",
       ".xr-dim-list li:not(:last-child):after {\n",
       "  content: ',';\n",
       "  padding-right: 5px;\n",
       "}\n",
       "\n",
       ".xr-has-index {\n",
       "  font-weight: bold;\n",
       "}\n",
       "\n",
       ".xr-var-list,\n",
       ".xr-var-item {\n",
       "  display: contents;\n",
       "}\n",
       "\n",
       ".xr-var-item > div,\n",
       ".xr-var-item label,\n",
       ".xr-var-item > .xr-var-name span {\n",
       "  background-color: var(--xr-background-color-row-even);\n",
       "  margin-bottom: 0;\n",
       "}\n",
       "\n",
       ".xr-var-item > .xr-var-name:hover span {\n",
       "  padding-right: 5px;\n",
       "}\n",
       "\n",
       ".xr-var-list > li:nth-child(odd) > div,\n",
       ".xr-var-list > li:nth-child(odd) > label,\n",
       ".xr-var-list > li:nth-child(odd) > .xr-var-name span {\n",
       "  background-color: var(--xr-background-color-row-odd);\n",
       "}\n",
       "\n",
       ".xr-var-name {\n",
       "  grid-column: 1;\n",
       "}\n",
       "\n",
       ".xr-var-dims {\n",
       "  grid-column: 2;\n",
       "}\n",
       "\n",
       ".xr-var-dtype {\n",
       "  grid-column: 3;\n",
       "  text-align: right;\n",
       "  color: var(--xr-font-color2);\n",
       "}\n",
       "\n",
       ".xr-var-preview {\n",
       "  grid-column: 4;\n",
       "}\n",
       "\n",
       ".xr-var-name,\n",
       ".xr-var-dims,\n",
       ".xr-var-dtype,\n",
       ".xr-preview,\n",
       ".xr-attrs dt {\n",
       "  white-space: nowrap;\n",
       "  overflow: hidden;\n",
       "  text-overflow: ellipsis;\n",
       "  padding-right: 10px;\n",
       "}\n",
       "\n",
       ".xr-var-name:hover,\n",
       ".xr-var-dims:hover,\n",
       ".xr-var-dtype:hover,\n",
       ".xr-attrs dt:hover {\n",
       "  overflow: visible;\n",
       "  width: auto;\n",
       "  z-index: 1;\n",
       "}\n",
       "\n",
       ".xr-var-attrs,\n",
       ".xr-var-data {\n",
       "  display: none;\n",
       "  background-color: var(--xr-background-color) !important;\n",
       "  padding-bottom: 5px !important;\n",
       "}\n",
       "\n",
       ".xr-var-attrs-in:checked ~ .xr-var-attrs,\n",
       ".xr-var-data-in:checked ~ .xr-var-data {\n",
       "  display: block;\n",
       "}\n",
       "\n",
       ".xr-var-data > table {\n",
       "  float: right;\n",
       "}\n",
       "\n",
       ".xr-var-name span,\n",
       ".xr-var-data,\n",
       ".xr-attrs {\n",
       "  padding-left: 25px !important;\n",
       "}\n",
       "\n",
       ".xr-attrs,\n",
       ".xr-var-attrs,\n",
       ".xr-var-data {\n",
       "  grid-column: 1 / -1;\n",
       "}\n",
       "\n",
       "dl.xr-attrs {\n",
       "  padding: 0;\n",
       "  margin: 0;\n",
       "  display: grid;\n",
       "  grid-template-columns: 125px auto;\n",
       "}\n",
       "\n",
       ".xr-attrs dt, dd {\n",
       "  padding: 0;\n",
       "  margin: 0;\n",
       "  float: left;\n",
       "  padding-right: 10px;\n",
       "  width: auto;\n",
       "}\n",
       "\n",
       ".xr-attrs dt {\n",
       "  font-weight: normal;\n",
       "  grid-column: 1;\n",
       "}\n",
       "\n",
       ".xr-attrs dt:hover span {\n",
       "  display: inline-block;\n",
       "  background: var(--xr-background-color);\n",
       "  padding-right: 10px;\n",
       "}\n",
       "\n",
       ".xr-attrs dd {\n",
       "  grid-column: 2;\n",
       "  white-space: pre-wrap;\n",
       "  word-break: break-all;\n",
       "}\n",
       "\n",
       ".xr-icon-database,\n",
       ".xr-icon-file-text2 {\n",
       "  display: inline-block;\n",
       "  vertical-align: middle;\n",
       "  width: 1em;\n",
       "  height: 1.5em !important;\n",
       "  stroke-width: 0;\n",
       "  stroke: currentColor;\n",
       "  fill: currentColor;\n",
       "}\n",
       "</style><pre class='xr-text-repr-fallback'>&lt;xarray.Dataset&gt;\n",
       "Dimensions:  (lat: 43, lev: 32, lon: 65, time: 5475)\n",
       "Coordinates:\n",
       "  * lev      (lev) float64 3.643 7.595 14.36 24.61 ... 936.2 957.5 976.3 992.6\n",
       "  * lon      (lon) float64 220.0 221.2 222.5 223.8 ... 296.2 297.5 298.8 300.0\n",
       "  * lat      (lat) float64 20.26 21.2 22.15 23.09 ... 57.02 57.96 58.9 59.84\n",
       "  * time     (time) object 1979-01-01 10:00:00 ... 1981-12-31 14:00:00\n",
       "Data variables:\n",
       "    Q        (time, lev, lat, lon) float32 2.7808608e-06 ... 0.0025378529\n",
       "    UTC_hr   (time) float32 10.0 11.0 12.0 13.0 14.0 ... 11.0 12.0 13.0 14.0\n",
       "    UTC_day  (time) float32 1.0 1.0 1.0 1.0 1.0 2.0 ... 31.0 31.0 31.0 31.0 31.0\n",
       "    UTC_mon  (time) float32 1.0 1.0 1.0 1.0 1.0 1.0 ... 12.0 12.0 12.0 12.0 12.0\n",
       "    UTC_yr   (time) float32 1979.0 1979.0 1979.0 1979.0 ... 1981.0 1981.0 1981.0\n",
       "    Tlev     (time, lev, lat, lon) float32 250.42609 250.28642 ... 270.61188\n",
       "    Plev     (time, lev, lat, lon) float32 364.34656 364.34656 ... 97498.84\n",
       "    PS       (time, lat, lon) float32 102068.03 102079.78 ... 98192.0 98230.06\n",
       "    T2m      (time, lat, lon) float32 293.90747 293.6864 ... 271.09384 271.51926\n",
       "    Q2m      (time, lat, lon) float32 0.011486784 0.011303191 ... 0.0027535888\n",
       "    SHF      (time, lat, lon) float32 39.52112 41.92458 ... 26.336369 28.1356\n",
       "Attributes:\n",
       "    creation_date:  Mon Aug 31 17:46:50 MDT 2020\n",
       "    Conventions:    None\n",
       "    source_file:    /glade/scratch/mdfowler/processedData/f.e21.FHIST_BGC.f09...\n",
       "    title:          NCL used to get UTC; 4 early morning hours saved out.</pre><div class='xr-wrap' hidden><div class='xr-header'><div class='xr-obj-type'>xarray.Dataset</div></div><ul class='xr-sections'><li class='xr-section-item'><input id='section-78abaec7-05e6-41d7-9750-8b704c96db60' class='xr-section-summary-in' type='checkbox' disabled ><label for='section-78abaec7-05e6-41d7-9750-8b704c96db60' class='xr-section-summary'  title='Expand/collapse section'>Dimensions:</label><div class='xr-section-inline-details'><ul class='xr-dim-list'><li><span class='xr-has-index'>lat</span>: 43</li><li><span class='xr-has-index'>lev</span>: 32</li><li><span class='xr-has-index'>lon</span>: 65</li><li><span class='xr-has-index'>time</span>: 5475</li></ul></div><div class='xr-section-details'></div></li><li class='xr-section-item'><input id='section-be8d3a1e-af57-41b9-a840-c5a471c5b797' class='xr-section-summary-in' type='checkbox'  checked><label for='section-be8d3a1e-af57-41b9-a840-c5a471c5b797' class='xr-section-summary' >Coordinates: <span>(4)</span></label><div class='xr-section-inline-details'></div><div class='xr-section-details'><ul class='xr-var-list'><li class='xr-var-item'><div class='xr-var-name'><span class='xr-has-index'>lev</span></div><div class='xr-var-dims'>(lev)</div><div class='xr-var-dtype'>float64</div><div class='xr-var-preview xr-preview'>3.643 7.595 14.36 ... 976.3 992.6</div><input id='attrs-7e2c3033-68cc-43e2-b15e-2c5b0b0d0c22' class='xr-var-attrs-in' type='checkbox' ><label for='attrs-7e2c3033-68cc-43e2-b15e-2c5b0b0d0c22' title='Show/Hide attributes'><svg class='icon xr-icon-file-text2'><use xlink:href='#icon-file-text2'></use></svg></label><input id='data-eb4edd6f-7f9c-4499-9b2b-afdaa77a3e89' class='xr-var-data-in' type='checkbox'><label for='data-eb4edd6f-7f9c-4499-9b2b-afdaa77a3e89' title='Show/Hide data repr'><svg class='icon xr-icon-database'><use xlink:href='#icon-database'></use></svg></label><div class='xr-var-attrs'><dl class='xr-attrs'><dt><span>formula_terms :</span></dt><dd>a: hyam b: hybm p0: P0 ps: PS</dd><dt><span>standard_name :</span></dt><dd>atmosphere_hybrid_sigma_pressure_coordinate</dd><dt><span>positive :</span></dt><dd>down</dd><dt><span>units :</span></dt><dd>hPa</dd><dt><span>long_name :</span></dt><dd>hybrid level at midpoints (1000*(A+B))</dd></dl></div><div class='xr-var-data'><pre>array([  3.643466,   7.59482 ,  14.356632,  24.61222 ,  35.92325 ,  43.19375 ,\n",
       "        51.677499,  61.520498,  73.750958,  87.82123 , 103.317127, 121.547241,\n",
       "       142.994039, 168.22508 , 197.908087, 232.828619, 273.910817, 322.241902,\n",
       "       379.100904, 445.992574, 524.687175, 609.778695, 691.38943 , 763.404481,\n",
       "       820.858369, 859.534767, 887.020249, 912.644547, 936.198398, 957.48548 ,\n",
       "       976.325407, 992.556095])</pre></div></li><li class='xr-var-item'><div class='xr-var-name'><span class='xr-has-index'>lon</span></div><div class='xr-var-dims'>(lon)</div><div class='xr-var-dtype'>float64</div><div class='xr-var-preview xr-preview'>220.0 221.2 222.5 ... 298.8 300.0</div><input id='attrs-b9a700cd-956b-409d-8038-8aa503f8c69a' class='xr-var-attrs-in' type='checkbox' ><label for='attrs-b9a700cd-956b-409d-8038-8aa503f8c69a' title='Show/Hide attributes'><svg class='icon xr-icon-file-text2'><use xlink:href='#icon-file-text2'></use></svg></label><input id='data-53df6237-bf04-4eed-a366-5bec58a487fa' class='xr-var-data-in' type='checkbox'><label for='data-53df6237-bf04-4eed-a366-5bec58a487fa' title='Show/Hide data repr'><svg class='icon xr-icon-database'><use xlink:href='#icon-database'></use></svg></label><div class='xr-var-attrs'><dl class='xr-attrs'><dt><span>long_name :</span></dt><dd>longitude</dd><dt><span>units :</span></dt><dd>degrees_east</dd></dl></div><div class='xr-var-data'><pre>array([220.  , 221.25, 222.5 , 223.75, 225.  , 226.25, 227.5 , 228.75, 230.  ,\n",
       "       231.25, 232.5 , 233.75, 235.  , 236.25, 237.5 , 238.75, 240.  , 241.25,\n",
       "       242.5 , 243.75, 245.  , 246.25, 247.5 , 248.75, 250.  , 251.25, 252.5 ,\n",
       "       253.75, 255.  , 256.25, 257.5 , 258.75, 260.  , 261.25, 262.5 , 263.75,\n",
       "       265.  , 266.25, 267.5 , 268.75, 270.  , 271.25, 272.5 , 273.75, 275.  ,\n",
       "       276.25, 277.5 , 278.75, 280.  , 281.25, 282.5 , 283.75, 285.  , 286.25,\n",
       "       287.5 , 288.75, 290.  , 291.25, 292.5 , 293.75, 295.  , 296.25, 297.5 ,\n",
       "       298.75, 300.  ])</pre></div></li><li class='xr-var-item'><div class='xr-var-name'><span class='xr-has-index'>lat</span></div><div class='xr-var-dims'>(lat)</div><div class='xr-var-dtype'>float64</div><div class='xr-var-preview xr-preview'>20.26 21.2 22.15 ... 58.9 59.84</div><input id='attrs-e7d6b716-e11e-4d52-81b0-d726227f88a4' class='xr-var-attrs-in' type='checkbox' ><label for='attrs-e7d6b716-e11e-4d52-81b0-d726227f88a4' title='Show/Hide attributes'><svg class='icon xr-icon-file-text2'><use xlink:href='#icon-file-text2'></use></svg></label><input id='data-7ccf6aae-c5d0-438a-9b50-d05e42f2d666' class='xr-var-data-in' type='checkbox'><label for='data-7ccf6aae-c5d0-438a-9b50-d05e42f2d666' title='Show/Hide data repr'><svg class='icon xr-icon-database'><use xlink:href='#icon-database'></use></svg></label><div class='xr-var-attrs'><dl class='xr-attrs'><dt><span>long_name :</span></dt><dd>latitude</dd><dt><span>units :</span></dt><dd>degrees_north</dd></dl></div><div class='xr-var-data'><pre>array([20.26178 , 21.204188, 22.146597, 23.089005, 24.031414, 24.973822,\n",
       "       25.91623 , 26.858639, 27.801047, 28.743455, 29.685864, 30.628272,\n",
       "       31.570681, 32.513089, 33.455497, 34.397906, 35.340314, 36.282723,\n",
       "       37.225131, 38.167539, 39.109948, 40.052356, 40.994764, 41.937173,\n",
       "       42.879581, 43.82199 , 44.764398, 45.706806, 46.649215, 47.591623,\n",
       "       48.534031, 49.47644 , 50.418848, 51.361257, 52.303665, 53.246073,\n",
       "       54.188482, 55.13089 , 56.073298, 57.015707, 57.958115, 58.900524,\n",
       "       59.842932])</pre></div></li><li class='xr-var-item'><div class='xr-var-name'><span class='xr-has-index'>time</span></div><div class='xr-var-dims'>(time)</div><div class='xr-var-dtype'>object</div><div class='xr-var-preview xr-preview'>1979-01-01 10:00:00 ... 1981-12-...</div><input id='attrs-2d7fa75f-5a8b-4a7c-89ae-30a8c1a60119' class='xr-var-attrs-in' type='checkbox' ><label for='attrs-2d7fa75f-5a8b-4a7c-89ae-30a8c1a60119' title='Show/Hide attributes'><svg class='icon xr-icon-file-text2'><use xlink:href='#icon-file-text2'></use></svg></label><input id='data-984b778d-f3ae-4a88-a931-9d12412ec65b' class='xr-var-data-in' type='checkbox'><label for='data-984b778d-f3ae-4a88-a931-9d12412ec65b' title='Show/Hide data repr'><svg class='icon xr-icon-database'><use xlink:href='#icon-database'></use></svg></label><div class='xr-var-attrs'><dl class='xr-attrs'><dt><span>long_name :</span></dt><dd>time</dd><dt><span>bounds :</span></dt><dd>time_bnds</dd></dl></div><div class='xr-var-data'><pre>array([cftime.DatetimeNoLeap(1979, 1, 1, 10, 0, 0, 0),\n",
       "       cftime.DatetimeNoLeap(1979, 1, 1, 11, 0, 0, 0),\n",
       "       cftime.DatetimeNoLeap(1979, 1, 1, 12, 0, 0, 0), ...,\n",
       "       cftime.DatetimeNoLeap(1981, 12, 31, 12, 0, 0, 0),\n",
       "       cftime.DatetimeNoLeap(1981, 12, 31, 13, 0, 0, 0),\n",
       "       cftime.DatetimeNoLeap(1981, 12, 31, 14, 0, 0, 0)], dtype=object)</pre></div></li></ul></div></li><li class='xr-section-item'><input id='section-a1399d18-60b0-42ba-865c-df5548ff77d5' class='xr-section-summary-in' type='checkbox'  checked><label for='section-a1399d18-60b0-42ba-865c-df5548ff77d5' class='xr-section-summary' >Data variables: <span>(11)</span></label><div class='xr-section-inline-details'></div><div class='xr-section-details'><ul class='xr-var-list'><li class='xr-var-item'><div class='xr-var-name'><span>Q</span></div><div class='xr-var-dims'>(time, lev, lat, lon)</div><div class='xr-var-dtype'>float32</div><div class='xr-var-preview xr-preview'>2.7808608e-06 ... 0.0025378529</div><input id='attrs-07681002-4a58-4b7c-90a7-ff38fd10297c' class='xr-var-attrs-in' type='checkbox' ><label for='attrs-07681002-4a58-4b7c-90a7-ff38fd10297c' title='Show/Hide attributes'><svg class='icon xr-icon-file-text2'><use xlink:href='#icon-file-text2'></use></svg></label><input id='data-489e29a1-5030-4c82-a97b-e5d91e0b4867' class='xr-var-data-in' type='checkbox'><label for='data-489e29a1-5030-4c82-a97b-e5d91e0b4867' title='Show/Hide data repr'><svg class='icon xr-icon-database'><use xlink:href='#icon-database'></use></svg></label><div class='xr-var-attrs'><dl class='xr-attrs'><dt><span>cell_methods :</span></dt><dd>time: mean</dd><dt><span>long_name :</span></dt><dd>Specific humidity in UTC time.</dd><dt><span>mixing_ratio :</span></dt><dd>wet</dd><dt><span>units :</span></dt><dd>kg/kg</dd><dt><span>mdims :</span></dt><dd>1</dd></dl></div><div class='xr-var-data'><pre>array([[[[2.78086077e-06, 2.78040625e-06, 2.77977551e-06, ...,\n",
       "          2.79973801e-06, 2.80023528e-06, 2.80099812e-06],\n",
       "         [2.78136258e-06, 2.78060043e-06, 2.77998038e-06, ...,\n",
       "          2.81086818e-06, 2.81165944e-06, 2.81261282e-06],\n",
       "         [2.78712332e-06, 2.78514221e-06, 2.78353559e-06, ...,\n",
       "          2.81744019e-06, 2.81727193e-06, 2.81735606e-06],\n",
       "         ...,\n",
       "         [2.89198283e-06, 2.89368700e-06, 2.89650188e-06, ...,\n",
       "          2.98169834e-06, 2.98098939e-06, 2.98023133e-06],\n",
       "         [2.91195033e-06, 2.91786478e-06, 2.92447885e-06, ...,\n",
       "          2.99068438e-06, 2.98977261e-06, 2.98876512e-06],\n",
       "         [2.94461665e-06, 2.94866436e-06, 2.95203313e-06, ...,\n",
       "          3.00234251e-06, 3.00111628e-06, 2.99972635e-06]],\n",
       "\n",
       "        [[2.83152576e-06, 2.83247459e-06, 2.83333407e-06, ...,\n",
       "          2.77008212e-06, 2.76819924e-06, 2.76262631e-06],\n",
       "         [2.83592408e-06, 2.83452982e-06, 2.83444001e-06, ...,\n",
       "          2.78089556e-06, 2.77564573e-06, 2.76867604e-06],\n",
       "         [2.84836506e-06, 2.84422231e-06, 2.84101657e-06, ...,\n",
       "          2.78041762e-06, 2.77457343e-06, 2.76732771e-06],\n",
       "...\n",
       "          1.76861335e-03, 1.58359925e-03, 1.61160249e-03],\n",
       "         [9.00063082e-04, 7.07263651e-04, 1.76084781e-04, ...,\n",
       "          1.88376429e-03, 1.94511400e-03, 1.96180330e-03],\n",
       "         [5.98822080e-04, 3.08478368e-04, 1.64129378e-04, ...,\n",
       "          2.39867205e-03, 2.48796889e-03, 2.48786039e-03]],\n",
       "\n",
       "        [[1.02614658e-02, 1.01593593e-02, 1.01258010e-02, ...,\n",
       "          1.48009053e-02, 1.45442449e-02, 1.43121704e-02],\n",
       "         [1.03878444e-02, 1.03129353e-02, 1.01744710e-02, ...,\n",
       "          1.40793817e-02, 1.41021237e-02, 1.39209637e-02],\n",
       "         [1.04870852e-02, 1.03323124e-02, 1.01964539e-02, ...,\n",
       "          1.34062218e-02, 1.33754974e-02, 1.32172545e-02],\n",
       "         ...,\n",
       "         [1.16167532e-03, 1.09279959e-03, 9.77688353e-04, ...,\n",
       "          1.80401420e-03, 1.60616951e-03, 1.63279858e-03],\n",
       "         [9.48438363e-04, 7.73845299e-04, 1.92549269e-04, ...,\n",
       "          1.91587466e-03, 1.97351235e-03, 1.99264078e-03],\n",
       "         [6.56158663e-04, 4.40484553e-04, 1.01461417e-04, ...,\n",
       "          2.44922843e-03, 2.55337171e-03, 2.53785285e-03]]]],\n",
       "      dtype=float32)</pre></div></li><li class='xr-var-item'><div class='xr-var-name'><span>UTC_hr</span></div><div class='xr-var-dims'>(time)</div><div class='xr-var-dtype'>float32</div><div class='xr-var-preview xr-preview'>10.0 11.0 12.0 ... 12.0 13.0 14.0</div><input id='attrs-b581fb84-ecc9-47da-82f7-b2115bd85559' class='xr-var-attrs-in' type='checkbox' ><label for='attrs-b581fb84-ecc9-47da-82f7-b2115bd85559' title='Show/Hide attributes'><svg class='icon xr-icon-file-text2'><use xlink:href='#icon-file-text2'></use></svg></label><input id='data-51249914-0874-404c-b805-9a197cccfa3f' class='xr-var-data-in' type='checkbox'><label for='data-51249914-0874-404c-b805-9a197cccfa3f' title='Show/Hide data repr'><svg class='icon xr-icon-database'><use xlink:href='#icon-database'></use></svg></label><div class='xr-var-attrs'><dl class='xr-attrs'><dt><span>long_name :</span></dt><dd>Hour in UTC</dd><dt><span>calendar :</span></dt><dd>noleap</dd></dl></div><div class='xr-var-data'><pre>array([10., 11., 12., ..., 12., 13., 14.], dtype=float32)</pre></div></li><li class='xr-var-item'><div class='xr-var-name'><span>UTC_day</span></div><div class='xr-var-dims'>(time)</div><div class='xr-var-dtype'>float32</div><div class='xr-var-preview xr-preview'>1.0 1.0 1.0 1.0 ... 31.0 31.0 31.0</div><input id='attrs-27dfad8c-532a-47c8-a052-6e9d952e8da8' class='xr-var-attrs-in' type='checkbox' ><label for='attrs-27dfad8c-532a-47c8-a052-6e9d952e8da8' title='Show/Hide attributes'><svg class='icon xr-icon-file-text2'><use xlink:href='#icon-file-text2'></use></svg></label><input id='data-5955e313-0cbb-4e8b-a47b-54463b38fdde' class='xr-var-data-in' type='checkbox'><label for='data-5955e313-0cbb-4e8b-a47b-54463b38fdde' title='Show/Hide data repr'><svg class='icon xr-icon-database'><use xlink:href='#icon-database'></use></svg></label><div class='xr-var-attrs'><dl class='xr-attrs'><dt><span>long_name :</span></dt><dd>Day in UTC</dd><dt><span>calendar :</span></dt><dd>noleap</dd></dl></div><div class='xr-var-data'><pre>array([ 1.,  1.,  1., ..., 31., 31., 31.], dtype=float32)</pre></div></li><li class='xr-var-item'><div class='xr-var-name'><span>UTC_mon</span></div><div class='xr-var-dims'>(time)</div><div class='xr-var-dtype'>float32</div><div class='xr-var-preview xr-preview'>1.0 1.0 1.0 1.0 ... 12.0 12.0 12.0</div><input id='attrs-54ef2502-e6ff-40bf-96d8-1609220a4504' class='xr-var-attrs-in' type='checkbox' ><label for='attrs-54ef2502-e6ff-40bf-96d8-1609220a4504' title='Show/Hide attributes'><svg class='icon xr-icon-file-text2'><use xlink:href='#icon-file-text2'></use></svg></label><input id='data-f2c29401-d343-49b3-96c0-e143f4a5a89a' class='xr-var-data-in' type='checkbox'><label for='data-f2c29401-d343-49b3-96c0-e143f4a5a89a' title='Show/Hide data repr'><svg class='icon xr-icon-database'><use xlink:href='#icon-database'></use></svg></label><div class='xr-var-attrs'><dl class='xr-attrs'><dt><span>long_name :</span></dt><dd>Mon in UTC</dd><dt><span>calendar :</span></dt><dd>noleap</dd></dl></div><div class='xr-var-data'><pre>array([ 1.,  1.,  1., ..., 12., 12., 12.], dtype=float32)</pre></div></li><li class='xr-var-item'><div class='xr-var-name'><span>UTC_yr</span></div><div class='xr-var-dims'>(time)</div><div class='xr-var-dtype'>float32</div><div class='xr-var-preview xr-preview'>1979.0 1979.0 ... 1981.0 1981.0</div><input id='attrs-704c7707-6808-4950-b970-85e9b2727b13' class='xr-var-attrs-in' type='checkbox' ><label for='attrs-704c7707-6808-4950-b970-85e9b2727b13' title='Show/Hide attributes'><svg class='icon xr-icon-file-text2'><use xlink:href='#icon-file-text2'></use></svg></label><input id='data-fa70fadf-8930-4b28-ad4e-921b65ae3fd7' class='xr-var-data-in' type='checkbox'><label for='data-fa70fadf-8930-4b28-ad4e-921b65ae3fd7' title='Show/Hide data repr'><svg class='icon xr-icon-database'><use xlink:href='#icon-database'></use></svg></label><div class='xr-var-attrs'><dl class='xr-attrs'><dt><span>long_name :</span></dt><dd>Yr in UTC</dd><dt><span>calendar :</span></dt><dd>noleap</dd></dl></div><div class='xr-var-data'><pre>array([1979., 1979., 1979., ..., 1981., 1981., 1981.], dtype=float32)</pre></div></li><li class='xr-var-item'><div class='xr-var-name'><span>Tlev</span></div><div class='xr-var-dims'>(time, lev, lat, lon)</div><div class='xr-var-dtype'>float32</div><div class='xr-var-preview xr-preview'>250.42609 250.28642 ... 270.61188</div><input id='attrs-b89d067c-bd44-4423-b27b-20417af2396d' class='xr-var-attrs-in' type='checkbox' disabled><label for='attrs-b89d067c-bd44-4423-b27b-20417af2396d' title='Show/Hide attributes'><svg class='icon xr-icon-file-text2'><use xlink:href='#icon-file-text2'></use></svg></label><input id='data-b485b668-8d9e-4e1b-a420-4d3cde99f60a' class='xr-var-data-in' type='checkbox'><label for='data-b485b668-8d9e-4e1b-a420-4d3cde99f60a' title='Show/Hide data repr'><svg class='icon xr-icon-database'><use xlink:href='#icon-database'></use></svg></label><div class='xr-var-attrs'><dl class='xr-attrs'></dl></div><div class='xr-var-data'><pre>array([[[[250.42609, 250.28642, 250.14624, ..., 248.18066, 248.23183,\n",
       "          248.29518],\n",
       "         [250.26886, 250.1536 , 250.033  , ..., 248.08951, 248.14632,\n",
       "          248.22221],\n",
       "         [250.06104, 249.97658, 249.88376, ..., 247.8755 , 247.93837,\n",
       "          248.02246],\n",
       "         ...,\n",
       "         [218.46867, 218.38773, 218.20667, ..., 212.1269 , 212.12334,\n",
       "          212.08595],\n",
       "         [217.56087, 217.50012, 217.30353, ..., 211.62042, 211.61778,\n",
       "          211.59836],\n",
       "         [216.57446, 216.49031, 216.29308, ..., 211.11174, 211.10512,\n",
       "          211.0914 ]],\n",
       "\n",
       "        [[235.94069, 235.84145, 235.74237, ..., 234.66425, 234.71324,\n",
       "          234.7687 ],\n",
       "         [235.71893, 235.6486 , 235.58376, ..., 234.82843, 234.87785,\n",
       "          234.94028],\n",
       "         [235.3057 , 235.2583 , 235.22467, ..., 234.87209, 234.93665,\n",
       "          235.00438],\n",
       "...\n",
       "         [261.1544 , 258.60855, 255.74565, ..., 265.94687, 267.09314,\n",
       "          267.53833],\n",
       "         [258.02972, 253.15683, 244.74489, ..., 267.19034, 268.02277,\n",
       "          268.42886],\n",
       "         [250.37347, 244.28221, 239.8702 , ..., 268.28964, 268.925  ,\n",
       "          269.31384]],\n",
       "\n",
       "        [[293.3083 , 292.98926, 292.68802, ..., 297.0505 , 296.97266,\n",
       "          296.93478],\n",
       "         [293.10632, 292.7815 , 292.5029 , ..., 296.70483, 296.57758,\n",
       "          296.51996],\n",
       "         [292.8373 , 292.52957, 292.30405, ..., 296.2661 , 296.23694,\n",
       "          296.2622 ],\n",
       "         ...,\n",
       "         [262.46725, 259.9523 , 257.14902, ..., 267.2067 , 268.36346,\n",
       "          268.80783],\n",
       "         [259.37192, 254.61285, 239.69476, ..., 268.4626 , 269.30063,\n",
       "          269.7102 ],\n",
       "         [251.77733, 245.56032, 234.18895, ..., 269.57468, 270.21024,\n",
       "          270.61188]]]], dtype=float32)</pre></div></li><li class='xr-var-item'><div class='xr-var-name'><span>Plev</span></div><div class='xr-var-dims'>(time, lev, lat, lon)</div><div class='xr-var-dtype'>float32</div><div class='xr-var-preview xr-preview'>364.34656 364.34656 ... 97498.84</div><input id='attrs-6e7307c6-51bb-4152-b9b7-40efacf2894e' class='xr-var-attrs-in' type='checkbox' disabled><label for='attrs-6e7307c6-51bb-4152-b9b7-40efacf2894e' title='Show/Hide attributes'><svg class='icon xr-icon-file-text2'><use xlink:href='#icon-file-text2'></use></svg></label><input id='data-e8f2b220-b4d2-4a0c-8607-1abc582969eb' class='xr-var-data-in' type='checkbox'><label for='data-e8f2b220-b4d2-4a0c-8607-1abc582969eb' title='Show/Hide data repr'><svg class='icon xr-icon-database'><use xlink:href='#icon-database'></use></svg></label><div class='xr-var-attrs'><dl class='xr-attrs'></dl></div><div class='xr-var-data'><pre>array([[[[   364.34656,    364.34656,    364.34656, ...,    364.34656,\n",
       "             364.34656,    364.34656],\n",
       "         [   364.34656,    364.34656,    364.34656, ...,    364.34656,\n",
       "             364.34656,    364.34656],\n",
       "         [   364.34656,    364.34656,    364.34656, ...,    364.34656,\n",
       "             364.34656,    364.34656],\n",
       "         ...,\n",
       "         [   364.34656,    364.34656,    364.34656, ...,    364.34656,\n",
       "             364.34656,    364.34656],\n",
       "         [   364.34656,    364.34656,    364.34656, ...,    364.34656,\n",
       "             364.34656,    364.34656],\n",
       "         [   364.34656,    364.34656,    364.34656, ...,    364.34656,\n",
       "             364.34656,    364.34656]],\n",
       "\n",
       "        [[   759.482  ,    759.482  ,    759.482  , ...,    759.482  ,\n",
       "             759.482  ,    759.482  ],\n",
       "         [   759.482  ,    759.482  ,    759.482  , ...,    759.482  ,\n",
       "             759.482  ,    759.482  ],\n",
       "         [   759.482  ,    759.482  ,    759.482  , ...,    759.482  ,\n",
       "             759.482  ,    759.482  ],\n",
       "...\n",
       "         [ 99369.125  ,  98597.69   ,  97500.85   , ...,  93203.664  ,\n",
       "           94915.73   ,  95726.484  ],\n",
       "         [ 97159.25   ,  95314.875  ,  93284.164  , ...,  94236.67   ,\n",
       "           95438.375  ,  95882.42   ],\n",
       "         [ 89667.81   ,  88454.48   ,  87731.695  , ...,  95409.85   ,\n",
       "           95870.94   ,  95908.02   ]],\n",
       "\n",
       "        [[101078.82   , 101102.92   , 101120.375  , ..., 101398.21   ,\n",
       "          101418.23   , 101431.01   ],\n",
       "         [101139.73   , 101163.43   , 101183.03   , ..., 101467.39   ,\n",
       "          101480.766  , 101497.38   ],\n",
       "         [101207.59   , 101232.6    , 101249.11   , ..., 101545.7    ,\n",
       "          101551.54   , 101559.96   ],\n",
       "         ...,\n",
       "         [101024.67   , 100238.805  ,  99121.46   , ...,  94743.914  ,\n",
       "           96487.99   ,  97313.91   ],\n",
       "         [ 98773.47   ,  96894.61   ,  94825.914  , ...,  95796.24   ,\n",
       "           97020.414  ,  97472.76   ],\n",
       "         [ 91141.945  ,  89905.914  ,  89169.62   , ...,  96991.36   ,\n",
       "           97461.07   ,  97498.84   ]]]], dtype=float32)</pre></div></li><li class='xr-var-item'><div class='xr-var-name'><span>PS</span></div><div class='xr-var-dims'>(time, lat, lon)</div><div class='xr-var-dtype'>float32</div><div class='xr-var-preview xr-preview'>102068.03 102079.78 ... 98230.06</div><input id='attrs-0f94998f-6baf-41cf-94ec-f47ce72ca5cf' class='xr-var-attrs-in' type='checkbox' disabled><label for='attrs-0f94998f-6baf-41cf-94ec-f47ce72ca5cf' title='Show/Hide attributes'><svg class='icon xr-icon-file-text2'><use xlink:href='#icon-file-text2'></use></svg></label><input id='data-12bf2129-9ef7-49ac-aa6c-67bd27daeee1' class='xr-var-data-in' type='checkbox'><label for='data-12bf2129-9ef7-49ac-aa6c-67bd27daeee1' title='Show/Hide data repr'><svg class='icon xr-icon-database'><use xlink:href='#icon-database'></use></svg></label><div class='xr-var-attrs'><dl class='xr-attrs'></dl></div><div class='xr-var-data'><pre>array([[[102068.03 , 102079.78 , 102098.38 , ..., 101945.01 ,\n",
       "         101926.77 , 101904.86 ],\n",
       "        [102176.31 , 102195.305, 102211.03 , ..., 102056.336,\n",
       "         102045.96 , 102026.766],\n",
       "        [102286.6  , 102307.26 , 102314.41 , ..., 102182.66 ,\n",
       "         102164.46 , 102146.35 ],\n",
       "        ...,\n",
       "        [100037.39 ,  99459.68 ,  98601.4  , ...,  96038.84 ,\n",
       "          97893.2  ,  98744.5  ],\n",
       "        [ 97703.734,  96107.97 ,  94273.61 , ...,  96789.23 ,\n",
       "          98111.15 ,  98580.75 ],\n",
       "        [ 90511.08 ,  89315.39 ,  88640.6  , ...,  97764.83 ,\n",
       "          98284.19 ,  98321.766]],\n",
       "\n",
       "       [[102024.99 , 102032.04 , 102047.586, ..., 101969.79 ,\n",
       "         101953.56 , 101932.664],\n",
       "        [102132.5  , 102147.99 , 102162.15 , ..., 102077.164,\n",
       "         102067.26 , 102051.15 ],\n",
       "        [102245.82 , 102262.72 , 102271.05 , ..., 102196.58 ,\n",
       "         102178.72 , 102164.05 ],\n",
       "...\n",
       "        [101783.42 , 100995.71 ,  99867.02 , ...,  95423.414,\n",
       "          97185.11 ,  98036.13 ],\n",
       "        [ 99514.54 ,  97622.08 ,  95535.22 , ...,  96519.4  ,\n",
       "          97764.984,  98232.22 ],\n",
       "        [ 91833.76 ,  90588.91 ,  89841.03 , ...,  97719.62 ,\n",
       "          98213.586,  98270.35 ]],\n",
       "\n",
       "       [[101836.88 , 101861.164, 101878.75 , ..., 102158.67 ,\n",
       "         102178.836, 102191.71 ],\n",
       "        [101898.25 , 101922.125, 101941.875, ..., 102228.37 ,\n",
       "         102241.84 , 102258.586],\n",
       "        [101966.625, 101991.82 , 102008.45 , ..., 102307.266,\n",
       "         102313.15 , 102321.63 ],\n",
       "        ...,\n",
       "        [101782.33 , 100990.57 ,  99864.84 , ...,  95454.47 ,\n",
       "          97211.625,  98043.734],\n",
       "        [ 99514.24 ,  97621.29 ,  95537.086, ...,  96514.69 ,\n",
       "          97748.04 ,  98203.78 ],\n",
       "        [ 91825.484,  90580.19 ,  89838.37 , ...,  97718.766,\n",
       "          98192.   ,  98230.06 ]]], dtype=float32)</pre></div></li><li class='xr-var-item'><div class='xr-var-name'><span>T2m</span></div><div class='xr-var-dims'>(time, lat, lon)</div><div class='xr-var-dtype'>float32</div><div class='xr-var-preview xr-preview'>293.90747 293.6864 ... 271.51926</div><input id='attrs-134579be-1b76-4624-9c45-db9cc6ea0f54' class='xr-var-attrs-in' type='checkbox' disabled><label for='attrs-134579be-1b76-4624-9c45-db9cc6ea0f54' title='Show/Hide attributes'><svg class='icon xr-icon-file-text2'><use xlink:href='#icon-file-text2'></use></svg></label><input id='data-b327ecd7-a932-4410-bc79-b3b0a8897024' class='xr-var-data-in' type='checkbox'><label for='data-b327ecd7-a932-4410-bc79-b3b0a8897024' title='Show/Hide data repr'><svg class='icon xr-icon-database'><use xlink:href='#icon-database'></use></svg></label><div class='xr-var-attrs'><dl class='xr-attrs'></dl></div><div class='xr-var-data'><pre>array([[[293.90747, 293.6864 , 293.51004, ..., 297.85977, 297.7836 ,\n",
       "         297.79803],\n",
       "        [293.52835, 293.30334, 293.05682, ..., 297.56564, 297.48126,\n",
       "         297.43344],\n",
       "        [293.19296, 292.92856, 292.69818, ..., 297.23895, 297.1924 ,\n",
       "         297.11664],\n",
       "        ...,\n",
       "        [278.95963, 278.57352, 276.82712, ..., 247.6405 , 252.39215,\n",
       "         256.4636 ],\n",
       "        [276.93912, 276.0765 , 271.914  , ..., 252.1727 , 255.57816,\n",
       "         258.6631 ],\n",
       "        [273.68378, 271.59717, 267.28824, ..., 255.0083 , 258.09164,\n",
       "         260.27948]],\n",
       "\n",
       "       [[293.8441 , 293.62173, 293.4606 , ..., 297.86307, 297.8145 ,\n",
       "         297.81638],\n",
       "        [293.48282, 293.2407 , 293.0083 , ..., 297.5916 , 297.50552,\n",
       "         297.46597],\n",
       "        [293.13004, 292.8779 , 292.6625 , ..., 297.23047, 297.22208,\n",
       "         297.111  ],\n",
       "...\n",
       "        [265.06982, 262.893  , 260.5198 , ..., 267.15927, 268.98206,\n",
       "         269.32565],\n",
       "        [262.38138, 257.7154 , 239.64775, ..., 269.0444 , 269.9521 ,\n",
       "         270.30597],\n",
       "        [254.16795, 245.35033, 233.83397, ..., 270.3913 , 270.9247 ,\n",
       "         271.2582 ]],\n",
       "\n",
       "       [[294.3354 , 294.03134, 293.71902, ..., 297.92224, 297.84293,\n",
       "         297.80713],\n",
       "        [294.1121 , 293.8042 , 293.51575, ..., 297.58405, 297.4628 ,\n",
       "         297.39835],\n",
       "        [293.83115, 293.54178, 293.3073 , ..., 297.16217, 297.11652,\n",
       "         297.11893],\n",
       "        ...,\n",
       "        [264.9682 , 262.85565, 260.40643, ..., 267.3478 , 269.32535,\n",
       "         269.78006],\n",
       "        [262.30142, 257.6048 , 239.4861 , ..., 269.23486, 270.2335 ,\n",
       "         270.64502],\n",
       "        [254.08711, 245.2119 , 233.63533, ..., 270.51587, 271.09384,\n",
       "         271.51926]]], dtype=float32)</pre></div></li><li class='xr-var-item'><div class='xr-var-name'><span>Q2m</span></div><div class='xr-var-dims'>(time, lat, lon)</div><div class='xr-var-dtype'>float32</div><div class='xr-var-preview xr-preview'>0.011486784 ... 0.0027535888</div><input id='attrs-0fe7c705-af94-4071-b31d-7cbbcfafc370' class='xr-var-attrs-in' type='checkbox' disabled><label for='attrs-0fe7c705-af94-4071-b31d-7cbbcfafc370' title='Show/Hide attributes'><svg class='icon xr-icon-file-text2'><use xlink:href='#icon-file-text2'></use></svg></label><input id='data-05f64bf7-124f-4f66-8f59-a1e5b834eeef' class='xr-var-data-in' type='checkbox'><label for='data-05f64bf7-124f-4f66-8f59-a1e5b834eeef' title='Show/Hide data repr'><svg class='icon xr-icon-database'><use xlink:href='#icon-database'></use></svg></label><div class='xr-var-attrs'><dl class='xr-attrs'></dl></div><div class='xr-var-data'><pre>array([[[1.14867836e-02, 1.13031911e-02, 1.10679083e-02, ...,\n",
       "         1.53330453e-02, 1.52907036e-02, 1.53392190e-02],\n",
       "        [1.11766579e-02, 1.09012071e-02, 1.06608151e-02, ...,\n",
       "         1.50418095e-02, 1.50017021e-02, 1.49660660e-02],\n",
       "        [1.07901786e-02, 1.05126482e-02, 1.03168357e-02, ...,\n",
       "         1.44011835e-02, 1.44448150e-02, 1.44830262e-02],\n",
       "        ...,\n",
       "        [5.24618011e-03, 5.14069572e-03, 4.93255025e-03, ...,\n",
       "         3.95295327e-04, 6.63765240e-04, 1.03074196e-03],\n",
       "        [5.01462445e-03, 4.75418475e-03, 3.60349007e-03, ...,\n",
       "         5.91021206e-04, 8.89405666e-04, 1.20275677e-03],\n",
       "        [4.23123455e-03, 3.71241849e-03, 2.65380042e-03, ...,\n",
       "         8.11859965e-04, 1.15270924e-03, 1.38282334e-03]],\n",
       "\n",
       "       [[1.14389667e-02, 1.12728626e-02, 1.10542849e-02, ...,\n",
       "         1.53047787e-02, 1.52970320e-02, 1.53121306e-02],\n",
       "        [1.11185154e-02, 1.08421128e-02, 1.06365513e-02, ...,\n",
       "         1.49868065e-02, 1.49109242e-02, 1.48709202e-02],\n",
       "        [1.07442504e-02, 1.05183739e-02, 1.03285322e-02, ...,\n",
       "         1.43724773e-02, 1.44062629e-02, 1.44620650e-02],\n",
       "...\n",
       "        [1.66518835e-03, 1.63106341e-03, 1.53079513e-03, ...,\n",
       "         1.95600931e-03, 1.84516748e-03, 1.83062791e-03],\n",
       "        [1.50897517e-03, 1.22680562e-03, 1.89824292e-04, ...,\n",
       "         1.94607431e-03, 1.98515644e-03, 1.97670865e-03],\n",
       "        [9.87842213e-04, 4.56926035e-04, 9.48626257e-05, ...,\n",
       "         2.60594254e-03, 2.63270643e-03, 2.66633532e-03]],\n",
       "\n",
       "       [[1.13693215e-02, 1.12330541e-02, 1.11443233e-02, ...,\n",
       "         1.56878177e-02, 1.54414363e-02, 1.52255744e-02],\n",
       "        [1.14101851e-02, 1.13048758e-02, 1.11352522e-02, ...,\n",
       "         1.49956066e-02, 1.49867600e-02, 1.48030967e-02],\n",
       "        [1.14367800e-02, 1.12730870e-02, 1.11194737e-02, ...,\n",
       "         1.43089704e-02, 1.42586576e-02, 1.40987365e-02],\n",
       "        ...,\n",
       "        [1.67058466e-03, 1.63822982e-03, 1.53528352e-03, ...,\n",
       "         1.96609786e-03, 1.84815773e-03, 1.86392432e-03],\n",
       "        [1.50637550e-03, 1.22192409e-03, 1.87451617e-04, ...,\n",
       "         2.11493368e-03, 2.19367142e-03, 2.22565210e-03],\n",
       "        [9.83052421e-04, 4.53165179e-04, 9.25816057e-05, ...,\n",
       "         2.63746129e-03, 2.73868674e-03, 2.75358884e-03]]], dtype=float32)</pre></div></li><li class='xr-var-item'><div class='xr-var-name'><span>SHF</span></div><div class='xr-var-dims'>(time, lat, lon)</div><div class='xr-var-dtype'>float32</div><div class='xr-var-preview xr-preview'>39.52112 41.92458 ... 28.1356</div><input id='attrs-4f6404cb-af02-4efe-b490-cc30f3b8396d' class='xr-var-attrs-in' type='checkbox' disabled><label for='attrs-4f6404cb-af02-4efe-b490-cc30f3b8396d' title='Show/Hide attributes'><svg class='icon xr-icon-file-text2'><use xlink:href='#icon-file-text2'></use></svg></label><input id='data-b8963c42-cab7-4959-b4cb-c97aa32da49e' class='xr-var-data-in' type='checkbox'><label for='data-b8963c42-cab7-4959-b4cb-c97aa32da49e' title='Show/Hide data repr'><svg class='icon xr-icon-database'><use xlink:href='#icon-database'></use></svg></label><div class='xr-var-attrs'><dl class='xr-attrs'></dl></div><div class='xr-var-data'><pre>array([[[ 3.95211182e+01,  4.19245796e+01,  4.46588898e+01, ...,\n",
       "          3.24018555e+01,  3.16118336e+01,  2.95429211e+01],\n",
       "        [ 3.88123016e+01,  4.18553276e+01,  4.35411797e+01, ...,\n",
       "          3.50743980e+01,  3.40490761e+01,  3.30452461e+01],\n",
       "        [ 3.81399002e+01,  4.19566040e+01,  4.22343025e+01, ...,\n",
       "          3.64033966e+01,  3.54695129e+01,  3.51769638e+01],\n",
       "        ...,\n",
       "        [ 6.16072655e-01,  1.08028316e+01,  3.70455894e+01, ...,\n",
       "          4.32918434e+01,  2.64307709e+02,  4.55240967e+02],\n",
       "        [ 3.10725632e+01,  9.75811100e+00, -5.33608627e+00, ...,\n",
       "          1.04829491e+02,  3.33787720e+02,  4.86352539e+02],\n",
       "        [ 4.79833841e+00,  1.15911274e+01, -7.36559391e-01, ...,\n",
       "          1.69749283e+02,  4.33580933e+02,  5.06442596e+02]],\n",
       "\n",
       "       [[ 4.08209572e+01,  4.34455566e+01,  4.61175194e+01, ...,\n",
       "          3.28471832e+01,  3.14349270e+01,  2.95784779e+01],\n",
       "        [ 3.96577911e+01,  4.31845779e+01,  4.47289848e+01, ...,\n",
       "          3.47676811e+01,  3.40179214e+01,  3.28369751e+01],\n",
       "        [ 3.92313538e+01,  4.28844070e+01,  4.28608551e+01, ...,\n",
       "          3.66022568e+01,  3.50215225e+01,  3.54837570e+01],\n",
       "...\n",
       "          1.02741909e+01,  4.28182755e+01,  4.10116997e+01],\n",
       "        [ 4.97044525e+02,  5.37596069e+02, -1.70879245e-01, ...,\n",
       "          2.84430523e+01,  3.12456398e+01,  3.05952682e+01],\n",
       "        [ 4.02628693e+02,  1.03635048e+02, -3.77055016e+01, ...,\n",
       "          2.73580399e+01,  2.27485332e+01,  2.60316029e+01]],\n",
       "\n",
       "       [[ 4.20090141e+01,  4.36087494e+01,  4.21003990e+01, ...,\n",
       "          2.01215897e+01,  1.97525749e+01,  1.91461029e+01],\n",
       "        [ 3.91356430e+01,  4.09737015e+01,  3.97378578e+01, ...,\n",
       "          2.07041016e+01,  2.10215511e+01,  2.02486973e+01],\n",
       "        [ 3.74241257e+01,  3.94961929e+01,  3.84292603e+01, ...,\n",
       "          2.08790874e+01,  2.05970078e+01,  1.89127083e+01],\n",
       "        ...,\n",
       "        [ 3.71989838e+02,  4.93933289e+02,  6.04174072e+02, ...,\n",
       "          8.54603481e+00,  3.95466614e+01,  3.71824837e+01],\n",
       "        [ 4.97750549e+02,  5.40169495e+02,  3.53434920e-01, ...,\n",
       "          2.91830769e+01,  3.22197723e+01,  3.17852879e+01],\n",
       "        [ 4.03546875e+02,  1.05670631e+02, -3.73937111e+01, ...,\n",
       "          3.20807495e+01,  2.63363686e+01,  2.81355991e+01]]],\n",
       "      dtype=float32)</pre></div></li></ul></div></li><li class='xr-section-item'><input id='section-bb2d229a-7630-405b-ac85-97397bfcd36e' class='xr-section-summary-in' type='checkbox'  checked><label for='section-bb2d229a-7630-405b-ac85-97397bfcd36e' class='xr-section-summary' >Attributes: <span>(4)</span></label><div class='xr-section-inline-details'></div><div class='xr-section-details'><dl class='xr-attrs'><dt><span>creation_date :</span></dt><dd>Mon Aug 31 17:46:50 MDT 2020</dd><dt><span>Conventions :</span></dt><dd>None</dd><dt><span>source_file :</span></dt><dd>/glade/scratch/mdfowler/processedData/f.e21.FHIST_BGC.f09_f09_mg17.hourlyOutput.001.cam.h1.1979_hrQ.nc</dd><dt><span>title :</span></dt><dd>NCL used to get UTC; 4 early morning hours saved out.</dd></dl></div></li></ul></div></div>"
      ],
      "text/plain": [
       "<xarray.Dataset>\n",
       "Dimensions:  (lat: 43, lev: 32, lon: 65, time: 5475)\n",
       "Coordinates:\n",
       "  * lev      (lev) float64 3.643 7.595 14.36 24.61 ... 936.2 957.5 976.3 992.6\n",
       "  * lon      (lon) float64 220.0 221.2 222.5 223.8 ... 296.2 297.5 298.8 300.0\n",
       "  * lat      (lat) float64 20.26 21.2 22.15 23.09 ... 57.02 57.96 58.9 59.84\n",
       "  * time     (time) object 1979-01-01 10:00:00 ... 1981-12-31 14:00:00\n",
       "Data variables:\n",
       "    Q        (time, lev, lat, lon) float32 2.7808608e-06 ... 0.0025378529\n",
       "    UTC_hr   (time) float32 10.0 11.0 12.0 13.0 14.0 ... 11.0 12.0 13.0 14.0\n",
       "    UTC_day  (time) float32 1.0 1.0 1.0 1.0 1.0 2.0 ... 31.0 31.0 31.0 31.0 31.0\n",
       "    UTC_mon  (time) float32 1.0 1.0 1.0 1.0 1.0 1.0 ... 12.0 12.0 12.0 12.0 12.0\n",
       "    UTC_yr   (time) float32 1979.0 1979.0 1979.0 1979.0 ... 1981.0 1981.0 1981.0\n",
       "    Tlev     (time, lev, lat, lon) float32 250.42609 250.28642 ... 270.61188\n",
       "    Plev     (time, lev, lat, lon) float32 364.34656 364.34656 ... 97498.84\n",
       "    PS       (time, lat, lon) float32 102068.03 102079.78 ... 98192.0 98230.06\n",
       "    T2m      (time, lat, lon) float32 293.90747 293.6864 ... 271.09384 271.51926\n",
       "    Q2m      (time, lat, lon) float32 0.011486784 0.011303191 ... 0.0027535888\n",
       "    SHF      (time, lat, lon) float32 39.52112 41.92458 ... 26.336369 28.1356\n",
       "Attributes:\n",
       "    creation_date:  Mon Aug 31 17:46:50 MDT 2020\n",
       "    Conventions:    None\n",
       "    source_file:    /glade/scratch/mdfowler/processedData/f.e21.FHIST_BGC.f09...\n",
       "    title:          NCL used to get UTC; 4 early morning hours saved out."
      ]
     },
     "execution_count": 6,
     "metadata": {},
     "output_type": "execute_result"
    }
   ],
   "source": [
    "ds_Full"
   ]
  },
  {
   "cell_type": "code",
   "execution_count": 6,
   "metadata": {
    "ExecuteTime": {
     "end_time": "2020-09-08T18:56:32.669685Z",
     "start_time": "2020-09-08T18:56:16.316155Z"
    }
   },
   "outputs": [],
   "source": [
    "# Pick out 12 UTC only \n",
    "ds_utc12 = ds_Full.where( ds_Full.UTC_hr==12.0 , drop=True )\n"
   ]
  },
  {
   "cell_type": "code",
   "execution_count": 7,
   "metadata": {
    "ExecuteTime": {
     "end_time": "2020-09-08T18:56:32.680998Z",
     "start_time": "2020-09-08T18:56:32.674113Z"
    }
   },
   "outputs": [],
   "source": [
    "# Define dimensions \n",
    "nLat  = len(ds_utc12.lat)\n",
    "nLon  = len(ds_utc12.lon)\n",
    "nTime = len(ds_utc12.time)\n"
   ]
  },
  {
   "cell_type": "code",
   "execution_count": null,
   "metadata": {},
   "outputs": [],
   "source": []
  },
  {
   "cell_type": "markdown",
   "metadata": {
    "heading_collapsed": true
   },
   "source": [
    "## Compute CTP and HI_low "
   ]
  },
  {
   "cell_type": "code",
   "execution_count": 16,
   "metadata": {
    "hidden": true
   },
   "outputs": [
    {
     "name": "stdout",
     "output_type": "stream",
     "text": [
      "Done with lat 0 of 43 \n",
      "Done with lat 1 of 43 \n",
      "Done with lat 2 of 43 \n",
      "Done with lat 3 of 43 \n",
      "Done with lat 4 of 43 \n",
      "Done with lat 5 of 43 \n",
      "Done with lat 6 of 43 \n",
      "Done with lat 7 of 43 \n",
      "Done with lat 8 of 43 \n",
      "Done with lat 9 of 43 \n",
      "Done with lat 10 of 43 \n",
      "Done with lat 11 of 43 \n",
      "Done with lat 12 of 43 \n",
      "Done with lat 13 of 43 \n",
      "Done with lat 14 of 43 \n",
      "Done with lat 15 of 43 \n",
      "Done with lat 16 of 43 \n",
      "Done with lat 17 of 43 \n",
      "Done with lat 18 of 43 \n",
      "Done with lat 19 of 43 \n",
      "Done with lat 20 of 43 \n",
      "Done with lat 21 of 43 \n",
      "Done with lat 22 of 43 \n",
      "Done with lat 23 of 43 \n",
      "Done with lat 24 of 43 \n",
      "Done with lat 25 of 43 \n",
      "Done with lat 26 of 43 \n",
      "Done with lat 27 of 43 \n",
      "Done with lat 28 of 43 \n",
      "Done with lat 29 of 43 \n",
      "Done with lat 30 of 43 \n",
      "Done with lat 31 of 43 \n",
      "Done with lat 32 of 43 \n",
      "Done with lat 33 of 43 \n",
      "Done with lat 34 of 43 \n",
      "Done with lat 35 of 43 \n",
      "Done with lat 36 of 43 \n",
      "Done with lat 37 of 43 \n",
      "Done with lat 38 of 43 \n",
      "Done with lat 39 of 43 \n",
      "Done with lat 40 of 43 \n",
      "Done with lat 41 of 43 \n",
      "Done with lat 42 of 43 \n",
      "Time elapsed for all points and times: 10752.282 sec\n"
     ]
    }
   ],
   "source": [
    "# Define empty arrays to save things into \n",
    "CTP_all   = np.full([nTime,nLat,nLon], np.nan)\n",
    "HIlow_all = np.full([nTime,nLat,nLon], np.nan)\n",
    "\n",
    "t_All = time.time()\n",
    "\n",
    "for iLat in range(nLat):\n",
    "    for iLon in range(nLon):\n",
    "        for iT in range(nTime):\n",
    "            \n",
    "            # Pick out specific point and time period \n",
    "            DF = ds_Full.isel(lat=iLat,lon=iLon,time=iT).to_dataframe()\n",
    "            \n",
    "            # Flip order of levels so that surface comes first (required for function)\n",
    "            DF = DF.reindex(index=DF.index[::-1])\n",
    "            \n",
    "            # Compute CTP and HI_low\n",
    "            CTP_all[iT,iLat,iLon], HIlow_all[iT,iLat,iLon] = CTP_hilow(DF['Tlev'].values, DF['Q'].values, \n",
    "                                                                   DF['Plev'].values, DF['T2m'].values[0], \n",
    "                                                                   DF['Q2m'].values[0], DF['PS'].values[0])\n",
    "    print('Done with lat %i of %i ' % (iLat, nLat))\n",
    "        \n",
    "\n",
    "print('Time elapsed for all points and times: %.3f sec' % (time.time() - t_All))\n"
   ]
  },
  {
   "cell_type": "code",
   "execution_count": 17,
   "metadata": {
    "hidden": true
   },
   "outputs": [],
   "source": [
    "# Save the array with CTP \n",
    "saveDir  = '/Users/meganfowler/Documents/NCAR/Analysis/Coupling_initial/Coupling_CAM6CLM5/processed_data/'\n",
    "saveFile = 'f.e21.FHIST_BGC.f09_f09_mg17.hourlyOutput.001.CTP_CONUS_12utc.p' \n",
    "\n",
    "pickle.dump( CTP_all, open( saveDir+saveFile, \"wb\" ), protocol=4 )"
   ]
  },
  {
   "cell_type": "code",
   "execution_count": 18,
   "metadata": {
    "hidden": true
   },
   "outputs": [],
   "source": [
    "# Save the array with CTP \n",
    "saveDir  = '/Users/meganfowler/Documents/NCAR/Analysis/Coupling_initial/Coupling_CAM6CLM5/processed_data/'\n",
    "saveFile = 'f.e21.FHIST_BGC.f09_f09_mg17.hourlyOutput.001.HIlow_CONUS_12utc.p' \n",
    "\n",
    "pickle.dump( HIlow_all, open( saveDir+saveFile, \"wb\" ), protocol=4 )"
   ]
  },
  {
   "cell_type": "code",
   "execution_count": 20,
   "metadata": {
    "hidden": true
   },
   "outputs": [
    {
     "data": {
      "text/plain": [
       "2.9867449999999995"
      ]
     },
     "execution_count": 20,
     "metadata": {},
     "output_type": "execute_result"
    }
   ],
   "source": [
    "# How long was compute time in hours?\n",
    "10752.282/60/60\n"
   ]
  },
  {
   "cell_type": "markdown",
   "metadata": {},
   "source": [
    "## Analysis time, yay!! "
   ]
  },
  {
   "cell_type": "code",
   "execution_count": 8,
   "metadata": {
    "ExecuteTime": {
     "end_time": "2020-09-08T18:56:32.714935Z",
     "start_time": "2020-09-08T18:56:32.682854Z"
    }
   },
   "outputs": [],
   "source": [
    "# Read in from pickle files \n",
    "saveDir        = '/Users/meganfowler/Documents/NCAR/Analysis/Coupling_initial/Coupling_CAM6CLM5/processed_data/'\n",
    "CTP_fileName   = saveDir+'f.e21.FHIST_BGC.f09_f09_mg17.hourlyOutput.001.CTP_CONUS_12utc.p'\n",
    "HIlow_fileName = saveDir+'f.e21.FHIST_BGC.f09_f09_mg17.hourlyOutput.001.HIlow_CONUS_12utc.p'\n",
    "\n",
    "CTP_all   = pickle.load(open(CTP_fileName, \"rb\"))\n",
    "HIlow_all = pickle.load(open(HIlow_fileName, \"rb\"))\n"
   ]
  },
  {
   "cell_type": "code",
   "execution_count": 9,
   "metadata": {
    "ExecuteTime": {
     "end_time": "2020-09-08T18:56:32.723161Z",
     "start_time": "2020-09-08T18:56:32.716531Z"
    }
   },
   "outputs": [],
   "source": [
    "# Probably could've done this first... But let's use just days from JJA \n",
    "iMon    = np.where((ds_utc12.UTC_mon.values>=6) & (ds_utc12.UTC_mon.values<=8) )[0]\n",
    "\n",
    "CTP_jja = CTP_all[iMon,:,:]\n",
    "HI_jja  = HIlow_all[iMon,:,:]\n",
    "\n",
    "# Going to also isolate the years here \n",
    "yrs_jja = ds_utc12.UTC_yr.values[iMon]\n"
   ]
  },
  {
   "cell_type": "code",
   "execution_count": 10,
   "metadata": {
    "ExecuteTime": {
     "end_time": "2020-09-08T18:56:32.729036Z",
     "start_time": "2020-09-08T18:56:32.726666Z"
    }
   },
   "outputs": [],
   "source": [
    "# So define dimensions again \n",
    "nTime = np.shape(CTP_jja)[0]\n",
    "nLat  = np.shape(CTP_jja)[1]\n",
    "nLon  = np.shape(CTP_jja)[2]\n"
   ]
  },
  {
   "cell_type": "code",
   "execution_count": 11,
   "metadata": {
    "ExecuteTime": {
     "end_time": "2020-09-08T18:56:32.876625Z",
     "start_time": "2020-09-08T18:56:32.730971Z"
    }
   },
   "outputs": [],
   "source": [
    "# Could've done this before too - apply land mask \n",
    "dataDir  = '/Users/meganfowler/Documents/NCAR/Analysis/Coupling_initial/data/hrSim_CONUS/'\n",
    "fileName = 'f.e21.FHIST_BGC.f09_f09_mg17.hourlyOutput.001.clm2.h0.1980-01.nc'\n",
    "data = xr.open_dataset(dataDir+fileName, decode_times=False)\n",
    "\n",
    "# Read in land mask and limit to lat/lon used here\n",
    "landMask = data.landmask.values\n",
    "\n",
    "iLat = np.where((data.lat.values>=np.min(ds_utc12.lat.values)) & (data.lat.values<=np.max(ds_utc12.lat.values)))[0]\n",
    "iLon = np.where((data.lon.values>=np.min(ds_utc12.lon.values)) & (data.lon.values<=np.max(ds_utc12.lon.values)))[0]\n",
    "\n",
    "landMask_sel = landMask[iLat,:]\n",
    "landMask_sel = landMask_sel[:,iLon]\n",
    "\n",
    "CTP_jja = CTP_jja*landMask_sel\n",
    "HI_jja  = HI_jja*landMask_sel\n"
   ]
  },
  {
   "cell_type": "markdown",
   "metadata": {},
   "source": [
    "<br>\n",
    "To start, I'm going to apply the fairly rigid classification scheme from Findell and Eltahir (2003). Note though that there are valid reasons for *not* doing that and following something more flexible and data-dependent, like Ferguson and Wood (2011). We should apply that later and check for differences.\n",
    "<br>"
   ]
  },
  {
   "cell_type": "code",
   "execution_count": 67,
   "metadata": {
    "ExecuteTime": {
     "end_time": "2020-09-03T19:12:25.843947Z",
     "start_time": "2020-09-03T19:12:25.716720Z"
    }
   },
   "outputs": [
    {
     "data": {
      "image/png": "[encoded data removed]",
      "text/plain": [
       "<Figure size 432x288 with 1 Axes>"
      ]
     },
     "metadata": {
      "needs_background": "light"
     },
     "output_type": "display_data"
    }
   ],
   "source": [
    "# Check distribution of HI_low\n",
    "#   FE03 keeps HI in units of ˚C, but ours in K. \n",
    "#   In retrospect though, since it's just a measure of the difference in T and Td between levels, \n",
    "#   that *difference* should be unaffected by which units of temperature were used (for ˚C vs. K, at least). \n",
    "\n",
    "plt.hist(HI_jja.reshape([nTime*nLat*nLon,1]))\n",
    "plt.show()\n",
    "\n",
    "# And that distribution looks quite reasonable! See FE03_part2 Fig. 4 for example. "
   ]
  },
  {
   "cell_type": "code",
   "execution_count": 12,
   "metadata": {
    "ExecuteTime": {
     "end_time": "2020-09-08T17:33:40.087981Z",
     "start_time": "2020-09-08T17:33:37.676558Z"
    }
   },
   "outputs": [],
   "source": [
    "# Going to make a key for classification: \n",
    "#  1 -- Atmospherically controlled (too stable for rain)\n",
    "#  2 -- Atmospherically controlled (too dry for rain)\n",
    "#  3 -- Atmospherically controlled (rainfall likely regardless of soil moisture)\n",
    "#  4 -- Wet soil advantage \n",
    "#  5 -- Dry soil advantage \n",
    "#  6 -- Transition region \n",
    "#  7 -- Shallow clouds likely over wet, but no rain. This one doesn't really count. \n",
    "\n",
    "regime_jja = np.full([nTime, nLat, nLon], np.nan)\n",
    "\n",
    "# Look at each profile individually \n",
    "for iT in range(nTime):\n",
    "    for iLat in range(nLat):\n",
    "        for iLon in range(nLon):\n",
    "            \n",
    "            CTP_point = CTP_jja[iT, iLat, iLon]\n",
    "            HI_point  = HI_jja[iT, iLat, iLon]\n",
    "            \n",
    "            # First, let's pick out soundings that are atmospherically controlled (too stable)\n",
    "            if CTP_point<0: \n",
    "                regime_jja[iT, iLat, iLon] = 1\n",
    "            # Atmospherically controlled and too dry for rain    \n",
    "            elif ( (CTP_point>=0) & (HI_point>=15) ):\n",
    "                regime_jja[iT,iLat,iLon] = 2\n",
    "            # Atmospherically controlled and lead to rain over any soil moisture\n",
    "            elif ( (CTP_point>=0) & (HI_point<5) ):\n",
    "                regime_jja[iT,iLat,iLon] = 3\n",
    "            # Wet soil advantage for precipitation \n",
    "            elif ((CTP_point>=0) & (HI_point>=5) & (HI_point<10) ):\n",
    "                regime_jja[iT,iLat,iLon] = 4\n",
    "            # Dry soil advantage for precipitation     \n",
    "            elif ((CTP_point>=200) & (HI_point>=10) & (HI_point<15) ):\n",
    "                regime_jja[iT,iLat,iLon] = 5\n",
    "            # Transition region \n",
    "            elif ((CTP_point>=50) & (CTP_point<200) & (HI_point>=10) & (HI_point<15) ):\n",
    "                regime_jja[iT,iLat,iLon] = 6\n",
    "            # Section just to catch shallow clouds likely over wet; no rain expected in this category though\n",
    "            elif ((CTP_point<50) & (HI_point>=10) & (HI_point<15) ):\n",
    "                regime_jja[iT,iLat,iLon] = 7\n",
    "            # Add a catch-other regions option (ruh-roh section)\n",
    "            elif np.isfinite(CTP_point): \n",
    "                regime_jja[iT,iLat,iLon] = 8\n",
    "                \n",
    "regime_jja = regime_jja\n"
   ]
  },
  {
   "cell_type": "code",
   "execution_count": 16,
   "metadata": {
    "ExecuteTime": {
     "end_time": "2020-09-03T21:25:41.816011Z",
     "start_time": "2020-09-03T21:25:41.813659Z"
    }
   },
   "outputs": [],
   "source": [
    "# Define array of labels for each category \n",
    "labels = ['Atm', 'Atm', 'Atm','Wet SM', 'Dry SM','Transition','No rain']"
   ]
  },
  {
   "cell_type": "code",
   "execution_count": 17,
   "metadata": {
    "ExecuteTime": {
     "end_time": "2020-09-03T21:25:42.801968Z",
     "start_time": "2020-09-03T21:25:42.323666Z"
    }
   },
   "outputs": [
    {
     "data": {
      "image/png": "[encoded data removed]",
      "text/plain": [
       "<Figure size 504x360 with 2 Axes>"
      ]
     },
     "metadata": {},
     "output_type": "display_data"
    }
   ],
   "source": [
    "# Set up figure to plot a map of regime (choose a random day)\n",
    "fig, ax1 = plt.subplots(1,1, figsize=(7, 5), \n",
    "                        facecolor='w', edgecolor='k',\n",
    "                        subplot_kw={'projection':ccrs.PlateCarree()})\n",
    "\n",
    "# Set US extent\n",
    "ax1.set_extent([220,300,18,55])\n",
    "\n",
    "cmap = plt.get_cmap('Set2', 7)\n",
    "\n",
    "contour_plot = ax1.pcolormesh(ds_utc12.lon,ds_utc12.lat,regime_jja[100,:,:],\n",
    "                                    vmin=1,\n",
    "                                    vmax=8,\n",
    "                                    cmap=cmap)\n",
    "ax1.coastlines()\n",
    "# Add colorbar\n",
    "ax_position = ax1.get_position()\n",
    "cbar_ax     = fig.add_axes([ax_position.x0, ax_position.y0-0.07, ax_position.width, 0.05])\n",
    "cbar        = plt.colorbar(contour_plot, orientation='horizontal', cax=cbar_ax)\n",
    "cbar.set_ticks(np.linspace(1.5,7.5,7))\n",
    "cbar.set_ticklabels(labels)\n",
    "\n"
   ]
  },
  {
   "cell_type": "code",
   "execution_count": 18,
   "metadata": {
    "ExecuteTime": {
     "end_time": "2020-09-03T21:25:49.528721Z",
     "start_time": "2020-09-03T21:25:49.388048Z"
    }
   },
   "outputs": [
    {
     "data": {
      "image/png": "[encoded data removed]",
      "text/plain": [
       "<Figure size 504x360 with 1 Axes>"
      ]
     },
     "metadata": {
      "needs_background": "light"
     },
     "output_type": "display_data"
    }
   ],
   "source": [
    "# Histogram of all gridcells and all days \n",
    "\n",
    "fig, ax1 = plt.subplots(1,1, figsize=(7, 5))\n",
    "\n",
    "ax1.hist(regime_jja.reshape([nTime*nLat*nLon, 1]), bins=[1,2,3,4,5,6,7,8], \n",
    "         align='left',\n",
    "         edgecolor='k',\n",
    "         color = 'powderblue')\n",
    "\n",
    "ax1.set_title('CI & HI Category: JJA [All days + All CONUS]')\n",
    "\n",
    "ax1.set_xticks(np.arange(1,8))\n",
    "ax1.set_xticklabels(labels,fontsize=12)\n",
    "plt.show()\n"
   ]
  },
  {
   "cell_type": "markdown",
   "metadata": {},
   "source": [
    "### Follow methods of FE03_Part2 to classify each location by amount of time spent in each regime"
   ]
  },
  {
   "cell_type": "markdown",
   "metadata": {},
   "source": [
    "Based on Findell and Eltahir (2003; Part 2), the organization should be as follows for each station (gridcell in our case) and each summer): \n",
    "* If 80%+ of days are atmospherically controlled, station is labeled as atmo controlled for the summer <br><br>\n",
    "* <b>Level 1 options (< 80% of days atmo. controlled): </b>\n",
    "* ---- Positive feedback (wet soil advantage): If more than 50% of the remaining days (those not atmo. controlled) are wet-soil advantage.\n",
    "* ---- Negative feedback (dry soil advantage): If more than 50% of remaining days fall in dry soil advantage. \n",
    "* ---- Transitional station: If more than 50% of remaining days are in the transition regime. <br><br>\n",
    "* <b> Level 2 options (<80% of days atmo controlled; <50% of remaining days fall into one category) </b>\n",
    "* ---- Positive feedback (wet soil advantage): less than 20% of days not atmo. controlled fall in dry soil advantage.\n",
    "* ---- Negative feedback (dry soil advantage): less than 20% of days not atmo. controlled fall into wet soil advantage. \n",
    "* ---- Transitional: Whatever's left after above filtering. \n",
    "<br><br>"
   ]
  },
  {
   "cell_type": "code",
   "execution_count": 13,
   "metadata": {
    "ExecuteTime": {
     "end_time": "2020-09-08T17:33:51.257224Z",
     "start_time": "2020-09-08T17:33:51.251441Z"
    }
   },
   "outputs": [],
   "source": [
    "# Simplify regime scheme so that any atmosphere-controlled day has same value:\n",
    "regime_Simple                  = regime_jja.copy()\n",
    "regime_Simple[regime_Simple<4] = 1\n"
   ]
  },
  {
   "cell_type": "code",
   "execution_count": 14,
   "metadata": {
    "ExecuteTime": {
     "end_time": "2020-09-08T17:33:51.771057Z",
     "start_time": "2020-09-08T17:33:51.762046Z"
    }
   },
   "outputs": [],
   "source": [
    "# Now separate each year... \n",
    "regimeSimple_yearly = np.full([3, 92, nLat, nLon], np.nan)  # Split the time dimension up to be year x JJA-days x lat x lon\n",
    "\n",
    "regimeSimple_yearly[0,:,:,:] = regime_Simple[np.where(yrs_jja==1979)[0],:,:]\n",
    "regimeSimple_yearly[1,:,:,:] = regime_Simple[np.where(yrs_jja==1980)[0],:,:]\n",
    "regimeSimple_yearly[2,:,:,:] = regime_Simple[np.where(yrs_jja==1981)[0],:,:]\n"
   ]
  },
  {
   "cell_type": "code",
   "execution_count": 15,
   "metadata": {
    "ExecuteTime": {
     "end_time": "2020-09-08T17:33:52.710703Z",
     "start_time": "2020-09-08T17:33:52.632347Z"
    }
   },
   "outputs": [],
   "source": [
    "# Now let's classify each grid point per summer \n",
    "# New key: \n",
    "#    0 ('A')  -- Atmo controlled \n",
    "#    1 ('W1') -- Level 1 wet soil advantage \n",
    "#    2 ('D1') -- Level 1 dry soil advantage\n",
    "#    3 ('T1') -- Level 1 transitional regime\n",
    "#    4 ('W2') -- Level 2 wet soil advantage\n",
    "#    5 ('D2') -- Level 2 dry soil advantage \n",
    "#    6 ('T2') -- Level 2 transitional regime \n",
    "\n",
    "# Define empty array to house classification by summer \n",
    "summerClass = np.full([3, nLat, nLon], np.nan)\n",
    "\n",
    "# There are 92 days in JJA each year. So this is where we start for getting percentages \n",
    "allDays = 92\n",
    "atmoCutoff = round(allDays*0.8)\n",
    "\n",
    "for iYr in range(3):\n",
    "    for iLat in range(nLat):\n",
    "        for iLon in range(nLon):\n",
    "            yrData = regimeSimple_yearly[iYr,:,iLat,iLon]\n",
    "            \n",
    "            # Find percent of days atmospherically controlled \n",
    "            iAtmo = np.where(yrData==1)[0]\n",
    "            \n",
    "            if len(iAtmo) >= atmoCutoff:           # Easy: atmospherically controlled summer and grid point \n",
    "                summerClass[iYr,iLat,iLon] = 0\n",
    "                \n",
    "            else:                                  # Next step of processing: Is grid point level 1? \n",
    "                restOfDays = yrData[yrData>1]      # Isolate the days that aren't atmospherically controlled \n",
    "                nRestDays  = len(restOfDays)       # Number of days left to consider \n",
    "                \n",
    "                lev1cutoff = round(nRestDays*0.5)  # Number of days needed to be classified as level one\n",
    "                lev2cutoff = round(nRestDays*0.2)  # Number of days for classifying level two \n",
    "                \n",
    "                # Get number of remaining days falling into each category \n",
    "                iWet        = np.where(restOfDays==4)[0]\n",
    "                iDry        = np.where(restOfDays==5)[0]\n",
    "                iTransition = np.where(restOfDays==6)[0]\n",
    "                \n",
    "                # Assign level 1 classifications \n",
    "                if len(iWet)>=lev1cutoff: \n",
    "                    summerClass[iYr,iLat,iLon] = 1\n",
    "                elif len(iDry)>=lev1cutoff:\n",
    "                    summerClass[iYr,iLat,iLon] = 2\n",
    "                elif len(iTransition)>=lev1cutoff:\n",
    "                    summerClass[iYr,iLat,iLon] = 3\n",
    "                    \n",
    "                # If not the case, let's go into level 2 classifications \n",
    "                else:\n",
    "                    if len(iDry)<lev2cutoff:\n",
    "                        summerClass[iYr,iLat,iLon] = 4\n",
    "                    elif len(iWet)<lev2cutoff:\n",
    "                        summerClass[iYr,iLat,iLon] = 5\n",
    "                    else: \n",
    "                        summerClass[iYr,iLat,iLon] = 6\n",
    "                \n",
    "    summerClass[iYr,:,:] = summerClass[iYr,:,:]*landMask_sel\n",
    "    "
   ]
  },
  {
   "cell_type": "code",
   "execution_count": null,
   "metadata": {},
   "outputs": [],
   "source": []
  },
  {
   "cell_type": "code",
   "execution_count": null,
   "metadata": {},
   "outputs": [],
   "source": []
  },
  {
   "cell_type": "code",
   "execution_count": null,
   "metadata": {},
   "outputs": [],
   "source": []
  },
  {
   "cell_type": "code",
   "execution_count": 44,
   "metadata": {
    "ExecuteTime": {
     "end_time": "2020-09-04T16:55:31.849771Z",
     "start_time": "2020-09-04T16:55:31.735317Z"
    }
   },
   "outputs": [
    {
     "data": {
      "image/png": "[encoded data removed]",
      "text/plain": [
       "<Figure size 432x288 with 1 Axes>"
      ]
     },
     "metadata": {
      "needs_background": "light"
     },
     "output_type": "display_data"
    }
   ],
   "source": [
    "plt.hist(summerClass[1,:,:].reshape([nLat*nLon,1]),bins=[0,1,2,3,4,5,6,7],align='left')\n",
    "plt.show()\n",
    "         "
   ]
  },
  {
   "cell_type": "code",
   "execution_count": 17,
   "metadata": {
    "ExecuteTime": {
     "end_time": "2020-09-08T17:34:22.156690Z",
     "start_time": "2020-09-08T17:34:22.154194Z"
    }
   },
   "outputs": [],
   "source": [
    "# Define array of labels for each category \n",
    "labels = ['A', 'W1', 'D1','T1', 'W2','D2','T2']\n"
   ]
  },
  {
   "cell_type": "code",
   "execution_count": 20,
   "metadata": {
    "ExecuteTime": {
     "end_time": "2020-09-08T17:35:12.992238Z",
     "start_time": "2020-09-08T17:35:12.869960Z"
    }
   },
   "outputs": [
    {
     "data": {
      "image/png": "[encoded data removed]",
      "text/plain": [
       "<Figure size 504x360 with 2 Axes>"
      ]
     },
     "metadata": {},
     "output_type": "display_data"
    }
   ],
   "source": [
    "# Set up figure to plot a map of regime (choose a random day)\n",
    "fig, ax1 = plt.subplots(1,1, figsize=(7, 5), \n",
    "                        facecolor='w', edgecolor='k',\n",
    "                        subplot_kw={'projection':ccrs.PlateCarree()})\n",
    "\n",
    "# Set US extent\n",
    "ax1.set_extent([220,300,18,55])\n",
    "\n",
    "cmap = plt.get_cmap('Set2', 7)\n",
    "\n",
    "contour_plot = ax1.pcolormesh(ds_utc12.lon,ds_utc12.lat,summerClass[2,:,:],\n",
    "                                    vmin=0,\n",
    "                                    vmax=7,\n",
    "                                    cmap=cmap)\n",
    "\n",
    "ax1.coastlines()\n",
    "ax1.set_title('1981')\n",
    "# Add colorbar\n",
    "ax_position = ax1.get_position()\n",
    "cbar_ax     = fig.add_axes([ax_position.x0, ax_position.y0-0.07, ax_position.width, 0.05])\n",
    "cbar        = plt.colorbar(contour_plot, orientation='horizontal', cax=cbar_ax)\n",
    "cbar.set_ticks(np.linspace(0.5,6.5,7))\n",
    "cbar.set_ticklabels(labels)\n",
    "\n"
   ]
  },
  {
   "cell_type": "code",
   "execution_count": null,
   "metadata": {},
   "outputs": [],
   "source": []
  },
  {
   "cell_type": "code",
   "execution_count": null,
   "metadata": {},
   "outputs": [],
   "source": []
  },
  {
   "cell_type": "markdown",
   "metadata": {},
   "source": [
    "**Let's try a similar system, but since we only have three years let's look at 80% of all days vs. >50% of all JJA days, etc.**"
   ]
  },
  {
   "cell_type": "markdown",
   "metadata": {},
   "source": [
    "#### Testing section"
   ]
  },
  {
   "cell_type": "code",
   "execution_count": 57,
   "metadata": {
    "ExecuteTime": {
     "end_time": "2020-09-04T17:47:49.072704Z",
     "start_time": "2020-09-04T17:47:49.064926Z"
    }
   },
   "outputs": [
    {
     "name": "stdout",
     "output_type": "stream",
     "text": [
      "Atmo Cutoff:  221\n",
      "Number of days atmospherically controlled:  225\n",
      "This station is deemed atmospherically controlled.\n"
     ]
    }
   ],
   "source": [
    "iLat = 23\n",
    "iLon = 46\n",
    "allData = regime_Simple[:,iLat,iLon]\n",
    "\n",
    "#plt.hist(yrData, bins=[0,1,2,3,4,5,6,7,8],align='left')\n",
    "\n",
    "allDays = nTime\n",
    "atmoCutoff = round(allDays*0.8)\n",
    "print('Atmo Cutoff: ', atmoCutoff)\n",
    "\n",
    "# Find percent of days atmospherically controlled \n",
    "iAtmo = np.where(allData==1)[0]\n",
    "print('Number of days atmospherically controlled: ', len(iAtmo))\n",
    "\n",
    "\n",
    "if len(iAtmo) >= atmoCutoff:           # Easy: atmospherically controlled summer and grid point \n",
    "    #summerClass[iYr,iLat,iLon] = 0\n",
    "    print('This station is deemed atmospherically controlled.')\n",
    "else: \n",
    "    print('Not atmo controlled... more analysis needed.')\n",
    "    print()\n",
    "    restOfDays = allData[allData>1]      # Isolate the days that aren't atmospherically controlled \n",
    "    nRestDays  = len(restOfDays)         # Number of days left to consider\n",
    "    print('Number of days not atmo controlled: ', nRestDays)\n",
    "    \n",
    "    lev1cutoff = round(nRestDays*0.5)  # Number of days needed to be classified as level one\n",
    "    lev2cutoff = round(nRestDays*0.2)  # Number of days for classifying level two \n",
    "    print('Number of days required to be one category to be level 1: ', lev1cutoff)\n",
    "    print('Number of days required to not be one category to be level 2: ', lev2cutoff)\n",
    "        \n",
    "    # Get number of remaining days falling into each category \n",
    "    iWet        = np.where(restOfDays==4)[0]\n",
    "    iDry        = np.where(restOfDays==5)[0]\n",
    "    iTransition = np.where(restOfDays==6)[0]\n",
    "    \n",
    "    print('Number of days in wet regime: ', len(iWet))\n",
    "    print('Number of days in dry regime: ', len(iDry))\n",
    "    print('Number of days in transition: ', len(iTransition))\n",
    "    \n",
    "    # Assign level 1 classifications \n",
    "    if len(iWet)>=lev1cutoff: \n",
    "        #summerClass_byDay[iYr,iLat,iLon] = 1\n",
    "        print('This station is level 1 wet advantage')\n",
    "    elif len(iDry)>=lev1cutoff:\n",
    "        #summerClass_byDay[iYr,iLat,iLon] = 2\n",
    "        print('This station is level 1 dry advantage')\n",
    "    elif len(iTransition)>=lev1cutoff:\n",
    "        #summerClass_byDay[iYr,iLat,iLon] = 3\n",
    "        print('This station is level 1 transitional')\n",
    "\n",
    "    # If not the case, let's go into level 2 classifications \n",
    "    else:\n",
    "        if len(iDry)<lev2cutoff:\n",
    "            #summerClass_byDay[iYr,iLat,iLon] = 4\n",
    "            print('This station is level 2 wet advantage')\n",
    "        elif len(iWet)<lev2cutoff:\n",
    "            #summerClass_byDay[iYr,iLat,iLon] = 5\n",
    "            print('This station is level 2 dry advantage')\n",
    "        else: \n",
    "            #summerClass_byDay[iYr,iLat,iLon] = 6\n",
    "            print('This station is level 2 transitional')\n",
    "    "
   ]
  },
  {
   "cell_type": "markdown",
   "metadata": {},
   "source": [
    "#### Actually execute the plan"
   ]
  },
  {
   "cell_type": "code",
   "execution_count": 27,
   "metadata": {
    "ExecuteTime": {
     "end_time": "2020-09-08T17:39:11.599248Z",
     "start_time": "2020-09-08T17:39:11.556763Z"
    }
   },
   "outputs": [],
   "source": [
    "# Now let's classify each grid point per summer \n",
    "# New key: \n",
    "#    0 ('A')  -- Atmo controlled \n",
    "#    1 ('W1') -- Level 1 wet soil advantage \n",
    "#    2 ('D1') -- Level 1 dry soil advantage\n",
    "#    3 ('T1') -- Level 1 transitional regime\n",
    "#    4 ('W2') -- Level 2 wet soil advantage\n",
    "#    5 ('D2') -- Level 2 dry soil advantage \n",
    "#    6 ('T2') -- Level 2 transitional regime \n",
    "\n",
    "# Define empty array to house classification by summer \n",
    "summerClass_byDay = np.full([nLat, nLon], np.nan)\n",
    "summerClass_atmoDays = np.full([nLat, nLon], np.nan)\n",
    "\n",
    "# There are 92 days in JJA each year. So this is where we start for getting percentages \n",
    "allDays = nTime\n",
    "atmoCutoff = round(allDays*0.80)\n",
    "\n",
    "for iLat in range(nLat):\n",
    "    for iLon in range(nLon):\n",
    "        allData = regime_Simple[:,iLat,iLon]\n",
    "\n",
    "        # Find percent of days atmospherically controlled \n",
    "        iAtmo = np.where(allData==1)[0]\n",
    "        summerClass_atmoDays[iLat,iLon] = len(iAtmo)\n",
    "\n",
    "        if len(iAtmo) >= atmoCutoff:           # Easy: atmospherically controlled summer and grid point \n",
    "            summerClass_byDay[iLat,iLon] = 0\n",
    "\n",
    "        else:                                  # Next step of processing: Is grid point level 1? \n",
    "            restOfDays = allData[allData>1]    # Isolate the days that aren't atmospherically controlled \n",
    "            nRestDays  = len(restOfDays)       # Number of days left to consider \n",
    "\n",
    "            lev1cutoff = round(nRestDays*0.5)  # Number of days needed to be classified as level one\n",
    "            lev2cutoff = round(nRestDays*0.2)  # Number of days for classifying level two \n",
    "\n",
    "            # Get number of remaining days falling into each category \n",
    "            iWet        = np.where(restOfDays==4)[0]\n",
    "            iDry        = np.where(restOfDays==5)[0]\n",
    "            iTransition = np.where(restOfDays==6)[0]\n",
    "\n",
    "            # Assign level 1 classifications \n",
    "            if len(iWet)>=lev1cutoff: \n",
    "                summerClass_byDay[iLat,iLon] = 1\n",
    "            elif len(iDry)>=lev1cutoff:\n",
    "                summerClass_byDay[iLat,iLon] = 2\n",
    "            elif len(iTransition)>=lev1cutoff:\n",
    "                summerClass_byDay[iLat,iLon] = 3\n",
    "\n",
    "            # If not the case, let's go into level 2 classifications \n",
    "            else:\n",
    "                if len(iDry)<lev2cutoff:\n",
    "                    summerClass_byDay[iLat,iLon] = 4\n",
    "                elif len(iWet)<lev2cutoff:\n",
    "                    summerClass_byDay[iLat,iLon] = 5\n",
    "                else: \n",
    "                    summerClass_byDay[iLat,iLon] = 6\n",
    "\n",
    "summerClass_byDay = summerClass_byDay*landMask_sel\n"
   ]
  },
  {
   "cell_type": "code",
   "execution_count": 28,
   "metadata": {
    "ExecuteTime": {
     "end_time": "2020-09-08T17:39:12.148599Z",
     "start_time": "2020-09-08T17:39:12.032997Z"
    }
   },
   "outputs": [
    {
     "data": {
      "image/png": "[encoded data removed]",
      "text/plain": [
       "<Figure size 504x360 with 2 Axes>"
      ]
     },
     "metadata": {},
     "output_type": "display_data"
    }
   ],
   "source": [
    "# Set up figure to plot a map of regime (choose a random day)\n",
    "fig, ax1 = plt.subplots(1,1, figsize=(7, 5), \n",
    "                        facecolor='w', edgecolor='k',\n",
    "                        subplot_kw={'projection':ccrs.PlateCarree()})\n",
    "\n",
    "# Set US extent\n",
    "ax1.set_extent([220,300,18,55])\n",
    "\n",
    "cmap = plt.get_cmap('Set2', 7)\n",
    "\n",
    "contour_plot = ax1.pcolormesh(ds_utc12.lon,ds_utc12.lat,summerClass_byDay,\n",
    "                                    vmin=0,\n",
    "                                    vmax=7,\n",
    "                                    cmap=cmap)\n",
    "\n",
    "ax1.coastlines()\n",
    "# Add colorbar\n",
    "ax_position = ax1.get_position()\n",
    "cbar_ax     = fig.add_axes([ax_position.x0, ax_position.y0-0.07, ax_position.width, 0.05])\n",
    "cbar        = plt.colorbar(contour_plot, orientation='horizontal', cax=cbar_ax)\n",
    "cbar.set_ticks(np.linspace(0.5,6.5,7))\n",
    "cbar.set_ticklabels(labels)\n"
   ]
  },
  {
   "cell_type": "code",
   "execution_count": 33,
   "metadata": {
    "ExecuteTime": {
     "end_time": "2020-09-08T17:39:51.998048Z",
     "start_time": "2020-09-08T17:39:51.993429Z"
    },
    "scrolled": true
   },
   "outputs": [
    {
     "name": "stdout",
     "output_type": "stream",
     "text": [
      "Number of days in record:             276\n",
      "Cutoff to be called atmo controlled:  221\n",
      "Number of gridcells hitting threshold of 80%:  1187\n",
      "Number of gridcells hitting threshold if 85%:  934\n",
      "Number of gridcells hitting threshold if 75%:  1358\n"
     ]
    }
   ],
   "source": [
    "# How sensitive is that 80% cutoff? That is, how many 'atmo controlled' classifications are within 5% of cutoff?\n",
    "allDays = nTime\n",
    "atmoCutoff = round(allDays*0.8)\n",
    "\n",
    "print('Number of days in record:            ', allDays)\n",
    "print('Cutoff to be called atmo controlled: ', atmoCutoff)\n",
    "print('Number of gridcells hitting threshold of 80%: ', len(np.where(summerClass_atmoDays>=atmoCutoff)[0]))\n",
    "\n",
    "cutoff75 = round(allDays*0.75)\n",
    "cutoff85 = round(allDays*0.85)\n",
    "print('Number of gridcells hitting threshold if 85%: ', len(np.where(summerClass_atmoDays>=cutoff85)[0]))\n",
    "print('Number of gridcells hitting threshold if 75%: ', len(np.where(summerClass_atmoDays>=cutoff75)[0]))\n"
   ]
  },
  {
   "cell_type": "markdown",
   "metadata": {},
   "source": [
    "## How does CTP/HI compare to afternoon precip occurrence? "
   ]
  },
  {
   "cell_type": "code",
   "execution_count": 24,
   "metadata": {
    "ExecuteTime": {
     "end_time": "2020-09-08T19:29:40.781106Z",
     "start_time": "2020-09-08T19:29:32.429320Z"
    }
   },
   "outputs": [
    {
     "name": "stdout",
     "output_type": "stream",
     "text": [
      "Done with Precip...\n"
     ]
    }
   ],
   "source": [
    "mainDir = '/Users/meganfowler/Documents/NCAR/Analysis/Coupling_initial/data/hrSim_CONUS/'\n",
    "\n",
    "filePr1 = mainDir+'f.e21.FHIST_BGC.f09_f09_mg17.hourlyOutput.001.cam.h1.1979_PRECT-3hrly_Try2.nc'\n",
    "filePr2 = mainDir+'f.e21.FHIST_BGC.f09_f09_mg17.hourlyOutput.001.cam.h1.1980_PRECT-3hrly_Try2.nc'\n",
    "filePr3 = mainDir+'f.e21.FHIST_BGC.f09_f09_mg17.hourlyOutput.001.cam.h1.1981_PRECT-3hrly_Try2.nc'\n",
    "\n",
    "# Read in files that have profiles and concat into one DS\n",
    "Pr_1979 = xr.open_dataset(filePr1, decode_times=True)\n",
    "Pr_1980 = xr.open_dataset(filePr2, decode_times=True)\n",
    "Pr_1981 = xr.open_dataset(filePr3, decode_times=True)\n",
    "Pr_full = xr.concat([Pr_1979, Pr_1980, Pr_1981], dim=\"time\")\n",
    "print('Done with Precip...')\n"
   ]
  },
  {
   "cell_type": "code",
   "execution_count": 25,
   "metadata": {
    "ExecuteTime": {
     "end_time": "2020-09-08T19:36:08.490160Z",
     "start_time": "2020-09-08T19:36:08.456280Z"
    }
   },
   "outputs": [
    {
     "data": {
      "text/html": [
       "<div><svg style=\"position: absolute; width: 0; height: 0; overflow: hidden\">\n",
       "<defs>\n",
       "<symbol id=\"icon-database\" viewBox=\"0 0 32 32\">\n",
       "<path d=\"M16 0c-8.837 0-16 2.239-16 5v4c0 2.761 7.163 5 16 5s16-2.239 16-5v-4c0-2.761-7.163-5-16-5z\"></path>\n",
       "<path d=\"M16 17c-8.837 0-16-2.239-16-5v6c0 2.761 7.163 5 16 5s16-2.239 16-5v-6c0 2.761-7.163 5-16 5z\"></path>\n",
       "<path d=\"M16 26c-8.837 0-16-2.239-16-5v6c0 2.761 7.163 5 16 5s16-2.239 16-5v-6c0 2.761-7.163 5-16 5z\"></path>\n",
       "</symbol>\n",
       "<symbol id=\"icon-file-text2\" viewBox=\"0 0 32 32\">\n",
       "<path d=\"M28.681 7.159c-0.694-0.947-1.662-2.053-2.724-3.116s-2.169-2.030-3.116-2.724c-1.612-1.182-2.393-1.319-2.841-1.319h-15.5c-1.378 0-2.5 1.121-2.5 2.5v27c0 1.378 1.122 2.5 2.5 2.5h23c1.378 0 2.5-1.122 2.5-2.5v-19.5c0-0.448-0.137-1.23-1.319-2.841zM24.543 5.457c0.959 0.959 1.712 1.825 2.268 2.543h-4.811v-4.811c0.718 0.556 1.584 1.309 2.543 2.268zM28 29.5c0 0.271-0.229 0.5-0.5 0.5h-23c-0.271 0-0.5-0.229-0.5-0.5v-27c0-0.271 0.229-0.5 0.5-0.5 0 0 15.499-0 15.5 0v7c0 0.552 0.448 1 1 1h7v19.5z\"></path>\n",
       "<path d=\"M23 26h-14c-0.552 0-1-0.448-1-1s0.448-1 1-1h14c0.552 0 1 0.448 1 1s-0.448 1-1 1z\"></path>\n",
       "<path d=\"M23 22h-14c-0.552 0-1-0.448-1-1s0.448-1 1-1h14c0.552 0 1 0.448 1 1s-0.448 1-1 1z\"></path>\n",
       "<path d=\"M23 18h-14c-0.552 0-1-0.448-1-1s0.448-1 1-1h14c0.552 0 1 0.448 1 1s-0.448 1-1 1z\"></path>\n",
       "</symbol>\n",
       "</defs>\n",
       "</svg>\n",
       "<style>/* CSS stylesheet for displaying xarray objects in jupyterlab.\n",
       " *\n",
       " */\n",
       "\n",
       ":root {\n",
       "  --xr-font-color0: var(--jp-content-font-color0, rgba(0, 0, 0, 1));\n",
       "  --xr-font-color2: var(--jp-content-font-color2, rgba(0, 0, 0, 0.54));\n",
       "  --xr-font-color3: var(--jp-content-font-color3, rgba(0, 0, 0, 0.38));\n",
       "  --xr-border-color: var(--jp-border-color2, #e0e0e0);\n",
       "  --xr-disabled-color: var(--jp-layout-color3, #bdbdbd);\n",
       "  --xr-background-color: var(--jp-layout-color0, white);\n",
       "  --xr-background-color-row-even: var(--jp-layout-color1, white);\n",
       "  --xr-background-color-row-odd: var(--jp-layout-color2, #eeeeee);\n",
       "}\n",
       "\n",
       "html[theme=dark],\n",
       "body.vscode-dark {\n",
       "  --xr-font-color0: rgba(255, 255, 255, 1);\n",
       "  --xr-font-color2: rgba(255, 255, 255, 0.54);\n",
       "  --xr-font-color3: rgba(255, 255, 255, 0.38);\n",
       "  --xr-border-color: #1F1F1F;\n",
       "  --xr-disabled-color: #515151;\n",
       "  --xr-background-color: #111111;\n",
       "  --xr-background-color-row-even: #111111;\n",
       "  --xr-background-color-row-odd: #313131;\n",
       "}\n",
       "\n",
       ".xr-wrap {\n",
       "  display: block;\n",
       "  min-width: 300px;\n",
       "  max-width: 700px;\n",
       "}\n",
       "\n",
       ".xr-text-repr-fallback {\n",
       "  /* fallback to plain text repr when CSS is not injected (untrusted notebook) */\n",
       "  display: none;\n",
       "}\n",
       "\n",
       ".xr-header {\n",
       "  padding-top: 6px;\n",
       "  padding-bottom: 6px;\n",
       "  margin-bottom: 4px;\n",
       "  border-bottom: solid 1px var(--xr-border-color);\n",
       "}\n",
       "\n",
       ".xr-header > div,\n",
       ".xr-header > ul {\n",
       "  display: inline;\n",
       "  margin-top: 0;\n",
       "  margin-bottom: 0;\n",
       "}\n",
       "\n",
       ".xr-obj-type,\n",
       ".xr-array-name {\n",
       "  margin-left: 2px;\n",
       "  margin-right: 10px;\n",
       "}\n",
       "\n",
       ".xr-obj-type {\n",
       "  color: var(--xr-font-color2);\n",
       "}\n",
       "\n",
       ".xr-sections {\n",
       "  padding-left: 0 !important;\n",
       "  display: grid;\n",
       "  grid-template-columns: 150px auto auto 1fr 20px 20px;\n",
       "}\n",
       "\n",
       ".xr-section-item {\n",
       "  display: contents;\n",
       "}\n",
       "\n",
       ".xr-section-item input {\n",
       "  display: none;\n",
       "}\n",
       "\n",
       ".xr-section-item input + label {\n",
       "  color: var(--xr-disabled-color);\n",
       "}\n",
       "\n",
       ".xr-section-item input:enabled + label {\n",
       "  cursor: pointer;\n",
       "  color: var(--xr-font-color2);\n",
       "}\n",
       "\n",
       ".xr-section-item input:enabled + label:hover {\n",
       "  color: var(--xr-font-color0);\n",
       "}\n",
       "\n",
       ".xr-section-summary {\n",
       "  grid-column: 1;\n",
       "  color: var(--xr-font-color2);\n",
       "  font-weight: 500;\n",
       "}\n",
       "\n",
       ".xr-section-summary > span {\n",
       "  display: inline-block;\n",
       "  padding-left: 0.5em;\n",
       "}\n",
       "\n",
       ".xr-section-summary-in:disabled + label {\n",
       "  color: var(--xr-font-color2);\n",
       "}\n",
       "\n",
       ".xr-section-summary-in + label:before {\n",
       "  display: inline-block;\n",
       "  content: '►';\n",
       "  font-size: 11px;\n",
       "  width: 15px;\n",
       "  text-align: center;\n",
       "}\n",
       "\n",
       ".xr-section-summary-in:disabled + label:before {\n",
       "  color: var(--xr-disabled-color);\n",
       "}\n",
       "\n",
       ".xr-section-summary-in:checked + label:before {\n",
       "  content: '▼';\n",
       "}\n",
       "\n",
       ".xr-section-summary-in:checked + label > span {\n",
       "  display: none;\n",
       "}\n",
       "\n",
       ".xr-section-summary,\n",
       ".xr-section-inline-details {\n",
       "  padding-top: 4px;\n",
       "  padding-bottom: 4px;\n",
       "}\n",
       "\n",
       ".xr-section-inline-details {\n",
       "  grid-column: 2 / -1;\n",
       "}\n",
       "\n",
       ".xr-section-details {\n",
       "  display: none;\n",
       "  grid-column: 1 / -1;\n",
       "  margin-bottom: 5px;\n",
       "}\n",
       "\n",
       ".xr-section-summary-in:checked ~ .xr-section-details {\n",
       "  display: contents;\n",
       "}\n",
       "\n",
       ".xr-array-wrap {\n",
       "  grid-column: 1 / -1;\n",
       "  display: grid;\n",
       "  grid-template-columns: 20px auto;\n",
       "}\n",
       "\n",
       ".xr-array-wrap > label {\n",
       "  grid-column: 1;\n",
       "  vertical-align: top;\n",
       "}\n",
       "\n",
       ".xr-preview {\n",
       "  color: var(--xr-font-color3);\n",
       "}\n",
       "\n",
       ".xr-array-preview,\n",
       ".xr-array-data {\n",
       "  padding: 0 5px !important;\n",
       "  grid-column: 2;\n",
       "}\n",
       "\n",
       ".xr-array-data,\n",
       ".xr-array-in:checked ~ .xr-array-preview {\n",
       "  display: none;\n",
       "}\n",
       "\n",
       ".xr-array-in:checked ~ .xr-array-data,\n",
       ".xr-array-preview {\n",
       "  display: inline-block;\n",
       "}\n",
       "\n",
       ".xr-dim-list {\n",
       "  display: inline-block !important;\n",
       "  list-style: none;\n",
       "  padding: 0 !important;\n",
       "  margin: 0;\n",
       "}\n",
       "\n",
       ".xr-dim-list li {\n",
       "  display: inline-block;\n",
       "  padding: 0;\n",
       "  margin: 0;\n",
       "}\n",
       "\n",
       ".xr-dim-list:before {\n",
       "  content: '(';\n",
       "}\n",
       "\n",
       ".xr-dim-list:after {\n",
       "  content: ')';\n",
       "}\n",
       "\n",
       ".xr-dim-list li:not(:last-child):after {\n",
       "  content: ',';\n",
       "  padding-right: 5px;\n",
       "}\n",
       "\n",
       ".xr-has-index {\n",
       "  font-weight: bold;\n",
       "}\n",
       "\n",
       ".xr-var-list,\n",
       ".xr-var-item {\n",
       "  display: contents;\n",
       "}\n",
       "\n",
       ".xr-var-item > div,\n",
       ".xr-var-item label,\n",
       ".xr-var-item > .xr-var-name span {\n",
       "  background-color: var(--xr-background-color-row-even);\n",
       "  margin-bottom: 0;\n",
       "}\n",
       "\n",
       ".xr-var-item > .xr-var-name:hover span {\n",
       "  padding-right: 5px;\n",
       "}\n",
       "\n",
       ".xr-var-list > li:nth-child(odd) > div,\n",
       ".xr-var-list > li:nth-child(odd) > label,\n",
       ".xr-var-list > li:nth-child(odd) > .xr-var-name span {\n",
       "  background-color: var(--xr-background-color-row-odd);\n",
       "}\n",
       "\n",
       ".xr-var-name {\n",
       "  grid-column: 1;\n",
       "}\n",
       "\n",
       ".xr-var-dims {\n",
       "  grid-column: 2;\n",
       "}\n",
       "\n",
       ".xr-var-dtype {\n",
       "  grid-column: 3;\n",
       "  text-align: right;\n",
       "  color: var(--xr-font-color2);\n",
       "}\n",
       "\n",
       ".xr-var-preview {\n",
       "  grid-column: 4;\n",
       "}\n",
       "\n",
       ".xr-var-name,\n",
       ".xr-var-dims,\n",
       ".xr-var-dtype,\n",
       ".xr-preview,\n",
       ".xr-attrs dt {\n",
       "  white-space: nowrap;\n",
       "  overflow: hidden;\n",
       "  text-overflow: ellipsis;\n",
       "  padding-right: 10px;\n",
       "}\n",
       "\n",
       ".xr-var-name:hover,\n",
       ".xr-var-dims:hover,\n",
       ".xr-var-dtype:hover,\n",
       ".xr-attrs dt:hover {\n",
       "  overflow: visible;\n",
       "  width: auto;\n",
       "  z-index: 1;\n",
       "}\n",
       "\n",
       ".xr-var-attrs,\n",
       ".xr-var-data {\n",
       "  display: none;\n",
       "  background-color: var(--xr-background-color) !important;\n",
       "  padding-bottom: 5px !important;\n",
       "}\n",
       "\n",
       ".xr-var-attrs-in:checked ~ .xr-var-attrs,\n",
       ".xr-var-data-in:checked ~ .xr-var-data {\n",
       "  display: block;\n",
       "}\n",
       "\n",
       ".xr-var-data > table {\n",
       "  float: right;\n",
       "}\n",
       "\n",
       ".xr-var-name span,\n",
       ".xr-var-data,\n",
       ".xr-attrs {\n",
       "  padding-left: 25px !important;\n",
       "}\n",
       "\n",
       ".xr-attrs,\n",
       ".xr-var-attrs,\n",
       ".xr-var-data {\n",
       "  grid-column: 1 / -1;\n",
       "}\n",
       "\n",
       "dl.xr-attrs {\n",
       "  padding: 0;\n",
       "  margin: 0;\n",
       "  display: grid;\n",
       "  grid-template-columns: 125px auto;\n",
       "}\n",
       "\n",
       ".xr-attrs dt, dd {\n",
       "  padding: 0;\n",
       "  margin: 0;\n",
       "  float: left;\n",
       "  padding-right: 10px;\n",
       "  width: auto;\n",
       "}\n",
       "\n",
       ".xr-attrs dt {\n",
       "  font-weight: normal;\n",
       "  grid-column: 1;\n",
       "}\n",
       "\n",
       ".xr-attrs dt:hover span {\n",
       "  display: inline-block;\n",
       "  background: var(--xr-background-color);\n",
       "  padding-right: 10px;\n",
       "}\n",
       "\n",
       ".xr-attrs dd {\n",
       "  grid-column: 2;\n",
       "  white-space: pre-wrap;\n",
       "  word-break: break-all;\n",
       "}\n",
       "\n",
       ".xr-icon-database,\n",
       ".xr-icon-file-text2 {\n",
       "  display: inline-block;\n",
       "  vertical-align: middle;\n",
       "  width: 1em;\n",
       "  height: 1.5em !important;\n",
       "  stroke-width: 0;\n",
       "  stroke: currentColor;\n",
       "  fill: currentColor;\n",
       "}\n",
       "</style><pre class='xr-text-repr-fallback'>&lt;xarray.Dataset&gt;\n",
       "Dimensions:  (lat: 192, lon: 288, time: 8760)\n",
       "Coordinates:\n",
       "  * lon      (lon) float64 0.0 1.25 2.5 3.75 5.0 ... 355.0 356.2 357.5 358.8\n",
       "  * lat      (lat) float64 -90.0 -89.06 -88.12 -87.17 ... 87.17 88.12 89.06 90.0\n",
       "  * time     (time) object 1979-01-01 00:00:00 ... 1981-12-31 21:00:00\n",
       "Data variables:\n",
       "    P_3hr    (time, lat, lon) float32 6.000612e-19 ... 4.0360966e-08\n",
       "    UTC_hr   (time) float32 0.0 3.0 6.0 9.0 12.0 ... 9.0 12.0 15.0 18.0 21.0\n",
       "    UTC_day  (time) float32 1.0 1.0 1.0 1.0 1.0 1.0 ... 31.0 31.0 31.0 31.0 31.0\n",
       "    UTC_mon  (time) float32 1.0 1.0 1.0 1.0 1.0 1.0 ... 12.0 12.0 12.0 12.0 12.0\n",
       "    UTC_yr   (time) float32 1979.0 1979.0 1979.0 1979.0 ... 1981.0 1981.0 1981.0\n",
       "Attributes:\n",
       "    creation_date:  Tue Sep  8 13:22:28 MDT 2020\n",
       "    Conventions:    None\n",
       "    source_file:    /glade/scratch/mdfowler/processedData/f.e21.FHIST_BGC.f09...\n",
       "    title:          NCL used to get UTC and compute 3-hr sum of PRECT.</pre><div class='xr-wrap' hidden><div class='xr-header'><div class='xr-obj-type'>xarray.Dataset</div></div><ul class='xr-sections'><li class='xr-section-item'><input id='section-4907731f-5c9e-4b3d-9d9a-1d599f2c9577' class='xr-section-summary-in' type='checkbox' disabled ><label for='section-4907731f-5c9e-4b3d-9d9a-1d599f2c9577' class='xr-section-summary'  title='Expand/collapse section'>Dimensions:</label><div class='xr-section-inline-details'><ul class='xr-dim-list'><li><span class='xr-has-index'>lat</span>: 192</li><li><span class='xr-has-index'>lon</span>: 288</li><li><span class='xr-has-index'>time</span>: 8760</li></ul></div><div class='xr-section-details'></div></li><li class='xr-section-item'><input id='section-173c1b72-c420-4ba3-be28-917a4ac90c7b' class='xr-section-summary-in' type='checkbox'  checked><label for='section-173c1b72-c420-4ba3-be28-917a4ac90c7b' class='xr-section-summary' >Coordinates: <span>(3)</span></label><div class='xr-section-inline-details'></div><div class='xr-section-details'><ul class='xr-var-list'><li class='xr-var-item'><div class='xr-var-name'><span class='xr-has-index'>lon</span></div><div class='xr-var-dims'>(lon)</div><div class='xr-var-dtype'>float64</div><div class='xr-var-preview xr-preview'>0.0 1.25 2.5 ... 356.2 357.5 358.8</div><input id='attrs-4afc7744-695e-4e3f-a324-c5f5fd99db40' class='xr-var-attrs-in' type='checkbox' ><label for='attrs-4afc7744-695e-4e3f-a324-c5f5fd99db40' title='Show/Hide attributes'><svg class='icon xr-icon-file-text2'><use xlink:href='#icon-file-text2'></use></svg></label><input id='data-a5acc6a7-b3d2-4549-8179-5cf965de1f45' class='xr-var-data-in' type='checkbox'><label for='data-a5acc6a7-b3d2-4549-8179-5cf965de1f45' title='Show/Hide data repr'><svg class='icon xr-icon-database'><use xlink:href='#icon-database'></use></svg></label><div class='xr-var-attrs'><dl class='xr-attrs'><dt><span>long_name :</span></dt><dd>longitude</dd><dt><span>units :</span></dt><dd>degrees_east</dd></dl></div><div class='xr-var-data'><pre>array([  0.  ,   1.25,   2.5 , ..., 356.25, 357.5 , 358.75])</pre></div></li><li class='xr-var-item'><div class='xr-var-name'><span class='xr-has-index'>lat</span></div><div class='xr-var-dims'>(lat)</div><div class='xr-var-dtype'>float64</div><div class='xr-var-preview xr-preview'>-90.0 -89.06 -88.12 ... 89.06 90.0</div><input id='attrs-3429c722-bda1-4e62-92ef-a427b2c10269' class='xr-var-attrs-in' type='checkbox' ><label for='attrs-3429c722-bda1-4e62-92ef-a427b2c10269' title='Show/Hide attributes'><svg class='icon xr-icon-file-text2'><use xlink:href='#icon-file-text2'></use></svg></label><input id='data-5d888ebc-2ca1-4578-ad1e-e22e05c09174' class='xr-var-data-in' type='checkbox'><label for='data-5d888ebc-2ca1-4578-ad1e-e22e05c09174' title='Show/Hide data repr'><svg class='icon xr-icon-database'><use xlink:href='#icon-database'></use></svg></label><div class='xr-var-attrs'><dl class='xr-attrs'><dt><span>long_name :</span></dt><dd>latitude</dd><dt><span>units :</span></dt><dd>degrees_north</dd></dl></div><div class='xr-var-data'><pre>array([-90.      , -89.057592, -88.115183, -87.172775, -86.230366, -85.287958,\n",
       "       -84.34555 , -83.403141, -82.460733, -81.518325, -80.575916, -79.633508,\n",
       "       -78.691099, -77.748691, -76.806283, -75.863874, -74.921466, -73.979058,\n",
       "       -73.036649, -72.094241, -71.151832, -70.209424, -69.267016, -68.324607,\n",
       "       -67.382199, -66.439791, -65.497382, -64.554974, -63.612565, -62.670157,\n",
       "       -61.727749, -60.78534 , -59.842932, -58.900524, -57.958115, -57.015707,\n",
       "       -56.073298, -55.13089 , -54.188482, -53.246073, -52.303665, -51.361257,\n",
       "       -50.418848, -49.47644 , -48.534031, -47.591623, -46.649215, -45.706806,\n",
       "       -44.764398, -43.82199 , -42.879581, -41.937173, -40.994764, -40.052356,\n",
       "       -39.109948, -38.167539, -37.225131, -36.282723, -35.340314, -34.397906,\n",
       "       -33.455497, -32.513089, -31.570681, -30.628272, -29.685864, -28.743455,\n",
       "       -27.801047, -26.858639, -25.91623 , -24.973822, -24.031414, -23.089005,\n",
       "       -22.146597, -21.204188, -20.26178 , -19.319372, -18.376963, -17.434555,\n",
       "       -16.492147, -15.549738, -14.60733 , -13.664921, -12.722513, -11.780105,\n",
       "       -10.837696,  -9.895288,  -8.95288 ,  -8.010471,  -7.068063,  -6.125654,\n",
       "        -5.183246,  -4.240838,  -3.298429,  -2.356021,  -1.413613,  -0.471204,\n",
       "         0.471204,   1.413613,   2.356021,   3.298429,   4.240838,   5.183246,\n",
       "         6.125654,   7.068063,   8.010471,   8.95288 ,   9.895288,  10.837696,\n",
       "        11.780105,  12.722513,  13.664921,  14.60733 ,  15.549738,  16.492147,\n",
       "        17.434555,  18.376963,  19.319372,  20.26178 ,  21.204188,  22.146597,\n",
       "        23.089005,  24.031414,  24.973822,  25.91623 ,  26.858639,  27.801047,\n",
       "        28.743455,  29.685864,  30.628272,  31.570681,  32.513089,  33.455497,\n",
       "        34.397906,  35.340314,  36.282723,  37.225131,  38.167539,  39.109948,\n",
       "        40.052356,  40.994764,  41.937173,  42.879581,  43.82199 ,  44.764398,\n",
       "        45.706806,  46.649215,  47.591623,  48.534031,  49.47644 ,  50.418848,\n",
       "        51.361257,  52.303665,  53.246073,  54.188482,  55.13089 ,  56.073298,\n",
       "        57.015707,  57.958115,  58.900524,  59.842932,  60.78534 ,  61.727749,\n",
       "        62.670157,  63.612565,  64.554974,  65.497382,  66.439791,  67.382199,\n",
       "        68.324607,  69.267016,  70.209424,  71.151832,  72.094241,  73.036649,\n",
       "        73.979058,  74.921466,  75.863874,  76.806283,  77.748691,  78.691099,\n",
       "        79.633508,  80.575916,  81.518325,  82.460733,  83.403141,  84.34555 ,\n",
       "        85.287958,  86.230366,  87.172775,  88.115183,  89.057592,  90.      ])</pre></div></li><li class='xr-var-item'><div class='xr-var-name'><span class='xr-has-index'>time</span></div><div class='xr-var-dims'>(time)</div><div class='xr-var-dtype'>object</div><div class='xr-var-preview xr-preview'>1979-01-01 00:00:00 ... 1981-12-...</div><input id='attrs-6f5fb673-e604-484f-81df-232a968c1a50' class='xr-var-attrs-in' type='checkbox' ><label for='attrs-6f5fb673-e604-484f-81df-232a968c1a50' title='Show/Hide attributes'><svg class='icon xr-icon-file-text2'><use xlink:href='#icon-file-text2'></use></svg></label><input id='data-d95709d3-1f1a-48bb-9ed3-887c976d8f4a' class='xr-var-data-in' type='checkbox'><label for='data-d95709d3-1f1a-48bb-9ed3-887c976d8f4a' title='Show/Hide data repr'><svg class='icon xr-icon-database'><use xlink:href='#icon-database'></use></svg></label><div class='xr-var-attrs'><dl class='xr-attrs'><dt><span>long_name :</span></dt><dd>time</dd><dt><span>bounds :</span></dt><dd>time_bnds</dd></dl></div><div class='xr-var-data'><pre>array([cftime.DatetimeNoLeap(1979, 1, 1, 0, 0, 0, 0),\n",
       "       cftime.DatetimeNoLeap(1979, 1, 1, 3, 0, 0, 0),\n",
       "       cftime.DatetimeNoLeap(1979, 1, 1, 6, 0, 0, 0), ...,\n",
       "       cftime.DatetimeNoLeap(1981, 12, 31, 15, 0, 0, 0),\n",
       "       cftime.DatetimeNoLeap(1981, 12, 31, 18, 0, 0, 0),\n",
       "       cftime.DatetimeNoLeap(1981, 12, 31, 21, 0, 0, 0)], dtype=object)</pre></div></li></ul></div></li><li class='xr-section-item'><input id='section-3914b919-18e9-482a-863a-6e54bf29c1b4' class='xr-section-summary-in' type='checkbox'  checked><label for='section-3914b919-18e9-482a-863a-6e54bf29c1b4' class='xr-section-summary' >Data variables: <span>(5)</span></label><div class='xr-section-inline-details'></div><div class='xr-section-details'><ul class='xr-var-list'><li class='xr-var-item'><div class='xr-var-name'><span>P_3hr</span></div><div class='xr-var-dims'>(time, lat, lon)</div><div class='xr-var-dtype'>float32</div><div class='xr-var-preview xr-preview'>6.000612e-19 ... 4.0360966e-08</div><input id='attrs-36feb61b-044e-434b-95ae-280a4d7f7142' class='xr-var-attrs-in' type='checkbox' ><label for='attrs-36feb61b-044e-434b-95ae-280a4d7f7142' title='Show/Hide attributes'><svg class='icon xr-icon-file-text2'><use xlink:href='#icon-file-text2'></use></svg></label><input id='data-9943c2ba-204b-4e7e-adb1-d586c9e42dab' class='xr-var-data-in' type='checkbox'><label for='data-9943c2ba-204b-4e7e-adb1-d586c9e42dab' title='Show/Hide data repr'><svg class='icon xr-icon-database'><use xlink:href='#icon-database'></use></svg></label><div class='xr-var-attrs'><dl class='xr-attrs'><dt><span>cell_methods :</span></dt><dd>time: mean</dd><dt><span>long_name :</span></dt><dd>3-hr accumulated Precip</dd><dt><span>units :</span></dt><dd>m/s</dd></dl></div><div class='xr-var-data'><pre>array([[[6.00061218e-19, 6.00061218e-19, 6.00061218e-19, ...,\n",
       "         6.00061218e-19, 6.00061218e-19, 6.00061218e-19],\n",
       "        [1.14658529e-19, 9.45967626e-20, 7.09554237e-20, ...,\n",
       "         1.49121794e-19, 1.41386738e-19, 1.29808704e-19],\n",
       "        [3.98409970e-18, 4.09625381e-18, 4.05519133e-18, ...,\n",
       "         3.58345229e-18, 3.68044253e-18, 3.82453905e-18],\n",
       "        ...,\n",
       "        [1.27180974e-10, 1.14652905e-10, 1.03233491e-10, ...,\n",
       "         1.66209130e-10, 1.53245347e-10, 1.40203862e-10],\n",
       "        [2.27994880e-11, 2.05610338e-11, 1.81243284e-11, ...,\n",
       "         2.73501048e-11, 2.50582177e-11, 2.37441976e-11],\n",
       "        [1.63518955e-11, 1.63519077e-11, 1.63519181e-11, ...,\n",
       "         1.63518591e-11, 1.63518712e-11, 1.63518712e-11]],\n",
       "\n",
       "       [[3.25278023e-19, 3.25278023e-19, 3.25278023e-19, ...,\n",
       "         3.25278023e-19, 3.25278023e-19, 3.25278023e-19],\n",
       "        [2.42659976e-20, 1.80561298e-20, 1.33459008e-20, ...,\n",
       "         5.11129505e-20, 4.09157167e-20, 3.19385679e-20],\n",
       "        [1.11697114e-18, 9.00562493e-19, 6.94272179e-19, ...,\n",
       "         1.66086741e-18, 1.49522863e-18, 1.31405395e-18],\n",
       "...\n",
       "        [8.16551733e-08, 8.35936333e-08, 8.36129743e-08, ...,\n",
       "         6.90721080e-08, 7.50312594e-08, 7.91202197e-08],\n",
       "        [6.15389197e-08, 6.06683415e-08, 5.94098779e-08, ...,\n",
       "         6.33680557e-08, 6.30739123e-08, 6.25501357e-08],\n",
       "        [3.87644583e-08, 3.87644619e-08, 3.87644619e-08, ...,\n",
       "         3.87644619e-08, 3.87644619e-08, 3.87644619e-08]],\n",
       "\n",
       "       [[3.25417684e-17, 3.25417750e-17, 3.25417750e-17, ...,\n",
       "         3.25417684e-17, 3.25417684e-17, 3.25417684e-17],\n",
       "        [7.09985599e-20, 7.57015340e-20, 8.07350831e-20, ...,\n",
       "         2.03872588e-20, 2.14471696e-20, 2.41932283e-20],\n",
       "        [9.61179187e-21, 1.45133201e-20, 2.21142019e-20, ...,\n",
       "         7.83908565e-21, 6.90272851e-21, 8.02542586e-21],\n",
       "        ...,\n",
       "        [3.17349702e-08, 3.32620544e-08, 3.54363614e-08, ...,\n",
       "         2.92265341e-08, 2.97279357e-08, 3.04919823e-08],\n",
       "        [4.35281251e-08, 4.40442989e-08, 4.46532873e-08, ...,\n",
       "         4.22211599e-08, 4.24766817e-08, 4.29772768e-08],\n",
       "        [4.03609626e-08, 4.03609661e-08, 4.03609661e-08, ...,\n",
       "         4.03609626e-08, 4.03609626e-08, 4.03609661e-08]]], dtype=float32)</pre></div></li><li class='xr-var-item'><div class='xr-var-name'><span>UTC_hr</span></div><div class='xr-var-dims'>(time)</div><div class='xr-var-dtype'>float32</div><div class='xr-var-preview xr-preview'>0.0 3.0 6.0 9.0 ... 15.0 18.0 21.0</div><input id='attrs-c2305f33-a2b6-4961-9e42-cbe6337f394b' class='xr-var-attrs-in' type='checkbox' ><label for='attrs-c2305f33-a2b6-4961-9e42-cbe6337f394b' title='Show/Hide attributes'><svg class='icon xr-icon-file-text2'><use xlink:href='#icon-file-text2'></use></svg></label><input id='data-a6c07b33-3469-4727-9aa8-75b6ab6656bb' class='xr-var-data-in' type='checkbox'><label for='data-a6c07b33-3469-4727-9aa8-75b6ab6656bb' title='Show/Hide data repr'><svg class='icon xr-icon-database'><use xlink:href='#icon-database'></use></svg></label><div class='xr-var-attrs'><dl class='xr-attrs'><dt><span>long_name :</span></dt><dd>Hour in UTC</dd><dt><span>calendar :</span></dt><dd>noleap</dd></dl></div><div class='xr-var-data'><pre>array([ 0.,  3.,  6., ..., 15., 18., 21.], dtype=float32)</pre></div></li><li class='xr-var-item'><div class='xr-var-name'><span>UTC_day</span></div><div class='xr-var-dims'>(time)</div><div class='xr-var-dtype'>float32</div><div class='xr-var-preview xr-preview'>1.0 1.0 1.0 1.0 ... 31.0 31.0 31.0</div><input id='attrs-d086f79a-1878-408f-95ad-9ff992661a3c' class='xr-var-attrs-in' type='checkbox' ><label for='attrs-d086f79a-1878-408f-95ad-9ff992661a3c' title='Show/Hide attributes'><svg class='icon xr-icon-file-text2'><use xlink:href='#icon-file-text2'></use></svg></label><input id='data-14765030-b34e-4628-9763-a66e7ce3a6ae' class='xr-var-data-in' type='checkbox'><label for='data-14765030-b34e-4628-9763-a66e7ce3a6ae' title='Show/Hide data repr'><svg class='icon xr-icon-database'><use xlink:href='#icon-database'></use></svg></label><div class='xr-var-attrs'><dl class='xr-attrs'><dt><span>long_name :</span></dt><dd>Day in UTC</dd><dt><span>calendar :</span></dt><dd>noleap</dd></dl></div><div class='xr-var-data'><pre>array([ 1.,  1.,  1., ..., 31., 31., 31.], dtype=float32)</pre></div></li><li class='xr-var-item'><div class='xr-var-name'><span>UTC_mon</span></div><div class='xr-var-dims'>(time)</div><div class='xr-var-dtype'>float32</div><div class='xr-var-preview xr-preview'>1.0 1.0 1.0 1.0 ... 12.0 12.0 12.0</div><input id='attrs-8cea4b24-680f-4ae1-91c9-bbd7531f1c50' class='xr-var-attrs-in' type='checkbox' ><label for='attrs-8cea4b24-680f-4ae1-91c9-bbd7531f1c50' title='Show/Hide attributes'><svg class='icon xr-icon-file-text2'><use xlink:href='#icon-file-text2'></use></svg></label><input id='data-c45d0540-71d7-431a-817b-814a0eea71d5' class='xr-var-data-in' type='checkbox'><label for='data-c45d0540-71d7-431a-817b-814a0eea71d5' title='Show/Hide data repr'><svg class='icon xr-icon-database'><use xlink:href='#icon-database'></use></svg></label><div class='xr-var-attrs'><dl class='xr-attrs'><dt><span>long_name :</span></dt><dd>Mon in UTC</dd><dt><span>calendar :</span></dt><dd>noleap</dd></dl></div><div class='xr-var-data'><pre>array([ 1.,  1.,  1., ..., 12., 12., 12.], dtype=float32)</pre></div></li><li class='xr-var-item'><div class='xr-var-name'><span>UTC_yr</span></div><div class='xr-var-dims'>(time)</div><div class='xr-var-dtype'>float32</div><div class='xr-var-preview xr-preview'>1979.0 1979.0 ... 1981.0 1981.0</div><input id='attrs-2b4fb9b9-9a67-464e-bcd9-4cafc3dde728' class='xr-var-attrs-in' type='checkbox' ><label for='attrs-2b4fb9b9-9a67-464e-bcd9-4cafc3dde728' title='Show/Hide attributes'><svg class='icon xr-icon-file-text2'><use xlink:href='#icon-file-text2'></use></svg></label><input id='data-6edc1931-46e4-43fe-801e-251e14777034' class='xr-var-data-in' type='checkbox'><label for='data-6edc1931-46e4-43fe-801e-251e14777034' title='Show/Hide data repr'><svg class='icon xr-icon-database'><use xlink:href='#icon-database'></use></svg></label><div class='xr-var-attrs'><dl class='xr-attrs'><dt><span>long_name :</span></dt><dd>Yr in UTC</dd><dt><span>calendar :</span></dt><dd>noleap</dd></dl></div><div class='xr-var-data'><pre>array([1979., 1979., 1979., ..., 1981., 1981., 1981.], dtype=float32)</pre></div></li></ul></div></li><li class='xr-section-item'><input id='section-61d1b146-79e6-4cd0-b22e-eb5f067f2be1' class='xr-section-summary-in' type='checkbox'  checked><label for='section-61d1b146-79e6-4cd0-b22e-eb5f067f2be1' class='xr-section-summary' >Attributes: <span>(4)</span></label><div class='xr-section-inline-details'></div><div class='xr-section-details'><dl class='xr-attrs'><dt><span>creation_date :</span></dt><dd>Tue Sep  8 13:22:28 MDT 2020</dd><dt><span>Conventions :</span></dt><dd>None</dd><dt><span>source_file :</span></dt><dd>/glade/scratch/mdfowler/processedData/f.e21.FHIST_BGC.f09_f09_mg17.hourlyOutput.001.cam.h1.1979_PRECT.nc</dd><dt><span>title :</span></dt><dd>NCL used to get UTC and compute 3-hr sum of PRECT.</dd></dl></div></li></ul></div></div>"
      ],
      "text/plain": [
       "<xarray.Dataset>\n",
       "Dimensions:  (lat: 192, lon: 288, time: 8760)\n",
       "Coordinates:\n",
       "  * lon      (lon) float64 0.0 1.25 2.5 3.75 5.0 ... 355.0 356.2 357.5 358.8\n",
       "  * lat      (lat) float64 -90.0 -89.06 -88.12 -87.17 ... 87.17 88.12 89.06 90.0\n",
       "  * time     (time) object 1979-01-01 00:00:00 ... 1981-12-31 21:00:00\n",
       "Data variables:\n",
       "    P_3hr    (time, lat, lon) float32 6.000612e-19 ... 4.0360966e-08\n",
       "    UTC_hr   (time) float32 0.0 3.0 6.0 9.0 12.0 ... 9.0 12.0 15.0 18.0 21.0\n",
       "    UTC_day  (time) float32 1.0 1.0 1.0 1.0 1.0 1.0 ... 31.0 31.0 31.0 31.0 31.0\n",
       "    UTC_mon  (time) float32 1.0 1.0 1.0 1.0 1.0 1.0 ... 12.0 12.0 12.0 12.0 12.0\n",
       "    UTC_yr   (time) float32 1979.0 1979.0 1979.0 1979.0 ... 1981.0 1981.0 1981.0\n",
       "Attributes:\n",
       "    creation_date:  Tue Sep  8 13:22:28 MDT 2020\n",
       "    Conventions:    None\n",
       "    source_file:    /glade/scratch/mdfowler/processedData/f.e21.FHIST_BGC.f09...\n",
       "    title:          NCL used to get UTC and compute 3-hr sum of PRECT."
      ]
     },
     "execution_count": 25,
     "metadata": {},
     "output_type": "execute_result"
    }
   ],
   "source": [
    "Pr_full"
   ]
  },
  {
   "cell_type": "code",
   "execution_count": 35,
   "metadata": {
    "ExecuteTime": {
     "end_time": "2020-09-08T19:41:23.221663Z",
     "start_time": "2020-09-08T19:41:23.217661Z"
    }
   },
   "outputs": [
    {
     "name": "stdout",
     "output_type": "stream",
     "text": [
      "(8760, 192, 288)\n"
     ]
    }
   ],
   "source": [
    "# Get individual arrays \n",
    "P_3hr = Pr_full.P_3hr.values\n",
    "pr_Hr = Pr_full.UTC_hr.values\n",
    "lat   = Pr_full.lat.values\n",
    "lon   = Pr_full.lon.values\n",
    "\n",
    "print(np.shape(P_3hr))\n"
   ]
  },
  {
   "cell_type": "code",
   "execution_count": 36,
   "metadata": {
    "ExecuteTime": {
     "end_time": "2020-09-08T19:41:25.102070Z",
     "start_time": "2020-09-08T19:41:23.726450Z"
    }
   },
   "outputs": [
    {
     "name": "stdout",
     "output_type": "stream",
     "text": [
      "(8760, 43, 65)\n"
     ]
    }
   ],
   "source": [
    "# Limit to range of US \n",
    "iLat = np.where((lat>=np.min(ds_utc12.lat.values)) & (lat<=np.max(ds_utc12.lat.values)))[0]\n",
    "iLon = np.where((lon>=np.min(ds_utc12.lon.values)) & (lon<=np.max(ds_utc12.lon.values)))[0]\n",
    "\n",
    "lat = lat[iLat]\n",
    "lon = lon[iLon]\n",
    "P_3hr = P_3hr[:,iLat,:]\n",
    "P_3hr = P_3hr[:,:,iLon]\n",
    "\n",
    "print(np.shape(P_3hr))\n"
   ]
  },
  {
   "cell_type": "code",
   "execution_count": 37,
   "metadata": {
    "ExecuteTime": {
     "end_time": "2020-09-08T19:41:32.803206Z",
     "start_time": "2020-09-08T19:41:32.799671Z"
    }
   },
   "outputs": [
    {
     "data": {
      "text/plain": [
       "array([220.  , 221.25, 222.5 , 223.75, 225.  , 226.25, 227.5 , 228.75,\n",
       "       230.  , 231.25, 232.5 , 233.75, 235.  , 236.25, 237.5 , 238.75,\n",
       "       240.  , 241.25, 242.5 , 243.75, 245.  , 246.25, 247.5 , 248.75,\n",
       "       250.  , 251.25, 252.5 , 253.75, 255.  , 256.25, 257.5 , 258.75,\n",
       "       260.  , 261.25, 262.5 , 263.75, 265.  , 266.25, 267.5 , 268.75,\n",
       "       270.  , 271.25, 272.5 , 273.75, 275.  , 276.25, 277.5 , 278.75,\n",
       "       280.  , 281.25, 282.5 , 283.75, 285.  , 286.25, 287.5 , 288.75,\n",
       "       290.  , 291.25, 292.5 , 293.75, 295.  , 296.25, 297.5 , 298.75,\n",
       "       300.  ])"
      ]
     },
     "execution_count": 37,
     "metadata": {},
     "output_type": "execute_result"
    }
   ],
   "source": [
    "lon"
   ]
  },
  {
   "cell_type": "code",
   "execution_count": 43,
   "metadata": {
    "ExecuteTime": {
     "end_time": "2020-09-08T19:44:26.944104Z",
     "start_time": "2020-09-08T19:44:26.940106Z"
    }
   },
   "outputs": [],
   "source": [
    "# Let's look at the four points used in Ferguson and Wood (2011)\n",
    "latPoint = np.asarray([36.6, 27.7, 35.0, 39.1])\n",
    "lonPoint = np.asarray([-116.0, -82.4, -106.6, -95.6])\n",
    "\n",
    "lonPoint = (lonPoint % 360.0)     # Convert to be 0-360 based \n",
    "\n",
    "# Find gridcells containing points\n",
    "\n"
   ]
  },
  {
   "cell_type": "code",
   "execution_count": 44,
   "metadata": {
    "ExecuteTime": {
     "end_time": "2020-09-08T19:44:30.599674Z",
     "start_time": "2020-09-08T19:44:30.596678Z"
    }
   },
   "outputs": [
    {
     "data": {
      "text/plain": [
       "array([244. , 277.6, 253.4, 264.4])"
      ]
     },
     "execution_count": 44,
     "metadata": {},
     "output_type": "execute_result"
    }
   ],
   "source": [
    "lonPoint"
   ]
  },
  {
   "cell_type": "code",
   "execution_count": null,
   "metadata": {},
   "outputs": [],
   "source": []
  },
  {
   "cell_type": "code",
   "execution_count": null,
   "metadata": {},
   "outputs": [],
   "source": []
  },
  {
   "cell_type": "markdown",
   "metadata": {},
   "source": [
    "## I think we *have* to try the classification scheme of Ferguson and Wood (2011)"
   ]
  },
  {
   "cell_type": "code",
   "execution_count": 56,
   "metadata": {
    "ExecuteTime": {
     "end_time": "2020-09-04T17:42:59.486420Z",
     "start_time": "2020-09-04T17:42:59.482901Z"
    }
   },
   "outputs": [
    {
     "name": "stdout",
     "output_type": "stream",
     "text": [
      "Latitude range:  20.261780104712045 59.84293193717278\n"
     ]
    }
   ],
   "source": [
    "print('Latitude range: ', min(ds_utc12.lat.values), max(ds_utc12.lat.values))"
   ]
  },
  {
   "cell_type": "code",
   "execution_count": null,
   "metadata": {},
   "outputs": [],
   "source": []
  },
  {
   "cell_type": "code",
   "execution_count": null,
   "metadata": {},
   "outputs": [],
   "source": []
  }
 ],
 "metadata": {
  "kernelspec": {
   "display_name": "Python 3",
   "language": "python",
   "name": "python3"
  },
  "language_info": {
   "codemirror_mode": {
    "name": "ipython",
    "version": 3
   },
   "file_extension": ".py",
   "mimetype": "text/x-python",
   "name": "python",
   "nbconvert_exporter": "python",
   "pygments_lexer": "ipython3",
   "version": "3.8.5"
  }
 },
 "nbformat": 4,
 "nbformat_minor": 4
}
