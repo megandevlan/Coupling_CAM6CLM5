{
 "cells": [
  {
   "cell_type": "markdown",
   "metadata": {},
   "source": [
    "## The Goal: Test length of time needed to find significant differences in coupling index between CESM1 and CESM2. \n",
    "<br>\n",
    "<b>Author:</b> Meg Fowler <br>\n",
    "<b>Date:</b> 9 Sep 2020 <br><br>"
   ]
  },
  {
   "cell_type": "code",
   "execution_count": 1,
   "metadata": {
    "ExecuteTime": {
     "end_time": "2020-09-09T14:03:46.416975Z",
     "start_time": "2020-09-09T14:03:43.484373Z"
    }
   },
   "outputs": [],
   "source": [
    "# Import libraries \n",
    "# Import libraries \n",
    "import comet as cm \n",
    "import numpy as np \n",
    "import xarray as xr \n",
    "import pickle\n",
    "import pandas as pd\n",
    "import datetime \n",
    "\n",
    "# Plotting utils \n",
    "import matplotlib.pyplot as plt \n",
    "import matplotlib.colors as colors\n",
    "import cartopy\n",
    "import cartopy.feature as cfeature\n",
    "import cartopy.crs as ccrs\n",
    "import cartopy.util\n"
   ]
  },
  {
   "cell_type": "markdown",
   "metadata": {},
   "source": [
    "## Read in data for CESM1 and CESM2 simulations "
   ]
  },
  {
   "cell_type": "code",
   "execution_count": 2,
   "metadata": {
    "ExecuteTime": {
     "end_time": "2020-09-09T14:05:22.787945Z",
     "start_time": "2020-09-09T14:05:22.785492Z"
    }
   },
   "outputs": [],
   "source": [
    "#cesm1dir   = '/Users/meganfowler/Documents/NCAR/Analysis/Coupling_initial/data/CESM1/'\n",
    "cesm1dir = '/glade/work/mdfowler/data/CESM1/'\n",
    "cesm2dir = '/Users/meganfowler/Documents/NCAR/Analysis/Coupling_initial/data/day/'\n",
    "\n",
    "# CESM2 file name structures\n",
    "middleName_cesm2 = '_day_CESM2_amip_r10i1p1f1_gn_'\n",
    "varNames_cesm2   = ['hfls','hfss','mrso','mrsos','tas','hurs','ps']\n",
    "timeName_flx2    = ['19700101-19791231','19800101-19891231', \n",
    "                    '19900101-19991231','20000101-20091231']\n",
    "timeName_soil2   = ['19500101-19991231','20000101-20150101']\n",
    "\n",
    "# CESM1 file name structures \n",
    "endCLM_cesm1   = '_soilliqOnly.nc'\n",
    "endIce_cesm1   = '_soiliceOnly.nc'\n",
    "endFLX_cesm1   = '_sfcFluxes.nc'\n",
    "timeName_cesm1 = ['1979-1989', '1990-1999', '2000-2006']\n"
   ]
  },
  {
   "cell_type": "code",
   "execution_count": null,
   "metadata": {},
   "outputs": [],
   "source": [
    "# Read in test file to get lat/lon (which is same between sims)\n",
    "fileName = cesm2dir+varNames_cesm2[0]+middleName_cesm2+timeName_flx2[0]+'.nc'\n",
    "testDF   = xr.open_dataset(fileName, decode_times=True)\n",
    "\n",
    "# Get lat and lon \n",
    "lat = testDF.lat.values\n",
    "lon = testDF.lon.values \n"
   ]
  },
  {
   "cell_type": "markdown",
   "metadata": {},
   "source": [
    "### Read in CESM1 data"
   ]
  },
  {
   "cell_type": "code",
   "execution_count": null,
   "metadata": {},
   "outputs": [],
   "source": [
    "# Read in files and get time as usable format \n",
    "file1 = cesm1dir+startCAM+timeName[0]+endFLX \n",
    "flxDF = xr.open_dataset(file1, decode_times=True)\n",
    "flxDF['time'] = flxDF.indexes['time'].to_datetimeindex()\n",
    "print('File 1 finished reading in...')\n",
    "\n",
    "file2  = cesm1dir+startCAM+timeName[1]+endFLX \n",
    "flxDF2 = xr.open_dataset(file2, decode_times=True) \n",
    "flxDF2['time'] = flxDF2.indexes['time'].to_datetimeindex()\n",
    "print('File 2 finished reading in...')\n",
    "\n",
    "file3  = cesm1dir+startCAM+timeName[2]+endFLX \n",
    "flxDF3 = xr.open_dataset(file3, decode_times=True) \n",
    "flxDF3['time'] = flxDF3.indexes['time'].to_datetimeindex()\n",
    "print('File 3 finished reading in...')\n",
    "\n",
    "# Concat in one array \n",
    "flux_full  = xr.concat([flxDF,  flxDF2, flxDF3], dim=\"time\")\n"
   ]
  },
  {
   "cell_type": "code",
   "execution_count": null,
   "metadata": {},
   "outputs": [],
   "source": [
    "# Read in files and get time as usable format \n",
    "file1 = cesm1dir+startCLM+timeName[0]+endCLM \n",
    "soilDF = xr.open_dataset(file1, decode_times=True)\n",
    "soilDF['time'] = soilDF.indexes['time'].to_datetimeindex()\n",
    "print('File 1 finished reading in...')\n",
    "soilDF = soilDF.where(soilDF.levgrnd<2.12193400e-01, drop=True)  # Ignore lower down levels \n",
    "\n",
    "file2  = cesm1dir+startCLM+timeName[1]+endCLM \n",
    "soilDF2 = xr.open_dataset(file2, decode_times=True) \n",
    "soilDF2['time'] = soilDF2.indexes['time'].to_datetimeindex()\n",
    "print('File 2 finished reading in...')\n",
    "soilDF2 = soilDF2.where(soilDF2.levgrnd<2.12193400e-01, drop=True)\n",
    "\n",
    "file3  = cesm1dir+startCLM+timeName[2]+endCLM \n",
    "soilDF3 = xr.open_dataset(file3, decode_times=True) \n",
    "soilDF3['time'] = soilDF3.indexes['time'].to_datetimeindex()\n",
    "print('File 3 finished reading in...')\n",
    "soilDF3 = soilDF3.where(soilDF3.levgrnd<2.12193400e-01, drop=True)\n",
    "\n",
    "\n",
    "# Concat in one array \n",
    "soil_full  = xr.concat([soilDF,  soilDF2, soilDF3], dim=\"time\")\n"
   ]
  },
  {
   "cell_type": "code",
   "execution_count": null,
   "metadata": {},
   "outputs": [],
   "source": [
    "# Read in files and get time as usable format \n",
    "file1 = cesm1dir+startCLM+timeName[0]+endIce \n",
    "soilDF = xr.open_dataset(file1, decode_times=True)\n",
    "soilDF['time'] = soilDF.indexes['time'].to_datetimeindex()\n",
    "print('File 1 finished reading in...')\n",
    "soilDF = soilDF.where(soilDF.levgrnd<2.12193400e-01, drop=True)  # Ignore lower down levels \n",
    "\n",
    "file2  = cesm1dir+startCLM+timeName[1]+endIce \n",
    "soilDF2 = xr.open_dataset(file2, decode_times=True) \n",
    "soilDF2['time'] = soilDF2.indexes['time'].to_datetimeindex()\n",
    "print('File 2 finished reading in...')\n",
    "soilDF2 = soilDF2.where(soilDF2.levgrnd<2.12193400e-01, drop=True)\n",
    "\n",
    "file3  = cesm1dir+startCLM+timeName[2]+endIce \n",
    "soilDF3 = xr.open_dataset(file3, decode_times=True) \n",
    "soilDF3['time'] = soilDF3.indexes['time'].to_datetimeindex()\n",
    "print('File 3 finished reading in...')\n",
    "soilDF3 = soilDF3.where(soilDF3.levgrnd<2.12193400e-01, drop=True)\n",
    "\n",
    "# Concat in one array \n",
    "soilIce_full  = xr.concat([soilDF,  soilDF2, soilDF3], dim=\"time\")\n"
   ]
  },
  {
   "cell_type": "code",
   "execution_count": null,
   "metadata": {},
   "outputs": [],
   "source": [
    "# Load pressure level of LCL (computed separately in Get_LCLpressure.py and saved as pickle file)\n",
    "lclPath = '/glade/work/mdfowler/scripts/Coupling_CAM6CLM5/processed_data/LCL-pressure-HeightAboveGround_CESM1.p'\n",
    "Plcl    = pickle.load( open( lclPath, \"rb\" ) )\n"
   ]
  },
  {
   "cell_type": "code",
   "execution_count": null,
   "metadata": {},
   "outputs": [],
   "source": [
    "# To be able to easily access years, months, days - use Pandas \n",
    "dates    = pd.DatetimeIndex(soil_full['time'].values)\n"
   ]
  },
  {
   "cell_type": "code",
   "execution_count": null,
   "metadata": {},
   "outputs": [],
   "source": [
    "# Read in land fraction \n",
    "filePath = '/glade/work/mdfowler/data/CESM1/cam5.1_amip_1d_002.clm2.h1.1979-01-01-00000.nc'\n",
    "exDF = xr.open_dataset(filePath,decode_times=False)\n",
    "\n",
    "landMask              = exDF.landmask.values.astype(float)\n",
    "landMask[landMask==0] = np.nan\n",
    "\n",
    "landArea = exDF.area.values * exDF.landfrac.values"
   ]
  },
  {
   "cell_type": "markdown",
   "metadata": {},
   "source": [
    "**Get 10 cm soil moisture by itself**"
   ]
  },
  {
   "cell_type": "code",
   "execution_count": null,
   "metadata": {},
   "outputs": [],
   "source": [
    "# Sum over top 4 levels to get top 11cm of soil water/ice \n",
    "soilLiq_11cm = np.nansum(soil_full.SOILLIQ.values,    axis=1)*landMask\n",
    "soilIce_11cm = np.nansum(soilIce_full.SOILICE.values, axis=1)*landMask\n",
    "\n",
    "# Get as close to \"mrsos\" as possible by including liq and ice, and dividing by land area \n",
    "soil_11cm = (soilLiq_11cm + soilIce_11cm)\n"
   ]
  },
  {
   "cell_type": "markdown",
   "metadata": {},
   "source": [
    "### Read in CESM2 data"
   ]
  },
  {
   "cell_type": "code",
   "execution_count": null,
   "metadata": {},
   "outputs": [],
   "source": []
  },
  {
   "cell_type": "markdown",
   "metadata": {},
   "source": [
    "**Get same time period for CESM2 data as in CESM1**"
   ]
  },
  {
   "cell_type": "code",
   "execution_count": null,
   "metadata": {},
   "outputs": [],
   "source": []
  },
  {
   "cell_type": "markdown",
   "metadata": {},
   "source": [
    "## Compute coupling index for CESM1 and CESM2 in select period"
   ]
  },
  {
   "cell_type": "code",
   "execution_count": null,
   "metadata": {},
   "outputs": [],
   "source": []
  },
  {
   "cell_type": "code",
   "execution_count": null,
   "metadata": {},
   "outputs": [],
   "source": []
  },
  {
   "cell_type": "code",
   "execution_count": null,
   "metadata": {},
   "outputs": [],
   "source": []
  },
  {
   "cell_type": "markdown",
   "metadata": {},
   "source": [
    "## Plot coupling index for both simulations - are there big differences between the two?"
   ]
  },
  {
   "cell_type": "code",
   "execution_count": null,
   "metadata": {},
   "outputs": [],
   "source": []
  },
  {
   "cell_type": "code",
   "execution_count": null,
   "metadata": {},
   "outputs": [],
   "source": []
  },
  {
   "cell_type": "code",
   "execution_count": null,
   "metadata": {},
   "outputs": [],
   "source": []
  }
 ],
 "metadata": {
  "kernelspec": {
   "display_name": "Python 3",
   "language": "python",
   "name": "python3"
  },
  "language_info": {
   "codemirror_mode": {
    "name": "ipython",
    "version": 3
   },
   "file_extension": ".py",
   "mimetype": "text/x-python",
   "name": "python",
   "nbconvert_exporter": "python",
   "pygments_lexer": "ipython3",
   "version": "3.8.5"
  }
 },
 "nbformat": 4,
 "nbformat_minor": 4
}
